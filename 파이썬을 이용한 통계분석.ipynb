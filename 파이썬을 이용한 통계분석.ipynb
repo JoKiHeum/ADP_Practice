{
 "cells": [
  {
   "cell_type": "markdown",
   "id": "19f4eae3",
   "metadata": {},
   "source": [
    "1.어떤 초등학교에서 지난 10년간 조사결과 평균적으로 4%의 학생이 색맹인 것으로 나타났다고 하자 올해에도 색맹인 학생의 비율이 예년과 같다고 가정할 때 임의로 추출된 200명의 학생 중 색맹인 학생이 10명 이하일 확률은 얼마인가?"
   ]
  },
  {
   "cell_type": "code",
   "execution_count": 2,
   "id": "7a49397d",
   "metadata": {},
   "outputs": [
    {
     "data": {
      "text/plain": [
       "0.8199789826230907"
      ]
     },
     "execution_count": 2,
     "metadata": {},
     "output_type": "execute_result"
    }
   ],
   "source": [
    "# n = 200, p= 0.04 x = 10\n",
    "from scipy import stats\n",
    "stats.binom.cdf(10,200,0.04)"
   ]
  },
  {
   "cell_type": "markdown",
   "id": "25fd5775",
   "metadata": {},
   "source": [
    "2.평균이 8인 포아송분포에서 10 이하일 확률을 구하라"
   ]
  },
  {
   "cell_type": "code",
   "execution_count": 4,
   "id": "1c28902e",
   "metadata": {},
   "outputs": [
    {
     "data": {
      "text/plain": [
       "0.8158857925585467"
      ]
     },
     "execution_count": 4,
     "metadata": {},
     "output_type": "execute_result"
    }
   ],
   "source": [
    "stats.poisson.cdf(10,8)"
   ]
  },
  {
   "cell_type": "code",
   "execution_count": null,
   "id": "2b55b93a",
   "metadata": {},
   "outputs": [],
   "source": []
  }
 ],
 "metadata": {
  "kernelspec": {
   "display_name": "Python 3 (ipykernel)",
   "language": "python",
   "name": "python3"
  },
  "language_info": {
   "codemirror_mode": {
    "name": "ipython",
    "version": 3
   },
   "file_extension": ".py",
   "mimetype": "text/x-python",
   "name": "python",
   "nbconvert_exporter": "python",
   "pygments_lexer": "ipython3",
   "version": "3.9.12"
  }
 },
 "nbformat": 4,
 "nbformat_minor": 5
}
