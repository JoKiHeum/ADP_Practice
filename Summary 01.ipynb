{
 "cells": [
  {
   "cell_type": "code",
   "execution_count": 3,
   "metadata": {
    "id": "-VcGGv1HU8Tt"
   },
   "outputs": [],
   "source": [
    "import numpy as np \n",
    "import pandas as pd \n",
    "import matplotlib.pyplot as plt \n",
    "import seaborn as sns \n",
    "import statsmodels.api as sm\n",
    "\n",
    "from scipy import stats\n",
    "from sklearn import datasets\n",
    "import warnings \n",
    "warnings.filterwarnings('ignore')\n",
    "\n",
    "sns.set_style('whitegrid') \n",
    "pd.options.display.float_format = '{:,.2f}'.format"
   ]
  },
  {
   "cell_type": "markdown",
   "metadata": {
    "id": "7PjaRR3Mtrh-"
   },
   "source": [
    "#### 통계기초"
   ]
  },
  {
   "cell_type": "markdown",
   "metadata": {
    "id": "h77iKznJM3Uw"
   },
   "source": [
    "```python\n",
    "- 산술평균, 기하평균, 조화평균\n",
    "  - 산술 = ∑x / n #산술\n",
    "  - 기하 = ∏x ** 1/n #ex. 평균 증가율\n",
    "  - 조화 = n * ∏x / ∑x #ex. 평균 속력\n",
    "\n",
    "- 승산비(odds비): p/(1-p)\n",
    "\n",
    "- np.var(ddof=1), np.std(ddof=1)\n",
    "\n",
    "- 표본상관계수: np.corrcoef(x, y)\n",
    "```"
   ]
  },
  {
   "cell_type": "markdown",
   "metadata": {
    "id": "GlYT1qEjOJsx"
   },
   "source": [
    "##### 이항분포\n",
    "$$ Bin(m|N, p) = _NC_m · p^m · (1-p)^{N-m} $$"
   ]
  },
  {
   "cell_type": "code",
   "execution_count": 4,
   "metadata": {
    "id": "YXnSoPNubgLP"
   },
   "outputs": [
    {
     "data": {
      "image/png": "[encoded data removed]",
      "text/plain": [
       "<Figure size 432x288 with 1 Axes>"
      ]
     },
     "metadata": {},
     "output_type": "display_data"
    }
   ],
   "source": [
    "stats.binom.pmf(k=1, n=2, p=0.5) #확률질량함수 - 성공횟수, 시행횟수, 성공확률\n",
    "stats.binom.cdf(k=10, n=200, p=0.04) #누적\n",
    "stats.binom.rvs(n=10, p=0.2, size=5) #시행횟수, 성공확률, 생성갯수\n",
    "\n",
    "# 이항분포 확률변수 히스토그램\n",
    "binomial = stats.binom(n=10, p=0.2) \n",
    "rvs = binomial.rvs(size=10000)\n",
    "m = np.arange(0, 10, 1) \n",
    "pmf = binomial.pmf(k=m) \n",
    "sns.distplot(rvs, bins=m, kde=False, norm_hist=True, color='gray')\n",
    "plt.plot(m, pmf, color='black') \n",
    "plt.show()"
   ]
  },
  {
   "cell_type": "markdown",
   "metadata": {
    "id": "4MYMlCSzOO3P"
   },
   "source": [
    "##### 포아송분포\n",
    "\n",
    "$$ Pois(x|λ) = {e^{-λ}λ^x \\over x!} $$"
   ]
  },
  {
   "cell_type": "code",
   "execution_count": 5,
   "metadata": {
    "id": "6FgJDXFnLkvj"
   },
   "outputs": [
    {
     "data": {
      "image/png": "[encoded data removed]",
      "text/plain": [
       "<Figure size 432x288 with 1 Axes>"
      ]
     },
     "metadata": {},
     "output_type": "display_data"
    }
   ],
   "source": [
    "stats.poisson.pmf(k=2, mu=5) #강도 5인 분포에서 2를 얻을 확률\n",
    "stats.poisson.rvs(mu=2, size=5) #강도 5 포아송 분포에서 5개 수 받음\n",
    "\n",
    "poisson = stats.poisson(mu = 2) \n",
    "rvs = poisson.rvs(size=10000)\n",
    "m = np.arange(0, 10, 1) \n",
    "pmf = poisson.pmf(k=m) \n",
    "sns.distplot(rvs, bins=m, kde=False, norm_hist=True, color='gray')\n",
    "plt.plot(m, pmf, color='black') \n",
    "plt.show()"
   ]
  },
  {
   "cell_type": "markdown",
   "metadata": {
    "id": "SZNE3aOp11wj"
   },
   "source": [
    "##### 정규분포"
   ]
  },
  {
   "cell_type": "code",
   "execution_count": 6,
   "metadata": {
    "id": "nf3pFxj1H1rk"
   },
   "outputs": [
    {
     "ename": "TypeError",
     "evalue": "interval() missing 1 required positional argument: 'alpha'",
     "output_type": "error",
     "traceback": [
      "\u001b[1;31m---------------------------------------------------------------------------\u001b[0m",
      "\u001b[1;31mTypeError\u001b[0m                                 Traceback (most recent call last)",
      "Input \u001b[1;32mIn [6]\u001b[0m, in \u001b[0;36m<cell line: 1>\u001b[1;34m()\u001b[0m\n\u001b[1;32m----> 1\u001b[0m \u001b[43mstats\u001b[49m\u001b[38;5;241;43m.\u001b[39;49m\u001b[43mnorm\u001b[49m\u001b[38;5;241;43m.\u001b[39;49m\u001b[43minterval\u001b[49m\u001b[43m(\u001b[49m\u001b[43m)\u001b[49m\n\u001b[0;32m      3\u001b[0m \u001b[38;5;66;03m# 중위수검정\u001b[39;00m\n\u001b[0;32m      4\u001b[0m stats\u001b[38;5;241m.\u001b[39mmedian_test(x, y, z)\n",
      "\u001b[1;31mTypeError\u001b[0m: interval() missing 1 required positional argument: 'alpha'"
     ]
    }
   ],
   "source": [
    "stats.norm.interval()\n",
    "\n",
    "# 중위수검정\n",
    "stats.median_test(x, y, z)"
   ]
  },
  {
   "cell_type": "markdown",
   "metadata": {
    "id": "S-nHKryGTGyt"
   },
   "source": [
    "##### t분포"
   ]
  },
  {
   "cell_type": "markdown",
   "metadata": {
    "id": "VAgrSjnvTUD-"
   },
   "source": [
    "||||||\n",
    "|-|-|-|-|-|\n",
    "|일표본 검정|||||\n",
    "|① 정규성 검정|||||\n",
    "|stats.shapiro(x)|-Yes→|② stats.ttest_1samp(x, μ)|||\n",
    "|H0:정규성 가짐|-No→|② stats.wilcoxon(x-μ)|||\n",
    "|대응표본 검정|(쌍표본)||||\n",
    "|stats.shapiro(x)|-Yes→|② stats.ttest_rel(x1, x2)|||\n",
    "|H0:정규성 가짐|-No→|② stats.wilcoxon(x1, x2)|||\n",
    "|독립표본 검정|||||\n",
    "|stats.shapiro(x)|||||\n",
    "|H0:정규성 가짐|-No→|② stats.wilcoxon(x1, x2)|||\n",
    "||-Yes→|등분산 검정||||\n",
    "|||② stats.levene(x, y)|-Yes→|③ stats.ttest_ind(x, 1, equal_var=True)|\n",
    "|||H0: 등분산임|-No→|③ stats.ttest_ind(x, 1, equal_var=False)|"
   ]
  },
  {
   "cell_type": "code",
   "execution_count": null,
   "metadata": {
    "id": "VPpCc1GxTGDQ"
   },
   "outputs": [],
   "source": [
    "# t분포\n",
    "stats.t.interval(0.9, loc=x.mean(), scale=x.std()/np.sqrt(x.shape[0]-1), df=x.shape[0]-1)\n",
    "stats.ttest_1samp(x, 200, alternative='less') # >: less, <: greater, ≠: alternative\n",
    "\n",
    "x = np.array(stats.t(df=50, loc=453, scale=80).rvs(50))\n",
    "y = np.array(stats.t(df=100, loc=401, scale=60).rvs(100))\n",
    "stats.ttest_ind(x, y, equal_var=False) #독립검정, 항상 False로 두고 Welch 검정을 사용해도 무방\n",
    "stats.ttest_rel(x, y) #쌍검정"
   ]
  },
  {
   "cell_type": "markdown",
   "metadata": {
    "id": "riSch7kq8LmK"
   },
   "source": [
    "##### 카이제곱검정"
   ]
  },
  {
   "cell_type": "code",
   "execution_count": null,
   "metadata": {
    "id": "b4B-iF2W8LLS"
   },
   "outputs": [],
   "source": [
    "table = pd.pivot_table(data, values, aggfunc='sum', index, columns) \n",
    "stats.chi2_contingency(table, correction=False) #통계량, p값, 자유도, 기대도수\n",
    "# H0: 차이없음 H1: 차이있음"
   ]
  },
  {
   "cell_type": "code",
   "execution_count": null,
   "metadata": {
    "id": "dFjoahNl-Cd3"
   },
   "outputs": [],
   "source": [
    "O, p = np.array([18,55,27]), np.array([.25,.5,.25])\n",
    "n = 100 \n",
    "E = n * p \n",
    "stats.chisquare(O, E) \n",
    "# statistic=2.62, pvalue=0.26982005638468687\n",
    "# H0: fit H1: no-fit"
   ]
  },
  {
   "cell_type": "markdown",
   "metadata": {
    "id": "GpuDqSaXEdi_"
   },
   "source": [
    "- **독립인** 두 모집단에 대한 신뢰구간 \n",
    "$$ (\\bar X - \\bar Y) ± z_{\\alpha /2} \\sqrt {s_1^2 /n_1 + s_2^2 /n_2}  $$\n",
    "$$ (\\bar X - \\bar Y) ± t_{\\alpha /2}(n_1 + n_2 -2)s_p \\sqrt {1 /n_1 + 1 /n_2}  $$\n",
    "\n",
    "- 모분산의 신뢰구간\n",
    "$$ P[{(n-1)S^2 \\over \\chi^2(n-1, {\\alpha \\over 2})}< \\sigma^2 < {(n-1)S^2 \\over \\chi^2(n-1, {1 - {\\alpha \\over 2}})}] = 1 - \\alpha $$\n",
    "> 표본 10개의 분산이 90일 때 신뢰도 95% 모분산의 신뢰구간\n",
    "> ```python\n",
    "    9*90/stats.chi2.ppf(0.975, 9)\n",
    "    9*90/stats.chi2.ppf(0.025, 9)\n",
    "> ```\n",
    "\n",
    "\n",
    "\n",
    "- 표본크기 결정\n",
    "  - 오차가 `d`이하로 될 확률이 최소 `100(1-α)%`인 `n`\n",
    "$$ n ≥ (z_{\\alpha/2} {\\sigma \\over d})^2$$\n",
    "$$ n ≥ (t_{\\alpha/2}(n-1) {\\sigma \\over d})^2$$\n",
    "  - `p`값이 주어졌을 때(`p`가 없으면 `default=1/2`)\n",
    "$$ n ≥ p(1-p)({z_{\\alpha/2} \\over d})^2$$\n",
    "\n",
    "\n",
    "> 철강제품의 불량률을 조사하고자 한다. 이 때, 불량률의 90%, 추정오차한계가 5% 이내가 되기 위하여 신뢰도 95% 상에서 적절한 표본의 크기 중 최소값은 얼마인가?\n",
    "> ```python \n",
    "   d = 0.05\n",
    "   a = 0.05\n",
    "   z = stats.norm.ppf(1-a/2) #1.96\n",
    "   p = 0.9\n",
    "   n = p * (1-p) * (z/d)**2 #138.29251754498844\n",
    "> ```\n",
    "> 답: 139\n",
    "\n",
    "> 시제품의 농도가 60%라고 주장할때 유의수준 5%에서 유효 샘플의 수를 계산하라(오차한계 `5`, 표준편차 `17.4`, 샘플 수 `10`).\n",
    "> ```python \n",
    "d = 5\n",
    "s = 17.4\n",
    "a = 0.05\n",
    "t = stats.t.ppf(0.05, df=9) #1.96\n",
    "(t*s/d)**2  #40.6946137401\n",
    "> ```\n",
    ">답: 41"
   ]
  },
  {
   "cell_type": "markdown",
   "metadata": {
    "id": "W2lnexnGU3t2"
   },
   "source": [
    "#### 분산분석"
   ]
  },
  {
   "cell_type": "markdown",
   "metadata": {
    "id": "-tninBF4_3Hs"
   },
   "source": [
    "\n",
    "|||두개 이상의 다수 집단 간 평균 비교||H0: 차이없다. H1: 차이있다.|\n",
    "|:-:|-|-|-|:-|\n",
    "|일원배치 분산분석|||||\n",
    "|① 정규성 검정|||||\n",
    "|stats.shapiro(x)|-No→|② stats.kruksal(x, y, z)|||\n",
    "|H0:정규성 가짐|-Yes→|등분산 검정||||\n",
    "|||② stats.levene(x, y, z)|-Yes→|③ stats.f_oneway(x, y, z)|\n",
    "|||H0: 등분산임|-No→|③ welch_anova|\n",
    "|이원배치 분산분석||하나의 종속변수(연속형), 두개의 독립변수(범주형)|||\n",
    "|||① model = smf.ols('y~x', data).fit()|||\n",
    "|||② anova = sm.stats.anova_lm(model, typ=2)|||\n"
   ]
  },
  {
   "cell_type": "code",
   "execution_count": null,
   "metadata": {
    "id": "yAPloFoHU5C7"
   },
   "outputs": [],
   "source": [
    "import statsmodels.formula.api as smf\n",
    "import statsmodels.api as sm\n",
    "\n",
    "model = smf.ols('y~x', data).fit()\n",
    "model.summary() #F-statistic: F비, Prob(F): p-value, 낮을수록 신뢰성 높\n",
    "\n",
    "anova = sm.stats.anova_lm(model, typ=2) #분석분산표, type 2 anova: 독립변수 순서에 영향없음\n",
    "                                        #           type 3 anova: 제곱 상호작용\n",
    "anova.params #계수\n",
    "anova.fittedvalues #계수 적용값 \n",
    "anova.resid #잔차(적용값-실제값)\n"
   ]
  },
  {
   "cell_type": "markdown",
   "metadata": {
    "id": "YDL45G1uC2jT"
   },
   "source": [
    "#### 베이즈 정리"
   ]
  },
  {
   "cell_type": "markdown",
   "metadata": {
    "id": "eOerK0S5C35d"
   },
   "source": [
    "$$ P(A|B) = {P(B|A)P(A) \\over {P(B|A)P(A) + P(B|A^c)P(A^c)}}$$"
   ]
  },
  {
   "cell_type": "markdown",
   "metadata": {
    "id": "cD4Fpwi_Jq_d"
   },
   "source": [
    "#### 시계열\n",
    " - 정상성 확인\n",
    " - decompose 진행"
   ]
  },
  {
   "cell_type": "code",
   "execution_count": null,
   "metadata": {
    "id": "Bk6ibrrSJs5G"
   },
   "outputs": [],
   "source": [
    "#결측치 처리\n",
    "df.value = df.value.interpolate(method='polynomial', order=2) #order=degree\n",
    "                                                              #method 'time'\n",
    "df.value = df.value.fillna(method='bfill') #ffill\n",
    "\n",
    "#날짜 데이터 삽입 \n",
    "df['date'] = pd.date_range('1990-01', '2014-12', freq='MS') # MS,\n",
    "\n",
    "df.diff(1) #차분\n",
    "\n",
    "# 성분 확인\n",
    "from statsmodels.tsa.seasonal import seasonal_decompose\n",
    "seasonal_decompose(data, model='additive').plot() #multiplicative\n",
    "\n",
    "# 정상성 확인\n",
    "from statsmodels.tsa.stattools import adfuller \n",
    "adfuller(data, regression='ct') #nc, c, ct, ctt\n",
    "#ADF statistic, p-value\n",
    "#H0: 정상성stationary 갖지 않음. H1: 정상성stationary 가짐.\n",
    "#H1 이면 차분diff 진행\n",
    "\n",
    "# ACF, PACF 그래프\n",
    "from statsmodels.graphics.tsaplots import plot_acf, plot_pacf \n",
    "plot_acf(data) # AR(p)의 값 확인\n",
    "plot_pacf(data) # MA(q) 값 확인24w\n",
    "\n",
    "# ARIMA\n",
    "from statsmodels.tsa.arima.model import ARIMA \n",
    "model = ARIMA(data, order=(2, 1, 2), trend='ct') #(p, d, q)\n",
    "result = model.fit()\n",
    "result.summary()\n",
    "model.forecast(steps=len(test), alpha=0.05) \n",
    "model.predict(n_periods=len(test))\n",
    "\n",
    "# ARIMA search\n",
    "from pmdarima import auto_arima\n",
    "\n",
    "best_model = auto_arima(data, \n",
    "                        start_p=0, max_p=3,\n",
    "                        d=1,\n",
    "                        start_q=0, max_q=3,\n",
    "                        start_P=0, max_P=3,\n",
    "                        m=12,\n",
    "                        start_Q=0, max_Q=3,\n",
    "                        seasonal=True, \n",
    "                        information_criterion='aic',\n",
    "                        trace=True)\n",
    "\n",
    "plt.plot(training)\n",
    "plt.plot(predict)"
   ]
  },
  {
   "cell_type": "markdown",
   "metadata": {
    "id": "FN9BWVqpPdT9"
   },
   "source": [
    "#### 통계모델"
   ]
  },
  {
   "cell_type": "code",
   "execution_count": null,
   "metadata": {
    "id": "jQL9w4n8PfA_"
   },
   "outputs": [],
   "source": [
    "import statsmodels.formula.api as smf\n",
    "import statsmodels.api as sm\n",
    "\n",
    "#다중공선성 확인\n",
    "\n",
    "#선형모델\n",
    "model = smf.ols(formula='y~x', data=df).fit()\n",
    "model.summary() \n",
    "\n",
    "#로지스틱모델\n",
    "model = smf.glm(formula='y~x', data=df, family= sm.failies.Binomial()).fit() \n",
    "        # family- 확률분포 지정(Default Binomial(), Poisson(), default Logit)\n",
    "model.summary()\n",
    "model.predict(pd.DataFrame({'hours': np.arange(0, 10, 1)}))\n",
    "model.resid_pearson # 피어슨 잔차\n",
    "model.pearson_chi2 #피어슨 카이제곱통계량\n",
    "model.resid_deviance # deviance 잔차, 낮을수록 좋은 모델\n",
    "\n",
    "\n",
    "\n",
    "model = sklearn.linear_model.LinearRegression().fit(X, y) #Linear Regression 2\n",
    "model = sklearn.linear_model.LogisticRegression().fit(X, y) #Logistic Regression 2\n",
    "model = sm.Logit.from_formula('y~x', data=df).fit() # Logistic Regression 3"
   ]
  },
  {
   "cell_type": "code",
   "execution_count": null,
   "metadata": {
    "id": "5ZplMag-As5G"
   },
   "outputs": [],
   "source": [
    "def stepwise_backward(df, dependant):\n",
    "\n",
    "  cols = df.columns.drop([dependant])\n",
    "  model = sm.Logit.from_formula(dependant + ' ~ ' + '+'.join(cols), df).fit() \n",
    "  aic = model.aic    \n",
    "  print(model.summary())\n",
    "  print('aic:', aic)\n",
    "\n",
    "  best_aic = sys.maxsize\n",
    "  i = 0\n",
    "  while aic < best_aic:\n",
    "    i += 1\n",
    "    best_model = model\n",
    "    best_aic = aic\n",
    "\n",
    "    largest_pvalue_factor = sorted(dict(model.pvalues).items(), \n",
    "                                   key=lambda item: item[1], reverse=True)[0]\n",
    "    cols = cols.drop(largest_pvalue_factor[0])\n",
    "\n",
    "    model = sm.Logit.from_formula(dependant + ' ~ ' + '+'.join(cols), df).fit() \n",
    "    aic = model.aic    \n",
    "    print('STEP:', i, ' - ', largest_pvalue_factor)\n",
    "    print(model.summary())\n",
    "    print('aic:', aic)\n",
    "    print('best_aic:', best_aic)\n",
    "\n",
    "  return best_model"
   ]
  },
  {
   "cell_type": "code",
   "execution_count": null,
   "metadata": {
    "id": "vcAtJELDenP1"
   },
   "outputs": [],
   "source": [
    "# 정규화\n",
    "from sklearn.linear_model import LinearRegression, Ridge, Lasso, ElasticNet\n",
    "model = LinearRegression().fit(X, y) \n",
    "model = Ridge(alpha=0.5, fit_intercept=False).fit(X, y) #Lasso, ElasticNet. a클수록 정규화 강해짐\n",
    "\n",
    "# 최적 α\n",
    "from sklearn.linear_model import RidgeCV, lasso_path, LassoCV\n",
    "best_ridge = RidgeCV(cv=10, alphas=np.logspace(-2, 0.7, 50), fit_intercept=False).fit(X, y)\n",
    "best_ridge.alpha_ #최적 α값\n",
    "\n",
    "lasso_alphas, lasso_coefs, _ = lasso_path(X, y, fit_intercept=False) \n",
    "best_lasso = LassoCV(cv=10, alphas=lasso_alphas, fit_intercept=False).fit(X, y) \n",
    "best_lasso.alpha_ #최적 α값"
   ]
  },
  {
   "cell_type": "code",
   "execution_count": null,
   "metadata": {
    "colab": {
     "base_uri": "https://localhost:8080/"
    },
    "executionInfo": {
     "elapsed": 1719,
     "status": "ok",
     "timestamp": 1668761884420,
     "user": {
      "displayName": "차상원",
      "userId": "05779941869973708351"
     },
     "user_tz": -540
    },
    "id": "SJJgPh7voKof",
    "outputId": "a210a963-7550-42f0-fa21-c7a0a00afcb2"
   },
   "outputs": [
    {
     "data": {
      "text/plain": [
       "0.6666666666666666"
      ]
     },
     "execution_count": 14,
     "metadata": {},
     "output_type": "execute_result"
    }
   ],
   "source": [
    "# MLP 예시\n",
    "from sklearn import datasets \n",
    "from sklearn.neural_network import MLPClassifier, MLPRegressor\n",
    "from sklearn.model_selection import train_test_split\n",
    "from sklearn.preprocessing import StandardScaler \n",
    "\n",
    "iris = datasets.load_iris()\n",
    "X = iris.data[50:150, 0:2] \n",
    "y = iris.target[50:150]\n",
    "\n",
    "X_train, X_test, y_train, y_test = train_test_split(X, y, test_size=0.3, random_state=1234) #stratify = y\n",
    "\n",
    "scaler = StandardScaler() \n",
    "scaler.fit(X_train)\n",
    "X_train_scaled = scaler.transform(X_train)\n",
    "X_test_scaled = scaler.transform(X_test)\n",
    "\n",
    "model = MLPClassifier(hidden_layer_sizes = (100, 100), \n",
    "                      alpha = 0.07, \n",
    "                      max_iter = 10000,\n",
    "                      random_state = 1234)\n",
    "model.fit(X_train_scaled, y_train)\n",
    "\n",
    "model.score(X_test_scaled, y_test) "
   ]
  },
  {
   "cell_type": "markdown",
   "metadata": {
    "id": "8A_XXT0mA6cH"
   },
   "source": [
    "##### Decision Tree, 앙상블"
   ]
  },
  {
   "cell_type": "code",
   "execution_count": null,
   "metadata": {
    "id": "qxF2p0jJA6Fr"
   },
   "outputs": [],
   "source": [
    "# ***의사결정트리 시각화용 함수\n",
    "\n",
    "import io \n",
    "import pydot \n",
    "import numpy as np \n",
    "import matplotlib as mpl\n",
    "import matplotlib.pyplot as plt\n",
    "\n",
    "from IPython.core.display import Image \n",
    "from sklearn.tree import export_graphviz \n",
    "\n",
    "\n",
    "def draw_decision_tree(model, features):\n",
    "  dot_buf = io.StringIO() \n",
    "  export_graphviz(model, out_file=dot_buf, feature_names=features)\n",
    "  graph = pydot.graph_from_dot_data(dot_buf.getvalue())[0] \n",
    "  image = graph.create_png() \n",
    "  return Image(image) \n",
    "\n",
    "def plot_decision_regions(X, y, model, features, title):\n",
    "  resolution = 0.01 \n",
    "  markers = ('s', '^', 'o') \n",
    "  colors = ('red', 'blue', 'lightgreen')\n",
    "  cmap = mpl.colors.ListedColormap(colors) \n",
    "\n",
    "  x1_min, x1_max = X[:, 0].min() -1, X[:, 0].max() + 1\n",
    "  x2_min, x2_max = X[:, 1].min() -1, X[:, 1].max() + 1 \n",
    "  xx1, xx2 = np.meshgrid(np.arange(x1_min, x1_max, resolution),\n",
    "                         np.arange(x2_min, x2_max, resolution))\n",
    "  \n",
    "  Z = model.predict(np.array([xx1.ravel(), xx2.ravel()]).T).reshape(xx1.shape)\n",
    "\n",
    "  plt.contour(xx1, xx2, Z, cmap=mpl.colors.ListedColormap(['k']))\n",
    "  plt.contourf(xx1, xx2, Z, alpha=0.4, cmap=cmap) \n",
    "  plt.xlim(xx1.min(), xx1.max()) \n",
    "  plt.ylim(xx2.min(), xx2.max()) \n",
    "\n",
    "  for idx, cl in enumerate(np.unique(y)): \n",
    "    plt.scatter(x=X[y == cl, 0], y=X[y ==cl, 1], alpha=0.8, c=[cmap(idx)], \n",
    "                                            marker=markers[idx], s=80, label=cl)\n",
    "\n",
    "  plt.xlabel(features[0])\n",
    "  plt.ylabel(features[1])\n",
    "  plt.legend(loc='best')\n",
    "  plt.title(title) \n",
    "\n",
    "  return Z"
   ]
  },
  {
   "cell_type": "code",
   "execution_count": null,
   "metadata": {
    "id": "jhZRp9taBPew"
   },
   "outputs": [],
   "source": [
    "from sklearn.tree import DecisionTreeClassifier\n",
    "from sklearn.ensemble import BaggingClassifier, AdaBoostClassifier \n",
    "from sklearn.ensemble import GradientBoostingClassifier, RandomForestClassifier\n",
    "\n",
    "# DT\n",
    "model = DecisionTreeClassifier(criterion='entropy', max_depth=5, min_samples_split=15)\n",
    "model.fit(X_train, y_train)\n",
    "draw_decision_tree(model, X_train.columns)\n",
    "\n",
    "bag = BaggingClassifier(DecisionTreeClassifier(max_depth=5), n_estimators=15)\n",
    "bag.fit(X_train, y_train)\n",
    "\n",
    "ada = AdaBoostClassifier(DecisionTreeClassifier(max_depth=5), n_estimators=80)\n",
    "ada.fit(X_train, y_train)\n",
    "\n",
    "# RF\n",
    "rf = RandomForestClassifier(max_depth=5, n_estimators=50).fit(X_train, y_train)\n",
    "\n",
    "df = pd.DataFrame()\n",
    "df['colname'] = X_train.columns\n",
    "df['importances'] = rf.feature_importances_\n",
    "\n",
    "df = df.sort_values(by=['importances'], ascending=False)\n",
    "df = df.reset_index(drop=True)\n",
    "df"
   ]
  },
  {
   "cell_type": "markdown",
   "metadata": {
    "id": "_-u1xPgyXJiJ"
   },
   "source": [
    "#### 전처리"
   ]
  },
  {
   "cell_type": "markdown",
   "metadata": {
    "id": "Ghg105zNiB4m"
   },
   "source": [
    "##### EDA 순서"
   ]
  },
  {
   "cell_type": "code",
   "execution_count": null,
   "metadata": {
    "id": "wPwjM-m-g-Jl"
   },
   "outputs": [],
   "source": [
    "df.head()\n",
    "df.info()\n",
    "df.describe()\n",
    "sns.distplot(df.x) #히스토그램 확인\n",
    "stats.shapiro(df.x) #정규성 확인. H0: 정규성을 띈다.\n",
    "\n",
    "corr = df.corr(method='pearson') #spearman \n",
    "sns.heatmap(corr, xticklabels=corr.columns, yticklabels=corr.columns,\n",
    "            cmap='RdBu_r', annot=True, linewidth=3)\n",
    "\n",
    "plt.bar(df.x.values_counts().index, df.x.values_counts().values) #범주형 시각화\n",
    "\n",
    "sns.catplot(data=df, x='x', y='y') #범주형 시각화"
   ]
  },
  {
   "cell_type": "markdown",
   "metadata": {
    "id": "D_qoOzeJiAN1"
   },
   "source": [
    "##### 결측치 처리"
   ]
  },
  {
   "cell_type": "code",
   "execution_count": null,
   "metadata": {
    "id": "flfP2MzhiEAu"
   },
   "outputs": [],
   "source": [
    "df.value = df.value.interpolate(method='polynomial', order=2)\n",
    "df.value = df.value.fillna(method='bfill') #ffill\n",
    "df.dropna(inplace=True)\n",
    "df.x.fillna(df.x.mean(), inplace=True) #median, \n",
    "\n",
    "missingno.matrix(df)\n",
    "\n",
    "from sklearn.impute import KNNImputer \n",
    "KNN_df = df[['col1', 'col2']]\n",
    "imputer = KNNImputer() \n",
    "df_filled = imputer.fit_transform(KNN_df) \n",
    "df_filled = pd.DataFrame(df_filled, columns=KNN_df.columns) \n",
    "df[KNN_df.columns] = df_filled \n",
    "df.isna().sum() #결측치 확인"
   ]
  },
  {
   "cell_type": "code",
   "execution_count": null,
   "metadata": {
    "id": "A_4hFFr2ykn5"
   },
   "outputs": [],
   "source": [
    "# using pd boxplot\n",
    "_, bp = pd.DataFrame.boxplot(df['x'], return_type = 'both')\n",
    "\n",
    "outliers = [flier.get_ydata() for flier in bp[\"fliers\"]]\n",
    "boxes = [box.get_ydata() for box in bp[\"boxes\"]]\n",
    "medians = [median.get_ydata() for median in bp[\"medians\"]] \n",
    "whiskers = [whiskers.get_ydata() for whiskers in bp[\"whiskers\"]]"
   ]
  },
  {
   "cell_type": "markdown",
   "metadata": {
    "id": "8dd4jl5ijJAi"
   },
   "source": [
    "##### 이상치 처리"
   ]
  },
  {
   "cell_type": "code",
   "execution_count": null,
   "metadata": {
    "id": "xmYntXdrjLLs"
   },
   "outputs": [],
   "source": [
    "for col in df.columns:\n",
    "  q1 = df2[col].quantile(0.25) \n",
    "  q3 = df2[col].quantile(0.75) \n",
    "  iqr = q3 - q1\n",
    "  df2 = df2.query(col + '>' + str(q1 - 1.5*iqr) + ' and ' + col + '< ' + str(q3 + 1.5*iqr))"
   ]
  },
  {
   "cell_type": "markdown",
   "metadata": {
    "id": "J9MT_uPCniWe"
   },
   "source": [
    "##### ohe"
   ]
  },
  {
   "cell_type": "code",
   "execution_count": null,
   "metadata": {
    "id": "WUiTDkFGniHU"
   },
   "outputs": [],
   "source": [
    "pd.get_dummies(df, columns=['sex', 'guardian'], drop_first=True, dtype=int)"
   ]
  },
  {
   "cell_type": "markdown",
   "metadata": {
    "id": "0omfAulwCHfM"
   },
   "source": [
    "##### 데이터 분할"
   ]
  },
  {
   "cell_type": "code",
   "execution_count": null,
   "metadata": {
    "id": "kepomfjeXKnF"
   },
   "outputs": [],
   "source": [
    "from sklearn.model_selection import train_test_split\n",
    "X_train, X_test, y_train, y_test = train_test_split(X, y, test_size=0.3, random_state=1234) #stratify = y"
   ]
  },
  {
   "cell_type": "markdown",
   "metadata": {
    "id": "4Q8vlF7ICMLL"
   },
   "source": [
    "##### 표준화"
   ]
  },
  {
   "cell_type": "code",
   "execution_count": null,
   "metadata": {
    "id": "UhUc1n03CK8m"
   },
   "outputs": [],
   "source": [
    "from sklearn.preprocessing import StandardScaler, MinMaxScaler\n",
    "scaler = StandardScaler() #MinMaxScaler\n",
    "scaler.fit(X_train)\n",
    "X_train_scaled = scaler.transform(X_train)\n",
    "X_test_scaled = scaler.transform(X_test)\n",
    "\n",
    "#2\n",
    "from sklearn.preprocessing import scale \n",
    "scale(X_train)"
   ]
  },
  {
   "cell_type": "markdown",
   "metadata": {
    "id": "rloDmf65C8kQ"
   },
   "source": [
    "##### 오버샘플링"
   ]
  },
  {
   "cell_type": "code",
   "execution_count": null,
   "metadata": {
    "id": "t6LXazZTC9-T"
   },
   "outputs": [],
   "source": [
    "from imblearn.over_sampling import RandomOverSampler, SMOTE\n",
    "\n",
    "X_over, y_over = RandomOverSampler(random_state=1234).fit_resample(X, y)\n",
    "plt.scatter(X_over.x, y_over, s=0.03)\n",
    "\n",
    "X_smote, y_smote = SMOTE(random_state=1234).fit_resample(X, y)\n",
    "plt.scatter(X_smote.date, y_smote, s=0.03)"
   ]
  },
  {
   "cell_type": "markdown",
   "metadata": {
    "id": "rC8GjRAqSZjh"
   },
   "source": [
    "#### 모델측정, 모델평가"
   ]
  },
  {
   "cell_type": "markdown",
   "metadata": {
    "id": "ltbkyvOYCRQ3"
   },
   "source": [
    "##### K-Fold"
   ]
  },
  {
   "cell_type": "code",
   "execution_count": null,
   "metadata": {
    "id": "xljCsX7TCQxW"
   },
   "outputs": [],
   "source": [
    "from sklearn.model_selection import KFold, cross_val_score \n",
    "accuracy = cross_val_score(rf, X_test, y_test, scoring='accuracy', \n",
    "                           cv=KFold(5, shuffle=True, random_state=12100439)) \n",
    "accuracy.mean(), accuracy.std()"
   ]
  },
  {
   "cell_type": "code",
   "execution_count": null,
   "metadata": {
    "id": "gm_F1nKwSYG5"
   },
   "outputs": [],
   "source": [
    "from sklearn.metrics import mean_squared_error, r2_score # Regression \n",
    "from sklearn.metrics import classification_report, roc_auc_score # Classification\n",
    "from sklearn.metrics import confusion_matrix # Classification\n",
    "#      Pred 1   0\n",
    "# Actual 1[46,  4] \n",
    "#        0[ 2, 48]\n",
    "\n",
    "r2_score(test_y, pred_y) \n",
    "mean_squared_error(test_y, pred_y, squared=False) #RMSE\n",
    "classification_report(test_y, pred)"
   ]
  },
  {
   "cell_type": "markdown",
   "metadata": {
    "id": "cXp-B6LoZ_Dp"
   },
   "source": [
    "|Name| API|\n",
    "|:----|----|\n",
    "|Area Under the Receiver Operating Characteristic Curve (ROC AUC) | roc_auc_score(y_true, y_score[, …])|\n",
    "|Receiver operating characteristic (ROC) | roc_curve(y_true, y_score[, …])|\n",
    "|Average precision (AP) | average_precision_score(y_true, y_score)|\n",
    "|Precision-recall pairs | precision_recall_curve(y_true, …)|\n",
    "|Precision, recall, F-measure and support | precision_recall_fscore_support(…)|\n",
    "|F1 Score | f1_score(y_true, y_pred[, labels, …])|\n",
    "|F-beta Score | fbeta_score(y_true, y_pred, beta[, …])|\n",
    "|Precision | precision_score(y_true, y_pred[, …]|\n",
    "|Recall | recall_score(y_true, y_pred[, …])|\n",
    "|Main classification metrics | classification_report(y_true, y_pred)|\n",
    "|confusion matrix | confusion_matrix(y_true, y_pred[, …])|\n",
    "|Accuracy classification score | accuracy_score(y_true, y_pred)|\n",
    "|Zero-one classification loss | zero_one_loss(y_true, y_pred[, …])|\n",
    "|Average Hamming loss | hamming_loss(y_true, y_pred[, …])|\n",
    "|Brier score | brier_score_loss(y_true, y_prob[, …])|\n",
    "|Cohen’s kappa | cohen_kappa_score(y1, y2[, labels, …])|\n",
    "|Average hinge loss | hinge_loss(y_true, pred_decision[, …])|\n",
    "|Jaccard similarity coefficient | jaccard_similarity_score(y_true, y_pred)|\n",
    "|Log loss, aka logistic loss or cross-entropy loss | log_loss(y_true, y_pred[, eps, …])|\n",
    "|Matthews correlation coefficient (MCC) | matthews_corrcoef(y_true, y_pred[, …])|"
   ]
  },
  {
   "cell_type": "code",
   "execution_count": null,
   "metadata": {
    "id": "S4ZnYa6W4IdM"
   },
   "outputs": [],
   "source": [
    "from sklearn.metrics import roc_curve, auc \n",
    "\n",
    "fpr1, tpr1, thresholds1 = roc_curve(y, model1.decision_function(X))\n",
    "fpr2, tpr2, thresholds2 = roc_curve(y, model2.decision_function(X))\n",
    "\n",
    "plt.figure(figsize=(12, 8))\n",
    "plt.plot(fpr1, tpr1, 'o-', ms=2, label=\"Logistic Regression\")\n",
    "plt.plot(fpr2, tpr2, 'o-', ms=2, label=\"Kernel SVM\")\n",
    "plt.legend()\n",
    "plt.plot([0, 1], [0, 1], 'k--', label=\"random guess\")\n",
    "plt.xlabel('Fall-Out')\n",
    "plt.ylabel('Recall')\n",
    "plt.title('ROC Curve')\n",
    "plt.show()\n",
    "\n",
    "auc(fpr1, tpr1), auc(fpr2, tpr2)"
   ]
  },
  {
   "cell_type": "markdown",
   "metadata": {
    "id": "ttJzeBZzCFjN"
   },
   "source": [
    "#### 그래프"
   ]
  },
  {
   "cell_type": "code",
   "execution_count": null,
   "metadata": {
    "id": "a-1vxcvpCHM7"
   },
   "outputs": [],
   "source": [
    "# qqplot\n",
    "statsmodels.api.qqplot(x, line='s') # 선상에위치하면 정규분포를 따름\n",
    "\n",
    "# boxplot\n",
    "sns.boxplot(x, y, data, color='gray') \n",
    "\n",
    "# 히스토그램\n",
    "sns.distplot(x, bins=10, color='black')\n",
    "df.hist(bins=10)\n",
    "\n",
    "# 산포도\n",
    "sns.jointplot(x, y, joint_kws={\"color\":\"black\"}, marginal)kws={'color':'black'}\n",
    "\n",
    "# 독립변수 간 상관관계 확인(x 여러개일때)\n",
    "sns.pairplot(data, hue, palette='gray')\n",
    "\n",
    "# 막대그래프\n",
    "sns.barplot(x, y, data, pallette='gray_r') \n",
    "\n",
    "# 막대그래프2 - multiple bar\n",
    "df = df.melt(id_vars='class', var_name='factor', value_name='values')\n",
    "sns.factorplot(x='class', y='values', hue='factor', data=df, kind='bar')\n",
    "\n",
    "#산점도 + 선형 회귀직선\n",
    "sns.regplot(x=df.x, y=df.y, data=df)\n",
    "\n",
    "# 로지스틱 회귀곡선 \n",
    "sns.lmplot(x, y, data, logistic=True, scatter_kws={'color': 'black'}, line_kws={'color': 'black'},\n",
    "           x_jitter = 0.1, y_jitter = 0.02) #산포도 흩어지게 하는 설정\n"
   ]
  },
  {
   "cell_type": "code",
   "execution_count": null,
   "metadata": {
    "id": "wr9uduI70IGv"
   },
   "outputs": [],
   "source": [
    "plt.subplot(121)\n",
    "plt.xlabel('X Label')\n",
    "plt.title('Title')\n",
    "plt.legend(loc='upper left')\n",
    "plt.xticks(range(0, 9), labels=['M'+str(x) for x in range(1, 10)])"
   ]
  },
  {
   "cell_type": "markdown",
   "metadata": {
    "id": "yzpth-gv18CT"
   },
   "source": [
    "#### 군집분석"
   ]
  },
  {
   "cell_type": "code",
   "execution_count": null,
   "metadata": {
    "id": "Goy8soeR19xe"
   },
   "outputs": [],
   "source": [
    "from sklearn.cluster import KMeans \n",
    "def elbow(df): #elbow score\n",
    "  sse = [] \n",
    "  for i in range(1, 11):\n",
    "    model = KMeans(n_clusters=i, random_state=1234) \n",
    "    model.fit(df2[['F', 'M']])\n",
    "    sse.append(model.inertia_)\n",
    "  \n",
    "  plt.plot(range(1, 11), sse, marker='o') \n",
    "\n",
    "from sklearn.metrics import calinski_harabasz_score \n",
    "calinski_harabasz_score(df, model.labels_)\n",
    "\n",
    "from sklearn.metrics import silhouette_samples, silhouette_score \n",
    "df2['coef'] = silhouette_samples(df, df.cluster)\n",
    "silhouette_score(df, df.cluster)\n",
    "\n"
   ]
  },
  {
   "cell_type": "markdown",
   "metadata": {
    "id": "x8aogR5nvvOH"
   },
   "source": [
    "#### PCA"
   ]
  },
  {
   "cell_type": "code",
   "execution_count": null,
   "metadata": {
    "id": "Zc9lkzx4vw-a"
   },
   "outputs": [],
   "source": [
    "from sklearn.decomposition import PCA\n",
    "pca = PCA(n_components=4)\n",
    "pca.fit(df)\n",
    "score = pca.transform(df)\n",
    "pca.components_\n",
    "ratio = pca.explained_variance_ratio_\n",
    "ratio\n",
    "ax = plt.plot(['PC1','PC2','PC3','PC4'], ratio)\n",
    "plt.show()\n",
    "\n"
   ]
  },
  {
   "cell_type": "markdown",
   "metadata": {
    "id": "pszjZlaShPrK"
   },
   "source": [
    "#### Pandas"
   ]
  },
  {
   "cell_type": "code",
   "execution_count": null,
   "metadata": {
    "id": "M9sD6MsgKUWb"
   },
   "outputs": [],
   "source": [
    "#읽을 때 인덱스 지정\n",
    "df = read_csv('data.csv', index_col=0)\n",
    "\n",
    "#type 변환\n",
    "pd['x'].astype('int')\n",
    "\n",
    "#datetime 컬럼 지정\n",
    "df['date'] = pd.to_datetime(df['date']) #datetime 만들기\n",
    "\n",
    "#시간단위 재조정\n",
    "df.resample('M').last() # A\n",
    "\n",
    "#이동평균\n",
    "df.rolling(3)\n",
    "\n",
    "#누적합\n",
    "df.groupby(by=['location', 'date']).sum().groupby(level=0).cumsum() #누적합\n",
    "\n",
    "#concat, merge\n",
    "pd.concat([x, y], axis=0) #0행 1열\n",
    "pd.merge(x, y, on='id', how='inner') #outer left right \n",
    "\n",
    "\n",
    "#pivot, melt\n",
    "melt = pd.melt(pivot, id_vars=['Month', 'Day'])\n",
    "melt.pivot(columns='variable', index=['Month', 'Day'], values='value')\n",
    "\n",
    "\n",
    "air_df.loc[air_df['Month'].isin([12, 1, 2]), 'Season'] = 'winter'\n",
    "\n",
    "#인덱스 지정, 인덱스 재지정\n",
    "df.set_index('class', drop=True, append=False, inplace=True)\n",
    "df.reset_index(drop=False, inplace=False) \n",
    "\n",
    "# 조합, 순열\n",
    "# list(itertools.combinations([1, 2, 3, 4, 5], 3))\n",
    "# list(itertools.permutations([1, 2, 3, 4, 5], 3))"
   ]
  },
  {
   "cell_type": "markdown",
   "metadata": {
    "id": "xNJ7dDCKwYjI"
   },
   "source": [
    "##### select condition "
   ]
  },
  {
   "cell_type": "code",
   "execution_count": null,
   "metadata": {
    "id": "8qVSF2obwbKW"
   },
   "outputs": [],
   "source": [
    "# select\n",
    "\n",
    "score_df['grade'] = np.select(\n",
    "    condlist = [\n",
    "      score_df['score'].between(90, 100, inclusive=True),\n",
    "      score_df['score'].between(80, 89, inclusive=True),\n",
    "      score_df['score'].between(70, 79, inclusive=True),\n",
    "      score_df['score'].between(60, 69, inclusive=True),\n",
    "      score_df['score'].between(0, 59, inclusive=True)],\n",
    "    choicelist = ['수', '우', '미', '양', '가'])\n",
    "\n",
    "# cut \n",
    "cars_df['Pr_level'] = pd.cut(cars_df['Price'], bins=[-np.inf, 12, 23, np.inf], \n",
    "                             labels=['low', 'middle', 'high'])"
   ]
  },
  {
   "cell_type": "markdown",
   "metadata": {
    "id": "NghXkODmwdjJ"
   },
   "source": [
    "##### pivot table "
   ]
  },
  {
   "cell_type": "code",
   "execution_count": null,
   "metadata": {
    "id": "ng0-Emq_wcA9"
   },
   "outputs": [],
   "source": [
    "air_df = sm.datasets.get_rdataset(\"airquality\").data\n",
    "pd.pivot_table(air_df, index='Month', values='Temp', aggfunc='mean')"
   ]
  },
  {
   "cell_type": "markdown",
   "metadata": {
    "id": "6HIMwqccw3mB"
   },
   "source": [
    "##### aggs"
   ]
  },
  {
   "cell_type": "code",
   "execution_count": null,
   "metadata": {
    "id": "VK73DXfvw3Db"
   },
   "outputs": [],
   "source": [
    "bb_df = sm.datasets.get_rdataset(package=\"plyr\", dataname=\"baseball\").data\n",
    "bb_df_avgG = pd.DataFrame(data=bb_df[['id', 'g']].groupby('id').mean())\n",
    "                                                .rename(columns={'g': 'avgG'})\n",
    "\n",
    "bb_df3 = pd.merge(bb_df, bb_df_finyear, how='inner', on='id')\n",
    "                  .sort_values(by=['id', 'year'])"
   ]
  },
  {
   "cell_type": "markdown",
   "metadata": {
    "id": "9oJI7EVuxPou"
   },
   "source": [
    "##### query"
   ]
  },
  {
   "cell_type": "code",
   "execution_count": null,
   "metadata": {
    "id": "qBE6AklpxPSB"
   },
   "outputs": [],
   "source": [
    "cars_df = sm.datasets.get_rdataset(\"Cars93\", package=\"MASS\").data\n",
    "cars_df.query(\"Manufacturer in ('Audi', 'BMW') and EngineSize >= 2.4\")\n",
    "cars_df.query(\"Manufacturer in ('Chevrolet', 'Volkswagen') and Price > 10\")"
   ]
  },
  {
   "cell_type": "markdown",
   "metadata": {
    "id": "KKrQWK0QskdN"
   },
   "source": [
    "----\n",
    "----"
   ]
  },
  {
   "cell_type": "code",
   "execution_count": null,
   "metadata": {
    "id": "kllG_hebsj_m"
   },
   "outputs": [],
   "source": [
    "mi_reg = pd.Series(mutual_info_regression(X_all, y), \n",
    "                   index=X_all.columns).sort_values(ascending=False)"
   ]
  }
 ],
 "metadata": {
  "colab": {
   "authorship_tag": "ABX9TyOxSABNRjBFgJjOsE9Yi23W",
   "collapsed_sections": [
    "W2lnexnGU3t2",
    "YDL45G1uC2jT",
    "cD4Fpwi_Jq_d",
    "FN9BWVqpPdT9",
    "_-u1xPgyXJiJ",
    "rC8GjRAqSZjh",
    "ttJzeBZzCFjN",
    "yzpth-gv18CT",
    "x8aogR5nvvOH",
    "pszjZlaShPrK"
   ],
   "provenance": []
  },
  "kernelspec": {
   "display_name": "Python 3 (ipykernel)",
   "language": "python",
   "name": "python3"
  },
  "language_info": {
   "codemirror_mode": {
    "name": "ipython",
    "version": 3
   },
   "file_extension": ".py",
   "mimetype": "text/x-python",
   "name": "python",
   "nbconvert_exporter": "python",
   "pygments_lexer": "ipython3",
   "version": "3.9.12"
  }
 },
 "nbformat": 4,
 "nbformat_minor": 1
}
