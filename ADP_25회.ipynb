{
 "cells": [
  {
   "cell_type": "markdown",
   "id": "ce841c56",
   "metadata": {},
   "source": [
    "## 1번\n",
    "\n",
    "데이터 확인 및 전처리\n",
    "\n",
    "1.1 F(소비자별 구매빈도), M(소비자별 총 구매액) feature를 새로 생성해서 그 결과값으로 탐색적 분석 실시\n",
    "\n",
    "1.2 F, M feature 기반으로 군집분석 실시, 필요시 이상값 보정\n",
    "\n",
    "1.3 군집 결과의 적합성을 군집 내 응집도, 군집 간 분리도의 개념을 사용해서 서술\n",
    "\n",
    "1.4 적합된 군집 별 특성에 대한 의견과 비즈니스적 판단 제시\n",
    "\n",
    "데이터 설명\n",
    "\n",
    "InvoiceNo: Invoice number. Nominal, a 6-digit integral number uniquely assigned to each transaction. If this code starts with letter ‘c’, it indicates a cancellation.\n",
    "\n",
    "StockCode: Product (item) code. Nominal, a 5-digit integral number uniquely assigned to each distinct product.\n",
    "\n",
    "Description: Product (item) name. Nominal.\n",
    "\n",
    "Quantity: The quantities of each product (item) per transaction. Numeric.\n",
    "\n",
    "InvoiceDate: Invice Date and time. Numeric, the day and time when each transaction was generated.\n",
    "\n",
    "UnitPrice: Unit price. Numeric, Product price per unit in sterling.\n",
    "\n",
    "CustomerID: Customer number. Nominal, a 5-digit integral number uniquely assigned to each customer.\n",
    "\n",
    "Country: Country name. Nominal, the name of the country where each customer resides.\n",
    "\n",
    "출처\n",
    "\n",
    "https://archive.ics.uci.edu/ml/index.phpm"
   ]
  },
  {
   "cell_type": "code",
   "execution_count": null,
   "id": "014036b7",
   "metadata": {},
   "outputs": [],
   "source": [
    "import pandas as pd\n",
    "import numpy as np \n",
    "import warnings\n",
    "warnings.filterwarnings('ignore')\n",
    "import matplotlib.pyplot as plt\n",
    "import seaborn as sns\n",
    "\n",
    "df= pd.read_csv('https://raw.githubusercontent.com/Datamanim/datarepo/main/adp/25/problem1.csv')\n",
    "df.head()"
   ]
  },
  {
   "cell_type": "markdown",
   "id": "d0e3d99b",
   "metadata": {},
   "source": [
    "1.1 F(소비자별 구매빈도), M(소비자별 총 구매액) feature를 새로 생성해서 그 결과값으로 탐색적 분석 실시"
   ]
  },
  {
   "cell_type": "code",
   "execution_count": null,
   "id": "6d753a43",
   "metadata": {},
   "outputs": [],
   "source": [
    "from pandas import Series\n",
    "F =  df.groupby('CustomerID')['InvoiceDate'].agg([('frequency', Series.nunique)]).reset_index()\n",
    "df['Buy_am'] = df['UnitPrice']*df1['Quantity']\n",
    "M = df1.groupby('CustomerID')['Buy_am'].agg([('monetary',np.sum)]).reset_index()\n",
    "features = F.merge(M, how='left');features"
   ]
  },
  {
   "cell_type": "code",
   "execution_count": null,
   "id": "dc85d69f",
   "metadata": {},
   "outputs": [],
   "source": [
    "fig,ax=plt.subplots(nrows=1,ncols=2)\n",
    "ax[0].hist(bins = 50, x=features['frequency'])\n",
    "ax[1].hist(bins =50, x=features['monetary'])\n",
    "plt.show()"
   ]
  },
  {
   "cell_type": "code",
   "execution_count": null,
   "id": "fd49470c",
   "metadata": {},
   "outputs": [],
   "source": [
    "# 1.2 F, M feature 기반으로 군집분석 실시, 필요시 이상값 보정\n",
    "sns.boxplot(data = features[['frequency','monetary']])\n",
    "# 이상치 확인 결과 monetary 변수에는 이상치가 보인다. 연속적으로 이어진 이상치의 경우 실제 존재하는 값일수 있으므로 동떨어진 이상치만 제거"
   ]
  },
  {
   "cell_type": "code",
   "execution_count": null,
   "id": "1add02a6",
   "metadata": {},
   "outputs": [],
   "source": [
    "out_lier = features[features['monetary']>200000]\n",
    "features= features.drop(index = out_lier.index)"
   ]
  },
  {
   "cell_type": "code",
   "execution_count": null,
   "id": "17b100d5",
   "metadata": {},
   "outputs": [],
   "source": [
    "features"
   ]
  },
  {
   "cell_type": "code",
   "execution_count": null,
   "id": "6b1cef74",
   "metadata": {},
   "outputs": [],
   "source": [
    "# K-means 알고리즘 사용\n",
    "from sklearn.cluster import KMeans\n",
    "X = features.drop('CustomerID',axis=1)\n",
    "X"
   ]
  },
  {
   "cell_type": "code",
   "execution_count": null,
   "id": "31c1a919",
   "metadata": {},
   "outputs": [],
   "source": [
    "from sklearn.metrics import calinski_harabasz_score\n",
    "from sklearn.metrics import silhouette_score \n",
    "for k in range(2,10):\n",
    "    kmeans_model = KMeans(n_clusters=k, random_state=1).fit(X)\n",
    "    labels = kmeans_model.labels_\n",
    "    print(\"calinski_harabasz_score: \",calinski_harabasz_score(X,labels),\"silhouette_score:\",silhouette_score(X,labels))"
   ]
  },
  {
   "cell_type": "code",
   "execution_count": 77,
   "id": "a5d85361",
   "metadata": {},
   "outputs": [],
   "source": [
    "# 데이터가 문제와 달라서 적합한 군집의 수를 정하지 못했음"
   ]
  },
  {
   "cell_type": "markdown",
   "id": "81906957",
   "metadata": {},
   "source": [
    "## 2번\n",
    "\n",
    "시계열분석\n",
    "\n",
    "2.1 EDA와 시각화를 진행하라\n",
    "\n",
    "2.2 결측치 처리와 해당 결측치 처리 방식에 대한 논리적 근거를 제시하라\n",
    "\n",
    "2.3 계절성을 반영한 시계열 모델을 제시하고 정확도 측면에서 모델 성능 평가 할 것\n",
    "\n",
    "2.4 분석 결과 활용 가능 여부에 대한 분석 전문가로서의 제안"
   ]
  },
  {
   "cell_type": "code",
   "execution_count": 90,
   "id": "75070210",
   "metadata": {},
   "outputs": [
    {
     "data": {
      "text/html": [
       "<div>\n",
       "<style scoped>\n",
       "    .dataframe tbody tr th:only-of-type {\n",
       "        vertical-align: middle;\n",
       "    }\n",
       "\n",
       "    .dataframe tbody tr th {\n",
       "        vertical-align: top;\n",
       "    }\n",
       "\n",
       "    .dataframe thead th {\n",
       "        text-align: right;\n",
       "    }\n",
       "</style>\n",
       "<table border=\"1\" class=\"dataframe\">\n",
       "  <thead>\n",
       "    <tr style=\"text-align: right;\">\n",
       "      <th></th>\n",
       "      <th>counts</th>\n",
       "    </tr>\n",
       "  </thead>\n",
       "  <tbody>\n",
       "    <tr>\n",
       "      <th>0</th>\n",
       "      <td>544.3</td>\n",
       "    </tr>\n",
       "    <tr>\n",
       "      <th>1</th>\n",
       "      <td>603.1</td>\n",
       "    </tr>\n",
       "    <tr>\n",
       "      <th>2</th>\n",
       "      <td>NaN</td>\n",
       "    </tr>\n",
       "    <tr>\n",
       "      <th>3</th>\n",
       "      <td>533.4</td>\n",
       "    </tr>\n",
       "    <tr>\n",
       "      <th>4</th>\n",
       "      <td>619.5</td>\n",
       "    </tr>\n",
       "  </tbody>\n",
       "</table>\n",
       "</div>"
      ],
      "text/plain": [
       "   counts\n",
       "0   544.3\n",
       "1   603.1\n",
       "2     NaN\n",
       "3   533.4\n",
       "4   619.5"
      ]
     },
     "execution_count": 90,
     "metadata": {},
     "output_type": "execute_result"
    }
   ],
   "source": [
    "import pandas as pd\n",
    "\n",
    "df= pd.read_csv('https://raw.githubusercontent.com/Datamanim/datarepo/main/adp/25/problem2.csv',index_col=0)\n",
    "df.head()\n",
    "# 시계열문제인데 데이터에는 시간컬럼이 없음....\n",
    "# 복원문제로 데이터가 실제 시험과 달라서 분석 진행이 어려움.."
   ]
  },
  {
   "cell_type": "code",
   "execution_count": 83,
   "id": "eefc9036",
   "metadata": {},
   "outputs": [
    {
     "data": {
      "text/plain": [
       "(array([ 3., 11., 26., 37., 54., 60., 48., 27., 19., 10.]),\n",
       " array([239.4 , 288.38, 337.36, 386.34, 435.32, 484.3 , 533.28, 582.26,\n",
       "        631.24, 680.22, 729.2 ]),\n",
       " <BarContainer object of 10 artists>)"
      ]
     },
     "execution_count": 83,
     "metadata": {},
     "output_type": "execute_result"
    },
    {
     "data": {
      "image/png": "[encoded data removed]",
      "text/plain": [
       "<Figure size 432x288 with 1 Axes>"
      ]
     },
     "metadata": {
      "needs_background": "light"
     },
     "output_type": "display_data"
    }
   ],
   "source": [
    "plt.hist(x = df['counts'])"
   ]
  },
  {
   "cell_type": "markdown",
   "id": "b8052a86",
   "metadata": {},
   "source": [
    "## 3번 통계문제\n",
    "3-1번\n",
    "\n",
    "서울에서 영동까지 100km/h로 가고 영동에서 서울까지 80km/로 돌아왔을 때, 평균 속도는?"
   ]
  },
  {
   "cell_type": "code",
   "execution_count": 4,
   "id": "38be70e8",
   "metadata": {},
   "outputs": [
    {
     "name": "stdout",
     "output_type": "stream",
     "text": [
      "평균 속도:  88.88888888888889 km/h\n"
     ]
    }
   ],
   "source": [
    "# 조화평균\n",
    "speed = (2*100*80)/(100+80)\n",
    "print(\"평균 속도: \", speed,\"km/h\")"
   ]
  },
  {
   "cell_type": "markdown",
   "id": "e8def8ae",
   "metadata": {},
   "source": [
    "3-2번\n",
    "\n",
    "연매출이 3000, 4000, 5000이었다면 연평균 몇배가 증가한 것인가?"
   ]
  },
  {
   "cell_type": "code",
   "execution_count": 12,
   "id": "a0d1eb83",
   "metadata": {},
   "outputs": [
    {
     "name": "stdout",
     "output_type": "stream",
     "text": [
      "연평균증가율: 29.09944487358056 %\n"
     ]
    }
   ],
   "source": [
    "a = (((4000/3000)*(5000/4000))**(1/2)-1)*100\n",
    "print('연평균증가율:',a,'%')"
   ]
  },
  {
   "cell_type": "markdown",
   "id": "9d5ab001",
   "metadata": {},
   "source": [
    "3-3번\n",
    "\n",
    "남성, 여성의 등산, 수영에 대한 취미 선호도 빈도표(2x2)를 보고, 남성 중에서 등산을 좋아할 확률을 구하시오\n",
    "출처: https://www.datamanim.com/dataset/ADPpb/00/25.html"
   ]
  },
  {
   "cell_type": "code",
   "execution_count": 9,
   "id": "5a0f059c",
   "metadata": {},
   "outputs": [
    {
     "data": {
      "text/html": [
       "<div>\n",
       "<style scoped>\n",
       "    .dataframe tbody tr th:only-of-type {\n",
       "        vertical-align: middle;\n",
       "    }\n",
       "\n",
       "    .dataframe tbody tr th {\n",
       "        vertical-align: top;\n",
       "    }\n",
       "\n",
       "    .dataframe thead th {\n",
       "        text-align: right;\n",
       "    }\n",
       "</style>\n",
       "<table border=\"1\" class=\"dataframe\">\n",
       "  <thead>\n",
       "    <tr style=\"text-align: right;\">\n",
       "      <th></th>\n",
       "      <th>등산</th>\n",
       "      <th>수영</th>\n",
       "    </tr>\n",
       "  </thead>\n",
       "  <tbody>\n",
       "    <tr>\n",
       "      <th>남자</th>\n",
       "      <td>20</td>\n",
       "      <td>10</td>\n",
       "    </tr>\n",
       "    <tr>\n",
       "      <th>여자</th>\n",
       "      <td>15</td>\n",
       "      <td>30</td>\n",
       "    </tr>\n",
       "  </tbody>\n",
       "</table>\n",
       "</div>"
      ],
      "text/plain": [
       "    등산  수영\n",
       "남자  20  10\n",
       "여자  15  30"
      ]
     },
     "execution_count": 9,
     "metadata": {},
     "output_type": "execute_result"
    }
   ],
   "source": [
    "df= pd.DataFrame({'등산':[20,15],'수영':[10,30]},index=['남자','여자'])\n",
    "df"
   ]
  },
  {
   "cell_type": "code",
   "execution_count": 14,
   "id": "027a7ced",
   "metadata": {},
   "outputs": [
    {
     "data": {
      "text/plain": [
       "0.6666666666666666"
      ]
     },
     "execution_count": 14,
     "metadata": {},
     "output_type": "execute_result"
    }
   ],
   "source": [
    "# 조건부 확률\n",
    "# 남성일 확률: 30/75\n",
    "# 남자이면서 등산을 좋아할 확률: 20/75\n",
    "# 남성 중에서 등산을 좋아할 확률: (20/75)/(30/75)\n",
    "(20/75)/(30/75)"
   ]
  },
  {
   "cell_type": "markdown",
   "id": "dca9a99a",
   "metadata": {},
   "source": [
    "3-4번\n",
    "\n",
    "표본 10개의 분산이 90일 때 신뢰도 95%로 모분산의 신뢰구간을 추정"
   ]
  },
  {
   "cell_type": "code",
   "execution_count": 28,
   "id": "4db9ff49",
   "metadata": {},
   "outputs": [
    {
     "name": "stdout",
     "output_type": "stream",
     "text": [
      "모분산의 95% 신뢰구간: (299.96, 42.58)\n"
     ]
    }
   ],
   "source": [
    "import numpy as np\n",
    "from scipy import stats\n",
    "\n",
    "n = 10\n",
    "s2 = 90\n",
    "alpha = 0.05\n",
    "\n",
    "# 카이제곱 분포의 분위수 계산\n",
    "chi2_lower = chi2.ppf(alpha/2, df=n-1)\n",
    "chi2_upper = chi2.ppf(1-alpha/2, df=n-1)\n",
    "\n",
    "# 모분산의 95% 신뢰구간 계산\n",
    "ci_lower = (n-1)*s2/chi2_lower\n",
    "ci_upper = (n-1)*s2/chi2_upper\n",
    "\n",
    "print(\"모분산의 95% 신뢰구간: ({:.2f}, {:.2f})\".format(ci_lower, ci_upper))\n"
   ]
  },
  {
   "cell_type": "markdown",
   "id": "f516b366",
   "metadata": {},
   "source": [
    "## 4번\n",
    "\n",
    "4번 임상 대상 20명에 대해 혈압약 투약 이전과 이후의 차이가 24, 표준편차 9  신뢰구간 95%, 차이가 존재하는지 확인하려한다\n",
    "\n",
    "4.1 귀무가설과 연구가설을 제시하시오\n",
    "\n",
    "4.2 검정 후 귀무가설 기각 여부 제시"
   ]
  },
  {
   "cell_type": "code",
   "execution_count": 30,
   "id": "2cf802ff",
   "metadata": {},
   "outputs": [],
   "source": [
    "# 4.1 귀무가설과 연구가설을 제시하시오\n",
    "# 귀무가설: 혈압약 투약 이전과 이후의 차이는 없다\n",
    "# 연구가설: 혈압략 투약 이전과 이후의 차이는 있다."
   ]
  },
  {
   "cell_type": "code",
   "execution_count": 41,
   "id": "6d4041d9",
   "metadata": {},
   "outputs": [],
   "source": [
    "xbar = 25\n",
    "n= 20\n",
    "se =9\n",
    "alpha=0.05\n",
    "\n",
    "t_alpha = stats.t.ppf(1-alpha/2,n-1)"
   ]
  },
  {
   "cell_type": "code",
   "execution_count": 51,
   "id": "5ba0d7f1",
   "metadata": {},
   "outputs": [
    {
     "data": {
      "text/plain": [
       "(20.787870342220813, 29.212129657779187)"
      ]
     },
     "execution_count": 51,
     "metadata": {},
     "output_type": "execute_result"
    }
   ],
   "source": [
    "ci = (xbar - t_alpha*s/np.sqrt(n), xbar+t_alpha*s/np.sqrt(n))\n",
    "ci"
   ]
  },
  {
   "cell_type": "code",
   "execution_count": 52,
   "id": "6f658b20",
   "metadata": {},
   "outputs": [],
   "source": [
    "# 검정결과 신뢰구간안에 모평균의 추정이 포함되지 않으므로 귀무가설을 기가한다.\n",
    "# 즉 혈압약 투약 이전과 이후의 차이는 있다"
   ]
  },
  {
   "cell_type": "markdown",
   "id": "2b430a38",
   "metadata": {},
   "source": [
    "## 5번\n",
    "\n",
    "공장 X,Y,Z의 평균 출하 소요시간을 여러 일자에 거쳐 측정한 데이터이다. 각 공장의 중위수의 차이가 존재하는지 확인하려 한다\n",
    "\n",
    "5.1 귀무가설과 연구가설을 제시하시오\n",
    "\n",
    "5.2 검정 후 귀무가설 기각 여부 제시"
   ]
  },
  {
   "cell_type": "markdown",
   "id": "b780c8bb",
   "metadata": {},
   "source": [
    "import pandas as pd\n",
    "df= pd.read_csv('https://raw.githubusercontent.com/Datamanim/datarepo/main/adp/25/problem5.csv',encoding='cp949')\n",
    "df.head()"
   ]
  },
  {
   "cell_type": "code",
   "execution_count": 55,
   "id": "0e771f0b",
   "metadata": {},
   "outputs": [],
   "source": [
    "# 귀무가설과 연구가설을 제시하시오.\n",
    "# 귀무가설: 공장 X,Y,Z의 출하 소요시간의 중위수에는 차이가 없다.\n",
    "# 연구가설 : X, Y, Z의 출하 소요시간 중위수는 서로 다르다."
   ]
  },
  {
   "cell_type": "code",
   "execution_count": 68,
   "id": "5adcc2bf",
   "metadata": {},
   "outputs": [],
   "source": [
    "df_X = df.query('공장명==\"X\"')['출하 소요시간']\n",
    "df_Y = df.query('공장명==\"Y\"')['출하 소요시간']\n",
    "df_Z = df.query('공장명==\"Z\"')['출하 소요시간']"
   ]
  },
  {
   "cell_type": "code",
   "execution_count": 69,
   "id": "a39373bc",
   "metadata": {},
   "outputs": [
    {
     "data": {
      "text/plain": [
       "KruskalResult(statistic=0.7217886080379153, pvalue=0.6970526702392181)"
      ]
     },
     "execution_count": 69,
     "metadata": {},
     "output_type": "execute_result"
    }
   ],
   "source": [
    "stats.kruskal(df_X, df_Y, df_Z)"
   ]
  },
  {
   "cell_type": "code",
   "execution_count": null,
   "id": "2c7ff62e",
   "metadata": {},
   "outputs": [],
   "source": [
    "# 검정결과 p-value가 0.05보다 크므로 귀무가설을 기각하지 못한다.\n",
    "# 즉 공장별로 출하 소요시간의 중위수에는 차이가 없다."
   ]
  },
  {
   "cell_type": "markdown",
   "id": "9aaeff37",
   "metadata": {},
   "source": [
    "## 6번\n",
    "\n",
    "1개년 50억원, 2개년 60억원, 3개년 70억원의 예산을 가지고 NPV(순현재가치)가 가장 높아지는 안을 제시하시오"
   ]
  },
  {
   "cell_type": "code",
   "execution_count": 7,
   "id": "dd97a2dd",
   "metadata": {},
   "outputs": [
    {
     "data": {
      "text/html": [
       "<div>\n",
       "<style scoped>\n",
       "    .dataframe tbody tr th:only-of-type {\n",
       "        vertical-align: middle;\n",
       "    }\n",
       "\n",
       "    .dataframe tbody tr th {\n",
       "        vertical-align: top;\n",
       "    }\n",
       "\n",
       "    .dataframe thead th {\n",
       "        text-align: right;\n",
       "    }\n",
       "</style>\n",
       "<table border=\"1\" class=\"dataframe\">\n",
       "  <thead>\n",
       "    <tr style=\"text-align: right;\">\n",
       "      <th></th>\n",
       "      <th>1개년</th>\n",
       "      <th>2개년</th>\n",
       "      <th>3개년</th>\n",
       "    </tr>\n",
       "  </thead>\n",
       "  <tbody>\n",
       "    <tr>\n",
       "      <th>1안</th>\n",
       "      <td>10</td>\n",
       "      <td>20</td>\n",
       "      <td>15</td>\n",
       "    </tr>\n",
       "    <tr>\n",
       "      <th>2안</th>\n",
       "      <td>15</td>\n",
       "      <td>14</td>\n",
       "      <td>19</td>\n",
       "    </tr>\n",
       "    <tr>\n",
       "      <th>3안</th>\n",
       "      <td>12</td>\n",
       "      <td>11</td>\n",
       "      <td>30</td>\n",
       "    </tr>\n",
       "    <tr>\n",
       "      <th>4안</th>\n",
       "      <td>13</td>\n",
       "      <td>25</td>\n",
       "      <td>20</td>\n",
       "    </tr>\n",
       "    <tr>\n",
       "      <th>5안</th>\n",
       "      <td>16</td>\n",
       "      <td>30</td>\n",
       "      <td>24</td>\n",
       "    </tr>\n",
       "  </tbody>\n",
       "</table>\n",
       "</div>"
      ],
      "text/plain": [
       "    1개년  2개년  3개년\n",
       "1안   10   20   15\n",
       "2안   15   14   19\n",
       "3안   12   11   30\n",
       "4안   13   25   20\n",
       "5안   16   30   24"
      ]
     },
     "execution_count": 7,
     "metadata": {},
     "output_type": "execute_result"
    }
   ],
   "source": [
    "df = pd.DataFrame({'1개년':[10,15,12,13,16],'2개년':[20,14,11,25,30],'3개년':[15,19,30,20,24]},index=['1안','2안','3안','4안','5안'])\n",
    "df"
   ]
  },
  {
   "cell_type": "code",
   "execution_count": 8,
   "id": "89913659",
   "metadata": {},
   "outputs": [],
   "source": [
    "from itertools import combinations\n",
    "import pandas as pd"
   ]
  },
  {
   "cell_type": "code",
   "execution_count": 16,
   "id": "71f51179",
   "metadata": {},
   "outputs": [],
   "source": [
    "investment_df = pd.DataFrame([[10,20,15],[15,14,19],[12,11,30],[13,25,20],[16,30,24]],\n",
    "index = [\"1\",\"2\",\"3\",\"4\",\"5\"], columns =['1YR','2YR','3YR'])"
   ]
  },
  {
   "cell_type": "code",
   "execution_count": 18,
   "id": "bdb11cb1",
   "metadata": {},
   "outputs": [],
   "source": [
    "items = ['1', '2', '3', '4', '5']"
   ]
  },
  {
   "cell_type": "code",
   "execution_count": 20,
   "id": "2fe7ddc2",
   "metadata": {},
   "outputs": [],
   "source": [
    "inv_combination_list =  list(combinations(items, 1))+ list(combinations(items, 2))+ list(combinations(items, 3))+\\\n",
    "list(combinations(items, 4))+list(combinations(items, 5))\n"
   ]
  },
  {
   "cell_type": "code",
   "execution_count": 21,
   "id": "2dd1671c",
   "metadata": {},
   "outputs": [],
   "source": [
    "result_df = pd.DataFrame()"
   ]
  },
  {
   "cell_type": "code",
   "execution_count": 23,
   "id": "98b24888",
   "metadata": {},
   "outputs": [],
   "source": [
    "for i in inv_combination_list:\n",
    "    temp_df = pd.DataFrame()\n",
    "    for item in items:\n",
    "        if item in i:\n",
    "            temp_df = pd.concat([temp_df, investment_df.loc[item]],axis=1)\n",
    "    result_df= pd.concat([result_df, temp_df.sum(axis=1)],axis=1)"
   ]
  },
  {
   "cell_type": "code",
   "execution_count": 35,
   "id": "a7b2e983",
   "metadata": {},
   "outputs": [
    {
     "data": {
      "text/html": [
       "<div>\n",
       "<style scoped>\n",
       "    .dataframe tbody tr th:only-of-type {\n",
       "        vertical-align: middle;\n",
       "    }\n",
       "\n",
       "    .dataframe tbody tr th {\n",
       "        vertical-align: top;\n",
       "    }\n",
       "\n",
       "    .dataframe thead th {\n",
       "        text-align: right;\n",
       "    }\n",
       "</style>\n",
       "<table border=\"1\" class=\"dataframe\">\n",
       "  <thead>\n",
       "    <tr style=\"text-align: right;\">\n",
       "      <th></th>\n",
       "      <th>0</th>\n",
       "    </tr>\n",
       "  </thead>\n",
       "  <tbody>\n",
       "    <tr>\n",
       "      <th>1YR</th>\n",
       "      <td>10</td>\n",
       "    </tr>\n",
       "    <tr>\n",
       "      <th>2YR</th>\n",
       "      <td>20</td>\n",
       "    </tr>\n",
       "    <tr>\n",
       "      <th>3YR</th>\n",
       "      <td>15</td>\n",
       "    </tr>\n",
       "  </tbody>\n",
       "</table>\n",
       "</div>"
      ],
      "text/plain": [
       "      0\n",
       "1YR  10\n",
       "2YR  20\n",
       "3YR  15"
      ]
     },
     "execution_count": 35,
     "metadata": {},
     "output_type": "execute_result"
    }
   ],
   "source": [
    "result_df1 = pd.DataFrame()\n",
    "temp_df1 = pd.DataFrame()\n",
    "temp_df1= pd.concat([temp_df1,investment_df.loc['1']],axis=1)\n",
    "result_df1 = pd.concat([result_df1, temp_df1.sum(axis=1)],axis=1)\n",
    "result_df1"
   ]
  },
  {
   "cell_type": "code",
   "execution_count": 36,
   "id": "50c8c3b0",
   "metadata": {},
   "outputs": [
    {
     "data": {
      "text/html": [
       "<div>\n",
       "<style scoped>\n",
       "    .dataframe tbody tr th:only-of-type {\n",
       "        vertical-align: middle;\n",
       "    }\n",
       "\n",
       "    .dataframe tbody tr th {\n",
       "        vertical-align: top;\n",
       "    }\n",
       "\n",
       "    .dataframe thead th {\n",
       "        text-align: right;\n",
       "    }\n",
       "</style>\n",
       "<table border=\"1\" class=\"dataframe\">\n",
       "  <thead>\n",
       "    <tr style=\"text-align: right;\">\n",
       "      <th></th>\n",
       "      <th>1</th>\n",
       "    </tr>\n",
       "  </thead>\n",
       "  <tbody>\n",
       "    <tr>\n",
       "      <th>1YR</th>\n",
       "      <td>10</td>\n",
       "    </tr>\n",
       "    <tr>\n",
       "      <th>2YR</th>\n",
       "      <td>20</td>\n",
       "    </tr>\n",
       "    <tr>\n",
       "      <th>3YR</th>\n",
       "      <td>15</td>\n",
       "    </tr>\n",
       "  </tbody>\n",
       "</table>\n",
       "</div>"
      ],
      "text/plain": [
       "      1\n",
       "1YR  10\n",
       "2YR  20\n",
       "3YR  15"
      ]
     },
     "execution_count": 36,
     "metadata": {},
     "output_type": "execute_result"
    }
   ],
   "source": [
    "temp_df1"
   ]
  },
  {
   "cell_type": "code",
   "execution_count": 25,
   "id": "372dfab4",
   "metadata": {},
   "outputs": [],
   "source": [
    "result_df.columns = inv_combination_list\n",
    "fin_df = result_df.T\n",
    "fin_df['total'] = fin_df.sum(axis=1)"
   ]
  },
  {
   "cell_type": "code",
   "execution_count": 27,
   "id": "c7e52944",
   "metadata": {},
   "outputs": [
    {
     "data": {
      "text/html": [
       "<div>\n",
       "<style scoped>\n",
       "    .dataframe tbody tr th:only-of-type {\n",
       "        vertical-align: middle;\n",
       "    }\n",
       "\n",
       "    .dataframe tbody tr th {\n",
       "        vertical-align: top;\n",
       "    }\n",
       "\n",
       "    .dataframe thead th {\n",
       "        text-align: right;\n",
       "    }\n",
       "</style>\n",
       "<table border=\"1\" class=\"dataframe\">\n",
       "  <thead>\n",
       "    <tr style=\"text-align: right;\">\n",
       "      <th></th>\n",
       "      <th>1YR</th>\n",
       "      <th>2YR</th>\n",
       "      <th>3YR</th>\n",
       "      <th>total</th>\n",
       "    </tr>\n",
       "  </thead>\n",
       "  <tbody>\n",
       "    <tr>\n",
       "      <th>(2, 3, 4)</th>\n",
       "      <td>40</td>\n",
       "      <td>50</td>\n",
       "      <td>69</td>\n",
       "      <td>159</td>\n",
       "    </tr>\n",
       "    <tr>\n",
       "      <th>(1, 3, 4)</th>\n",
       "      <td>35</td>\n",
       "      <td>56</td>\n",
       "      <td>65</td>\n",
       "      <td>156</td>\n",
       "    </tr>\n",
       "    <tr>\n",
       "      <th>(1, 2, 4)</th>\n",
       "      <td>38</td>\n",
       "      <td>59</td>\n",
       "      <td>54</td>\n",
       "      <td>151</td>\n",
       "    </tr>\n",
       "    <tr>\n",
       "      <th>(1, 2, 3)</th>\n",
       "      <td>37</td>\n",
       "      <td>45</td>\n",
       "      <td>64</td>\n",
       "      <td>146</td>\n",
       "    </tr>\n",
       "    <tr>\n",
       "      <th>(4, 5)</th>\n",
       "      <td>29</td>\n",
       "      <td>55</td>\n",
       "      <td>44</td>\n",
       "      <td>128</td>\n",
       "    </tr>\n",
       "    <tr>\n",
       "      <th>(3, 5)</th>\n",
       "      <td>28</td>\n",
       "      <td>41</td>\n",
       "      <td>54</td>\n",
       "      <td>123</td>\n",
       "    </tr>\n",
       "    <tr>\n",
       "      <th>(2, 5)</th>\n",
       "      <td>31</td>\n",
       "      <td>44</td>\n",
       "      <td>43</td>\n",
       "      <td>118</td>\n",
       "    </tr>\n",
       "    <tr>\n",
       "      <th>(1, 5)</th>\n",
       "      <td>26</td>\n",
       "      <td>50</td>\n",
       "      <td>39</td>\n",
       "      <td>115</td>\n",
       "    </tr>\n",
       "    <tr>\n",
       "      <th>(3, 4)</th>\n",
       "      <td>25</td>\n",
       "      <td>36</td>\n",
       "      <td>50</td>\n",
       "      <td>111</td>\n",
       "    </tr>\n",
       "    <tr>\n",
       "      <th>(2, 4)</th>\n",
       "      <td>28</td>\n",
       "      <td>39</td>\n",
       "      <td>39</td>\n",
       "      <td>106</td>\n",
       "    </tr>\n",
       "    <tr>\n",
       "      <th>(1, 4)</th>\n",
       "      <td>23</td>\n",
       "      <td>45</td>\n",
       "      <td>35</td>\n",
       "      <td>103</td>\n",
       "    </tr>\n",
       "    <tr>\n",
       "      <th>(2, 3)</th>\n",
       "      <td>27</td>\n",
       "      <td>25</td>\n",
       "      <td>49</td>\n",
       "      <td>101</td>\n",
       "    </tr>\n",
       "    <tr>\n",
       "      <th>(1, 3)</th>\n",
       "      <td>22</td>\n",
       "      <td>31</td>\n",
       "      <td>45</td>\n",
       "      <td>98</td>\n",
       "    </tr>\n",
       "    <tr>\n",
       "      <th>(1, 2)</th>\n",
       "      <td>25</td>\n",
       "      <td>34</td>\n",
       "      <td>34</td>\n",
       "      <td>93</td>\n",
       "    </tr>\n",
       "    <tr>\n",
       "      <th>(5,)</th>\n",
       "      <td>16</td>\n",
       "      <td>30</td>\n",
       "      <td>24</td>\n",
       "      <td>70</td>\n",
       "    </tr>\n",
       "    <tr>\n",
       "      <th>(4,)</th>\n",
       "      <td>13</td>\n",
       "      <td>25</td>\n",
       "      <td>20</td>\n",
       "      <td>58</td>\n",
       "    </tr>\n",
       "    <tr>\n",
       "      <th>(3,)</th>\n",
       "      <td>12</td>\n",
       "      <td>11</td>\n",
       "      <td>30</td>\n",
       "      <td>53</td>\n",
       "    </tr>\n",
       "    <tr>\n",
       "      <th>(2,)</th>\n",
       "      <td>15</td>\n",
       "      <td>14</td>\n",
       "      <td>19</td>\n",
       "      <td>48</td>\n",
       "    </tr>\n",
       "    <tr>\n",
       "      <th>(1,)</th>\n",
       "      <td>10</td>\n",
       "      <td>20</td>\n",
       "      <td>15</td>\n",
       "      <td>45</td>\n",
       "    </tr>\n",
       "  </tbody>\n",
       "</table>\n",
       "</div>"
      ],
      "text/plain": [
       "           1YR  2YR  3YR  total\n",
       "(2, 3, 4)   40   50   69    159\n",
       "(1, 3, 4)   35   56   65    156\n",
       "(1, 2, 4)   38   59   54    151\n",
       "(1, 2, 3)   37   45   64    146\n",
       "(4, 5)      29   55   44    128\n",
       "(3, 5)      28   41   54    123\n",
       "(2, 5)      31   44   43    118\n",
       "(1, 5)      26   50   39    115\n",
       "(3, 4)      25   36   50    111\n",
       "(2, 4)      28   39   39    106\n",
       "(1, 4)      23   45   35    103\n",
       "(2, 3)      27   25   49    101\n",
       "(1, 3)      22   31   45     98\n",
       "(1, 2)      25   34   34     93\n",
       "(5,)        16   30   24     70\n",
       "(4,)        13   25   20     58\n",
       "(3,)        12   11   30     53\n",
       "(2,)        15   14   19     48\n",
       "(1,)        10   20   15     45"
      ]
     },
     "execution_count": 27,
     "metadata": {},
     "output_type": "execute_result"
    }
   ],
   "source": [
    "fin_df[(fin_df['1YR']<50)&(fin_df['2YR']<60)&(fin_df['3YR']<70)].sort_values(by='total',ascending=False)"
   ]
  },
  {
   "cell_type": "markdown",
   "id": "fa6216bf",
   "metadata": {},
   "source": [
    "# 참고\n",
    "NPV(Net Present Value, 순현재가치)는 현재 가치로 환산된 현금흐름의 합에서 초기 투자액을 뺀 것을 의미합니다. 다음은 NPV를 구하는 공식입니다.\n",
    "\n",
    "NPV = ∑(현금흐름 / (1+r)^t) - 초기 투자액\n",
    "\n",
    "여기서,\n",
    "\n",
    "현금흐름: 향후 예상되는 현금흐름\n",
    "r: 할인율\n",
    "t: 현금흐름이 발생하는 시점에서 현재까지의 시간 (년, 월 등)\n",
    "예를 들어, 초기 투자액이 1,000이고 연이율이 5%이며, 1년 후에 500, 2년 후에 600, 3년 후에 700의 현금흐름이 발생한다면, NPV는 다음과 같이 계산할 수 있습니다.\n",
    "\n",
    "NPV = 500 / (1+0.05)^1 + 600 / (1+0.05)^2 + 700 / (1+0.05)^3 - 1,000\n",
    "\n",
    "위 공식에 따라 계산하면 NPV가 나옵니다."
   ]
  },
  {
   "cell_type": "code",
   "execution_count": null,
   "id": "99065890",
   "metadata": {},
   "outputs": [],
   "source": []
  }
 ],
 "metadata": {
  "kernelspec": {
   "display_name": "Python 3 (ipykernel)",
   "language": "python",
   "name": "python3"
  },
  "language_info": {
   "codemirror_mode": {
    "name": "ipython",
    "version": 3
   },
   "file_extension": ".py",
   "mimetype": "text/x-python",
   "name": "python",
   "nbconvert_exporter": "python",
   "pygments_lexer": "ipython3",
   "version": "3.9.12"
  }
 },
 "nbformat": 4,
 "nbformat_minor": 5
}
