{
 "cells": [
  {
   "cell_type": "markdown",
   "id": "b638a4c1",
   "metadata": {},
   "source": [
    "## 통계 200문제 "
   ]
  },
  {
   "cell_type": "markdown",
   "id": "bdda7df8",
   "metadata": {},
   "source": [
    "### 1. 금속 성분 함유량 데이터(변수 1개) - 제품에 금속 재질 함유량의 분산이 1.3을 넘으면 불량이라고 보고 있는데 제조사별로 차이가 난다고 제보를 받았다. 분산에 대해 검정을 수행하시오. (유의확률 0.05)\n",
    "\n",
    "1 연구가설과 귀무가설 작성\n",
    "\n",
    "2 양측 검정 시행\n",
    "\n",
    "3 검정통계량, 가설채택"
   ]
  },
  {
   "cell_type": "code",
   "execution_count": 1,
   "id": "78d3db4c",
   "metadata": {},
   "outputs": [
    {
     "data": {
      "text/html": [
       "<div>\n",
       "<style scoped>\n",
       "    .dataframe tbody tr th:only-of-type {\n",
       "        vertical-align: middle;\n",
       "    }\n",
       "\n",
       "    .dataframe tbody tr th {\n",
       "        vertical-align: top;\n",
       "    }\n",
       "\n",
       "    .dataframe thead th {\n",
       "        text-align: right;\n",
       "    }\n",
       "</style>\n",
       "<table border=\"1\" class=\"dataframe\">\n",
       "  <thead>\n",
       "    <tr style=\"text-align: right;\">\n",
       "      <th></th>\n",
       "      <th>content</th>\n",
       "    </tr>\n",
       "  </thead>\n",
       "  <tbody>\n",
       "    <tr>\n",
       "      <th>0</th>\n",
       "      <td>97.995295</td>\n",
       "    </tr>\n",
       "    <tr>\n",
       "      <th>1</th>\n",
       "      <td>101.478315</td>\n",
       "    </tr>\n",
       "    <tr>\n",
       "      <th>2</th>\n",
       "      <td>102.284913</td>\n",
       "    </tr>\n",
       "    <tr>\n",
       "      <th>3</th>\n",
       "      <td>98.993634</td>\n",
       "    </tr>\n",
       "    <tr>\n",
       "      <th>4</th>\n",
       "      <td>104.635232</td>\n",
       "    </tr>\n",
       "  </tbody>\n",
       "</table>\n",
       "</div>"
      ],
      "text/plain": [
       "      content\n",
       "0   97.995295\n",
       "1  101.478315\n",
       "2  102.284913\n",
       "3   98.993634\n",
       "4  104.635232"
      ]
     },
     "execution_count": 1,
     "metadata": {},
     "output_type": "execute_result"
    }
   ],
   "source": [
    "import pandas as pd\n",
    "\n",
    "df= pd.read_csv('https://raw.githubusercontent.com/Datamanim/datarepo/main/adp/22/content.csv')\n",
    "df.head()"
   ]
  },
  {
   "cell_type": "code",
   "execution_count": 12,
   "id": "cd8b8a90",
   "metadata": {},
   "outputs": [],
   "source": [
    "from scipy import stats\n",
    "import numpy as np"
   ]
  },
  {
   "cell_type": "markdown",
   "id": "55d38623",
   "metadata": {},
   "source": [
    "# 파이썬에서는 단일 표본 분산검정 or 단일 표본 카이검정 패키지가 없어서 커스텀해서 사용 / https://blog.naver.com/breezehome50/222334155742\n"
   ]
  },
  {
   "cell_type": "code",
   "execution_count": 13,
   "id": "78f0551b",
   "metadata": {},
   "outputs": [
    {
     "name": "stdout",
     "output_type": "stream",
     "text": [
      "p-value  4.2726668647574684e-08\n",
      "statics  328.29229803072917\n"
     ]
    }
   ],
   "source": [
    "from scipy import stats\n",
    "\n",
    "def chi_var_test(x, var0, alternative='two-sided'):\n",
    "    lenth = len(x)\n",
    "    chi_stat = (lenth-1) * np.var(x, ddof=1) / var0\n",
    "    \n",
    "    temp = stats.chi2.cdf(chi_stat, lenth-1)\n",
    "    if alternative == 'two-sided':\n",
    "        pval = 2*(1-temp) if temp > 0.5 else 2*temp\n",
    "    elif alternative == 'greater':\n",
    "        pval = 1 - temp\n",
    "    elif alternative == 'less':\n",
    "        pval = temp\n",
    "    else:\n",
    "        print(\"ERROR\")\n",
    "        \n",
    "    return chi_stat, pval\n",
    "\n",
    "\n",
    "# 1. 귀무가설 : 분산은 1.3이다. / 연구가설 : 분산은 1.3이 아니다\n",
    "\n",
    "# 2. 양측 검정 시행\n",
    "chi_stat, p_val = chi_var_test(df['content'], var0=1.3, alternative='two-sided')\n",
    "print('p-value ',p_val)\n",
    "print('statics ',chi_stat)\n"
   ]
  },
  {
   "cell_type": "markdown",
   "id": "cb50d115",
   "metadata": {},
   "source": [
    "### 2. Lot별 200개에 대한 불량 제품 수량 데이터(변수 2개 - lot번호, 불량제품수)\n",
    "\n",
    "1 불량률 관리도에 따라 관리중심선(CL : Center Line), 관리 상한선(UCL : Upper Control Limit), 하한선(LCL : Lower Control Limit) 구하기\n",
    "\n",
    "2 관리도 시각화"
   ]
  },
  {
   "cell_type": "code",
   "execution_count": null,
   "id": "7bfbf2d5",
   "metadata": {},
   "outputs": [],
   "source": []
  }
 ],
 "metadata": {
  "kernelspec": {
   "display_name": "Python 3 (ipykernel)",
   "language": "python",
   "name": "python3"
  },
  "language_info": {
   "codemirror_mode": {
    "name": "ipython",
    "version": 3
   },
   "file_extension": ".py",
   "mimetype": "text/x-python",
   "name": "python",
   "nbconvert_exporter": "python",
   "pygments_lexer": "ipython3",
   "version": "3.9.12"
  }
 },
 "nbformat": 4,
 "nbformat_minor": 5
}
