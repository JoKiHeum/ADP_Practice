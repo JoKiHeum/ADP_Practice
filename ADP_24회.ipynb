{
 "cells": [
  {
   "cell_type": "markdown",
   "id": "8857e3c9",
   "metadata": {},
   "source": [
    "## 1번\n",
    "\n",
    "데이터 확인 및 전처리\n",
    "\n",
    "1.1 데이터 EDA 및 시각화\n",
    "\n",
    "1.2 결측치 처리 및 변화 시각화, 추가 전처리가 필요하다면 이유와 기대효과를 설명하라\n",
    "\n",
    "1.3 결석일수 예측모델을 2개 제시하고 선택한 근거 설명\n",
    "\n",
    "1.4 선정한 모델 2가지 생성 및 모델의 평가 기준을 선정하고 선정 이유 설명\n",
    "\n",
    "1.5 모델이 다양한 일상 상황에서도 잘 동작한다는 것을 설명하고 시각화 하라\n",
    "\n",
    "1.6 모델 최적화 방안에 대해 구체적으로 설명하라\n",
    "\n",
    "데이터 설명\n",
    "\n",
    "성별(sex) 바이너리 : ‘F’ - 여성 또는 ‘M’ - 남성\n",
    "\n",
    "나이(age) 숫자: 15 - 22\n",
    "\n",
    "부모님동거여부 (Pstatus) 바이너리: T: 동거 또는 ‘A’: 별거\n",
    "\n",
    "엄마학력(Medu) 숫자 : 0 : 없음, 1 : 초등 교육, 2 : 5-9학년, 3 - 중등 교육 또는 4 - 고등 교육\n",
    "\n",
    "아빠학력(Fedu) 숫자 : 0 : 없음, 1 : 초등 교육, 2 : 5-9학년, 3 - 중등 교육 또는 4 - 고등 교육\n",
    "\n",
    "주보호자(guardian) 명목형 : ‘어머니’, ‘아버지’ 또는 ‘기타’\n",
    "\n",
    "등하교시간(traveltime) 숫자 : 1 : 15분이하, 2 : 15 ~ 30분, 3 : 30분 ~ 1시간, 4 : 1시간 이상\n",
    "\n",
    "학습시간(studytime) 숫자 : 1 : 2시간이하, 2 : 2~5시간, 3 : 5~10시간, 4 : 10시간이상\n",
    "\n",
    "학고횟수(failures) 숫자 : 1, 2, 3 else 4\n",
    "\n",
    "자유시간(freetime) 숫자 : 1(매우 낮음), 2, 3, 4, 5(매우 높음)\n",
    "\n",
    "가족관계(famrel) 숫자 : 1(매우 나쁨), 2, 3, 4, 5(우수)"
   ]
  },
  {
   "cell_type": "code",
   "execution_count": 1,
   "id": "4a95cce6",
   "metadata": {},
   "outputs": [],
   "source": [
    "import pandas as pd\n",
    "import numpy as np\n",
    "import matplotlib.pyplot as plt\n",
    "import seaborn as sns\n",
    "from matplotlib import font_manager, rc\n",
    "import warnings\n",
    "warnings.filterwarnings('ignore')\n",
    "font_path = \"C:/Windows/Fonts/NGULIM.TTF\"\n",
    "font = font_manager.FontProperties(fname=font_path).get_name()\n",
    "rc('font', family=font)"
   ]
  },
  {
   "cell_type": "code",
   "execution_count": 2,
   "id": "8bfc4aad",
   "metadata": {},
   "outputs": [
    {
     "data": {
      "text/html": [
       "<div>\n",
       "<style scoped>\n",
       "    .dataframe tbody tr th:only-of-type {\n",
       "        vertical-align: middle;\n",
       "    }\n",
       "\n",
       "    .dataframe tbody tr th {\n",
       "        vertical-align: top;\n",
       "    }\n",
       "\n",
       "    .dataframe thead th {\n",
       "        text-align: right;\n",
       "    }\n",
       "</style>\n",
       "<table border=\"1\" class=\"dataframe\">\n",
       "  <thead>\n",
       "    <tr style=\"text-align: right;\">\n",
       "      <th></th>\n",
       "      <th>sex</th>\n",
       "      <th>age</th>\n",
       "      <th>Pstatus</th>\n",
       "      <th>Fedu</th>\n",
       "      <th>Medu</th>\n",
       "      <th>guardian</th>\n",
       "      <th>studytime</th>\n",
       "      <th>traveltime</th>\n",
       "      <th>failures</th>\n",
       "      <th>famrel</th>\n",
       "      <th>freetime</th>\n",
       "      <th>absences</th>\n",
       "    </tr>\n",
       "  </thead>\n",
       "  <tbody>\n",
       "    <tr>\n",
       "      <th>0</th>\n",
       "      <td>F</td>\n",
       "      <td>18.0</td>\n",
       "      <td>A</td>\n",
       "      <td>4</td>\n",
       "      <td>4</td>\n",
       "      <td>mother</td>\n",
       "      <td>2</td>\n",
       "      <td>2.0</td>\n",
       "      <td>0</td>\n",
       "      <td>4</td>\n",
       "      <td>3.0</td>\n",
       "      <td>6</td>\n",
       "    </tr>\n",
       "    <tr>\n",
       "      <th>1</th>\n",
       "      <td>F</td>\n",
       "      <td>17.0</td>\n",
       "      <td>T</td>\n",
       "      <td>1</td>\n",
       "      <td>1</td>\n",
       "      <td>father</td>\n",
       "      <td>2</td>\n",
       "      <td>1.0</td>\n",
       "      <td>0</td>\n",
       "      <td>5</td>\n",
       "      <td>3.0</td>\n",
       "      <td>4</td>\n",
       "    </tr>\n",
       "    <tr>\n",
       "      <th>2</th>\n",
       "      <td>F</td>\n",
       "      <td>15.0</td>\n",
       "      <td>T</td>\n",
       "      <td>1</td>\n",
       "      <td>1</td>\n",
       "      <td>mother</td>\n",
       "      <td>2</td>\n",
       "      <td>1.0</td>\n",
       "      <td>3</td>\n",
       "      <td>4</td>\n",
       "      <td>3.0</td>\n",
       "      <td>10</td>\n",
       "    </tr>\n",
       "    <tr>\n",
       "      <th>3</th>\n",
       "      <td>F</td>\n",
       "      <td>15.0</td>\n",
       "      <td>T</td>\n",
       "      <td>2</td>\n",
       "      <td>4</td>\n",
       "      <td>mother</td>\n",
       "      <td>3</td>\n",
       "      <td>1.0</td>\n",
       "      <td>0</td>\n",
       "      <td>3</td>\n",
       "      <td>2.0</td>\n",
       "      <td>2</td>\n",
       "    </tr>\n",
       "    <tr>\n",
       "      <th>4</th>\n",
       "      <td>F</td>\n",
       "      <td>NaN</td>\n",
       "      <td>T</td>\n",
       "      <td>3</td>\n",
       "      <td>3</td>\n",
       "      <td>father</td>\n",
       "      <td>2</td>\n",
       "      <td>1.0</td>\n",
       "      <td>0</td>\n",
       "      <td>4</td>\n",
       "      <td>3.0</td>\n",
       "      <td>4</td>\n",
       "    </tr>\n",
       "  </tbody>\n",
       "</table>\n",
       "</div>"
      ],
      "text/plain": [
       "  sex   age Pstatus  Fedu  Medu guardian  studytime  traveltime  failures  \\\n",
       "0   F  18.0       A     4     4   mother          2         2.0         0   \n",
       "1   F  17.0       T     1     1   father          2         1.0         0   \n",
       "2   F  15.0       T     1     1   mother          2         1.0         3   \n",
       "3   F  15.0       T     2     4   mother          3         1.0         0   \n",
       "4   F   NaN       T     3     3   father          2         1.0         0   \n",
       "\n",
       "   famrel  freetime  absences  \n",
       "0       4       3.0         6  \n",
       "1       5       3.0         4  \n",
       "2       4       3.0        10  \n",
       "3       3       2.0         2  \n",
       "4       4       3.0         4  "
      ]
     },
     "execution_count": 2,
     "metadata": {},
     "output_type": "execute_result"
    }
   ],
   "source": [
    "df= pd.read_csv('https://raw.githubusercontent.com/Datamanim/datarepo/main/adp/24/problem1.csv')\n",
    "df.head()"
   ]
  },
  {
   "cell_type": "code",
   "execution_count": 3,
   "id": "64eebc9a",
   "metadata": {},
   "outputs": [
    {
     "name": "stdout",
     "output_type": "stream",
     "text": [
      "<class 'pandas.core.frame.DataFrame'>\n",
      "RangeIndex: 395 entries, 0 to 394\n",
      "Data columns (total 12 columns):\n",
      " #   Column      Non-Null Count  Dtype  \n",
      "---  ------      --------------  -----  \n",
      " 0   sex         395 non-null    object \n",
      " 1   age         392 non-null    float64\n",
      " 2   Pstatus     395 non-null    object \n",
      " 3   Fedu        395 non-null    int64  \n",
      " 4   Medu        395 non-null    int64  \n",
      " 5   guardian    395 non-null    object \n",
      " 6   studytime   395 non-null    int64  \n",
      " 7   traveltime  392 non-null    float64\n",
      " 8   failures    395 non-null    int64  \n",
      " 9   famrel      395 non-null    int64  \n",
      " 10  freetime    390 non-null    float64\n",
      " 11  absences    395 non-null    int64  \n",
      "dtypes: float64(3), int64(6), object(3)\n",
      "memory usage: 37.2+ KB\n"
     ]
    }
   ],
   "source": [
    "# 1.1 데이터 EDA및 시각화\n",
    "df.info()\n",
    "# info()함수로 데이터 타입 확인 결과 int로 표현됐지만 age변수를 제외한 모든 변수가 명목형 변수로 확인됐다."
   ]
  },
  {
   "cell_type": "code",
   "execution_count": 4,
   "id": "b11d9fc9",
   "metadata": {},
   "outputs": [
    {
     "data": {
      "text/plain": [
       "<BarContainer object of 34 artists>"
      ]
     },
     "execution_count": 4,
     "metadata": {},
     "output_type": "execute_result"
    },
    {
     "data": {
      "image/png": "[encoded data removed]",
      "text/plain": [
       "<Figure size 432x288 with 1 Axes>"
      ]
     },
     "metadata": {
      "needs_background": "light"
     },
     "output_type": "display_data"
    }
   ],
   "source": [
    "plt.bar(df['absences'].value_counts().index,df['absences'].value_counts().values)"
   ]
  },
  {
   "cell_type": "code",
   "execution_count": 5,
   "id": "3b35afd0",
   "metadata": {},
   "outputs": [
    {
     "data": {
      "image/png": "[encoded data removed]",
      "text/plain": [
       "<Figure size 432x288 with 2 Axes>"
      ]
     },
     "metadata": {
      "needs_background": "light"
     },
     "output_type": "display_data"
    }
   ],
   "source": [
    "df_cor = df.corr(method='pearson')\n",
    "sns.heatmap(df_cor,\n",
    "           xticklabels=df_cor.columns,\n",
    "           yticklabels=df_cor.columns,\n",
    "           cmap='RdBu_r',\n",
    "           annot=True,\n",
    "           linewidth=3)\n",
    "plt.show()"
   ]
  },
  {
   "cell_type": "code",
   "execution_count": 10,
   "id": "c93da6fd",
   "metadata": {},
   "outputs": [],
   "source": [
    "df_columns = df.columns.difference(['age','absences'])"
   ]
  },
  {
   "cell_type": "code",
   "execution_count": 11,
   "id": "272aeae6",
   "metadata": {},
   "outputs": [
    {
     "data": {
      "text/plain": [
       "Text(0.5, 1.0, 'traveltime')"
      ]
     },
     "execution_count": 11,
     "metadata": {},
     "output_type": "execute_result"
    },
    {
     "data": {
      "image/png": "[encoded data removed]",
      "text/plain": [
       "<Figure size 1440x360 with 10 Axes>"
      ]
     },
     "metadata": {
      "needs_background": "light"
     },
     "output_type": "display_data"
    }
   ],
   "source": [
    "fig,axs = plt.subplots(2,5,figsize=(20,5))\n",
    "axs[0][0].bar(df['sex'].value_counts().index,df['sex'].value_counts().values)\n",
    "axs[0][0].set_title('sex')\n",
    "axs[0][1].bar(df['Fedu'].value_counts().index,df['Fedu'].value_counts().values)\n",
    "axs[0][1].set_title('Fedu')\n",
    "axs[0][2].bar(df['Medu'].value_counts().index,df['Medu'].value_counts().values)\n",
    "axs[0][2].set_title('Medu')\n",
    "axs[0][3].bar(df['Pstatus'].value_counts().index,df['Pstatus'].value_counts().values)\n",
    "axs[0][3].set_title('Pstatus')\n",
    "axs[0][4].bar(df['guardian'].value_counts().index,df['guardian'].value_counts().values)\n",
    "axs[0][4].set_title('guardian')\n",
    "\n",
    "axs[1][0].bar(df['failures'].value_counts().index,df['failures'].value_counts().values)\n",
    "axs[1][0].set_title('failures')\n",
    "axs[1][1].bar(df['famrel'].value_counts().index,df['famrel'].value_counts().values)\n",
    "axs[1][1].set_title('famrel')\n",
    "axs[1][2].bar(df['freetime'].value_counts().index,df['freetime'].value_counts().values)\n",
    "axs[1][2].set_title('freetime')\n",
    "axs[1][3].bar(df['studytime'].value_counts().index,df['studytime'].value_counts().values)\n",
    "axs[1][3].set_title('studytime')\n",
    "axs[1][4].bar(df['traveltime'].value_counts().index,df['traveltime'].value_counts().values)\n",
    "axs[1][4].set_title('traveltime')"
   ]
  },
  {
   "cell_type": "code",
   "execution_count": 12,
   "id": "14022978",
   "metadata": {},
   "outputs": [
    {
     "data": {
      "image/png": "[encoded data removed]",
      "text/plain": [
       "<Figure size 1584x720 with 10 Axes>"
      ]
     },
     "metadata": {
      "needs_background": "light"
     },
     "output_type": "display_data"
    }
   ],
   "source": [
    "fig,axs = plt.subplots(2,5,figsize=(22,10))\n",
    "for i in range(5):\n",
    "    sns.barplot(df[df_columns[i]].value_counts().index,df[df_columns[i]].value_counts().values, ax= axs[0][i])\n",
    "    axs[0][i].set_title(df_columns[i])\n",
    "for i in range(5):\n",
    "    sns.barplot(df[df_columns[i+5]].value_counts().index,df[df_columns[i+5]].value_counts().values, ax= axs[1][i])\n",
    "    axs[1][i].set_title(df_columns[i+5])\n",
    "plt.show()"
   ]
  },
  {
   "cell_type": "code",
   "execution_count": 13,
   "id": "bbf91425",
   "metadata": {},
   "outputs": [
    {
     "data": {
      "image/png": "[encoded data removed]",
      "text/plain": [
       "<Figure size 432x288 with 1 Axes>"
      ]
     },
     "metadata": {
      "needs_background": "light"
     },
     "output_type": "display_data"
    }
   ],
   "source": [
    "sns.barplot(df['absences'].value_counts().index, df['absences'].value_counts().values)\n",
    "plt.show()"
   ]
  },
  {
   "cell_type": "code",
   "execution_count": 14,
   "id": "435387a8",
   "metadata": {},
   "outputs": [
    {
     "data": {
      "image/png": "[encoded data removed]",
      "text/plain": [
       "<Figure size 432x288 with 1 Axes>"
      ]
     },
     "metadata": {
      "needs_background": "light"
     },
     "output_type": "display_data"
    }
   ],
   "source": [
    "sns.barplot(df['age'].value_counts().index, df['age'].value_counts().values)\n",
    "plt.show()"
   ]
  },
  {
   "cell_type": "code",
   "execution_count": 15,
   "id": "9e57f15f",
   "metadata": {},
   "outputs": [
    {
     "data": {
      "text/plain": [
       "sex           0\n",
       "age           3\n",
       "Pstatus       0\n",
       "Fedu          0\n",
       "Medu          0\n",
       "guardian      0\n",
       "studytime     0\n",
       "traveltime    3\n",
       "failures      0\n",
       "famrel        0\n",
       "freetime      5\n",
       "absences      0\n",
       "dtype: int64"
      ]
     },
     "execution_count": 15,
     "metadata": {},
     "output_type": "execute_result"
    }
   ],
   "source": [
    "df.isna().sum()"
   ]
  },
  {
   "cell_type": "code",
   "execution_count": 16,
   "id": "c1fd6e66",
   "metadata": {},
   "outputs": [
    {
     "data": {
      "text/html": [
       "<div>\n",
       "<style scoped>\n",
       "    .dataframe tbody tr th:only-of-type {\n",
       "        vertical-align: middle;\n",
       "    }\n",
       "\n",
       "    .dataframe tbody tr th {\n",
       "        vertical-align: top;\n",
       "    }\n",
       "\n",
       "    .dataframe thead th {\n",
       "        text-align: right;\n",
       "    }\n",
       "</style>\n",
       "<table border=\"1\" class=\"dataframe\">\n",
       "  <thead>\n",
       "    <tr style=\"text-align: right;\">\n",
       "      <th></th>\n",
       "      <th>age</th>\n",
       "      <th>Fedu</th>\n",
       "      <th>Medu</th>\n",
       "      <th>studytime</th>\n",
       "      <th>traveltime</th>\n",
       "      <th>failures</th>\n",
       "      <th>famrel</th>\n",
       "      <th>freetime</th>\n",
       "      <th>absences</th>\n",
       "    </tr>\n",
       "  </thead>\n",
       "  <tbody>\n",
       "    <tr>\n",
       "      <th>count</th>\n",
       "      <td>392.000000</td>\n",
       "      <td>395.000000</td>\n",
       "      <td>395.000000</td>\n",
       "      <td>395.000000</td>\n",
       "      <td>392.000000</td>\n",
       "      <td>395.000000</td>\n",
       "      <td>395.000000</td>\n",
       "      <td>390.000000</td>\n",
       "      <td>395.000000</td>\n",
       "    </tr>\n",
       "    <tr>\n",
       "      <th>mean</th>\n",
       "      <td>16.698980</td>\n",
       "      <td>2.521519</td>\n",
       "      <td>2.749367</td>\n",
       "      <td>2.035443</td>\n",
       "      <td>1.446429</td>\n",
       "      <td>0.334177</td>\n",
       "      <td>3.944304</td>\n",
       "      <td>3.233333</td>\n",
       "      <td>5.708861</td>\n",
       "    </tr>\n",
       "    <tr>\n",
       "      <th>std</th>\n",
       "      <td>1.279865</td>\n",
       "      <td>1.088201</td>\n",
       "      <td>1.094735</td>\n",
       "      <td>0.839240</td>\n",
       "      <td>0.695022</td>\n",
       "      <td>0.743651</td>\n",
       "      <td>0.896659</td>\n",
       "      <td>1.000985</td>\n",
       "      <td>8.003096</td>\n",
       "    </tr>\n",
       "    <tr>\n",
       "      <th>min</th>\n",
       "      <td>15.000000</td>\n",
       "      <td>0.000000</td>\n",
       "      <td>0.000000</td>\n",
       "      <td>1.000000</td>\n",
       "      <td>1.000000</td>\n",
       "      <td>0.000000</td>\n",
       "      <td>1.000000</td>\n",
       "      <td>1.000000</td>\n",
       "      <td>0.000000</td>\n",
       "    </tr>\n",
       "    <tr>\n",
       "      <th>25%</th>\n",
       "      <td>16.000000</td>\n",
       "      <td>2.000000</td>\n",
       "      <td>2.000000</td>\n",
       "      <td>1.000000</td>\n",
       "      <td>1.000000</td>\n",
       "      <td>0.000000</td>\n",
       "      <td>4.000000</td>\n",
       "      <td>3.000000</td>\n",
       "      <td>0.000000</td>\n",
       "    </tr>\n",
       "    <tr>\n",
       "      <th>50%</th>\n",
       "      <td>17.000000</td>\n",
       "      <td>2.000000</td>\n",
       "      <td>3.000000</td>\n",
       "      <td>2.000000</td>\n",
       "      <td>1.000000</td>\n",
       "      <td>0.000000</td>\n",
       "      <td>4.000000</td>\n",
       "      <td>3.000000</td>\n",
       "      <td>4.000000</td>\n",
       "    </tr>\n",
       "    <tr>\n",
       "      <th>75%</th>\n",
       "      <td>18.000000</td>\n",
       "      <td>3.000000</td>\n",
       "      <td>4.000000</td>\n",
       "      <td>2.000000</td>\n",
       "      <td>2.000000</td>\n",
       "      <td>0.000000</td>\n",
       "      <td>5.000000</td>\n",
       "      <td>4.000000</td>\n",
       "      <td>8.000000</td>\n",
       "    </tr>\n",
       "    <tr>\n",
       "      <th>max</th>\n",
       "      <td>22.000000</td>\n",
       "      <td>4.000000</td>\n",
       "      <td>4.000000</td>\n",
       "      <td>4.000000</td>\n",
       "      <td>4.000000</td>\n",
       "      <td>3.000000</td>\n",
       "      <td>5.000000</td>\n",
       "      <td>5.000000</td>\n",
       "      <td>75.000000</td>\n",
       "    </tr>\n",
       "  </tbody>\n",
       "</table>\n",
       "</div>"
      ],
      "text/plain": [
       "              age        Fedu        Medu   studytime  traveltime    failures  \\\n",
       "count  392.000000  395.000000  395.000000  395.000000  392.000000  395.000000   \n",
       "mean    16.698980    2.521519    2.749367    2.035443    1.446429    0.334177   \n",
       "std      1.279865    1.088201    1.094735    0.839240    0.695022    0.743651   \n",
       "min     15.000000    0.000000    0.000000    1.000000    1.000000    0.000000   \n",
       "25%     16.000000    2.000000    2.000000    1.000000    1.000000    0.000000   \n",
       "50%     17.000000    2.000000    3.000000    2.000000    1.000000    0.000000   \n",
       "75%     18.000000    3.000000    4.000000    2.000000    2.000000    0.000000   \n",
       "max     22.000000    4.000000    4.000000    4.000000    4.000000    3.000000   \n",
       "\n",
       "           famrel    freetime    absences  \n",
       "count  395.000000  390.000000  395.000000  \n",
       "mean     3.944304    3.233333    5.708861  \n",
       "std      0.896659    1.000985    8.003096  \n",
       "min      1.000000    1.000000    0.000000  \n",
       "25%      4.000000    3.000000    0.000000  \n",
       "50%      4.000000    3.000000    4.000000  \n",
       "75%      5.000000    4.000000    8.000000  \n",
       "max      5.000000    5.000000   75.000000  "
      ]
     },
     "execution_count": 16,
     "metadata": {},
     "output_type": "execute_result"
    }
   ],
   "source": [
    "df.describe()"
   ]
  },
  {
   "cell_type": "markdown",
   "id": "18b427c5",
   "metadata": {},
   "source": [
    "### 독립변수 상관관계 설명\n",
    "-  상관계수(heatmap): 독립변수끼리의 상관계수를 확인해본 결과 다중공선성을 걱정할만큼(0.9)이상의 상관성이 보이지 않았다. \n",
    "\n",
    "###  결측치 존재여부\n",
    "- 전체 데이터에서 age, freetime, traveltime변수에서 결측치가 존재한다. age변수는 int변수로 중앙값으로 대체가 가능하고, freetime, traveltime은 범주형 변수로 최빈값으로 대체할 수 있을것으로 보인다.\n",
    "\n",
    "### 종속변수 분포 설명\n",
    "- 종속변수의 분포는 정규성을 띄지 않는다\n",
    "\n",
    "### 종속변수와 독립변수의 상관관계 설명\n",
    "- 종속변수 absences와의 상관계수를 확인해 봤을 때, 독립 변수에는서는 큰 상관성이 없었다. 파생변수를 활용할 필요가 있어 보인다."
   ]
  },
  {
   "cell_type": "code",
   "execution_count": 19,
   "id": "0eb44fcd",
   "metadata": {},
   "outputs": [],
   "source": [
    "# 1.2 결측치 처리 및 변화 시각화, 추가 전처리가 필요하다면 이유와 기대효과를 설명하라\n",
    "df['age']=df['age'].fillna(df['age'].median())\n",
    "df['freetime']=df['freetime'].fillna(df['freetime'].mode()[0])\n",
    "df['traveltime']=df['traveltime'].fillna(df['traveltime'].mode()[0])"
   ]
  },
  {
   "cell_type": "code",
   "execution_count": 20,
   "id": "77b14db6",
   "metadata": {},
   "outputs": [
    {
     "data": {
      "text/plain": [
       "sex           0\n",
       "age           0\n",
       "Pstatus       0\n",
       "Fedu          0\n",
       "Medu          0\n",
       "guardian      0\n",
       "studytime     0\n",
       "traveltime    0\n",
       "failures      0\n",
       "famrel        0\n",
       "freetime      0\n",
       "absences      0\n",
       "dtype: int64"
      ]
     },
     "execution_count": 20,
     "metadata": {},
     "output_type": "execute_result"
    }
   ],
   "source": [
    "df.isna().sum()"
   ]
  },
  {
   "cell_type": "code",
   "execution_count": 21,
   "id": "adee4159",
   "metadata": {},
   "outputs": [
    {
     "data": {
      "image/png": "[encoded data removed]",
      "text/plain": [
       "<Figure size 1584x720 with 10 Axes>"
      ]
     },
     "metadata": {
      "needs_background": "light"
     },
     "output_type": "display_data"
    }
   ],
   "source": [
    "fig,axs = plt.subplots(2,5,figsize=(22,10))\n",
    "for i in range(5):\n",
    "    sns.barplot(df[df_columns[i]].value_counts().index,df[df_columns[i]].value_counts().values, ax= axs[0][i])\n",
    "    axs[0][i].set_title(df_columns[i])\n",
    "for i in range(5):\n",
    "    sns.barplot(df[df_columns[i+5]].value_counts().index,df[df_columns[i+5]].value_counts().values, ax= axs[1][i])\n",
    "    axs[1][i].set_title(df_columns[i+5])\n",
    "plt.show()"
   ]
  },
  {
   "cell_type": "code",
   "execution_count": 22,
   "id": "e681d4c8",
   "metadata": {},
   "outputs": [
    {
     "data": {
      "text/html": [
       "<div>\n",
       "<style scoped>\n",
       "    .dataframe tbody tr th:only-of-type {\n",
       "        vertical-align: middle;\n",
       "    }\n",
       "\n",
       "    .dataframe tbody tr th {\n",
       "        vertical-align: top;\n",
       "    }\n",
       "\n",
       "    .dataframe thead th {\n",
       "        text-align: right;\n",
       "    }\n",
       "</style>\n",
       "<table border=\"1\" class=\"dataframe\">\n",
       "  <thead>\n",
       "    <tr style=\"text-align: right;\">\n",
       "      <th></th>\n",
       "      <th>sex</th>\n",
       "      <th>age</th>\n",
       "      <th>Pstatus</th>\n",
       "      <th>Fedu</th>\n",
       "      <th>Medu</th>\n",
       "      <th>guardian</th>\n",
       "      <th>studytime</th>\n",
       "      <th>traveltime</th>\n",
       "      <th>failures</th>\n",
       "      <th>famrel</th>\n",
       "      <th>freetime</th>\n",
       "      <th>absences</th>\n",
       "    </tr>\n",
       "  </thead>\n",
       "  <tbody>\n",
       "    <tr>\n",
       "      <th>0</th>\n",
       "      <td>F</td>\n",
       "      <td>18.0</td>\n",
       "      <td>A</td>\n",
       "      <td>4</td>\n",
       "      <td>4</td>\n",
       "      <td>mother</td>\n",
       "      <td>2</td>\n",
       "      <td>2.0</td>\n",
       "      <td>0</td>\n",
       "      <td>4</td>\n",
       "      <td>3.0</td>\n",
       "      <td>6</td>\n",
       "    </tr>\n",
       "    <tr>\n",
       "      <th>1</th>\n",
       "      <td>F</td>\n",
       "      <td>17.0</td>\n",
       "      <td>T</td>\n",
       "      <td>1</td>\n",
       "      <td>1</td>\n",
       "      <td>father</td>\n",
       "      <td>2</td>\n",
       "      <td>1.0</td>\n",
       "      <td>0</td>\n",
       "      <td>5</td>\n",
       "      <td>3.0</td>\n",
       "      <td>4</td>\n",
       "    </tr>\n",
       "    <tr>\n",
       "      <th>2</th>\n",
       "      <td>F</td>\n",
       "      <td>15.0</td>\n",
       "      <td>T</td>\n",
       "      <td>1</td>\n",
       "      <td>1</td>\n",
       "      <td>mother</td>\n",
       "      <td>2</td>\n",
       "      <td>1.0</td>\n",
       "      <td>3</td>\n",
       "      <td>4</td>\n",
       "      <td>3.0</td>\n",
       "      <td>10</td>\n",
       "    </tr>\n",
       "    <tr>\n",
       "      <th>3</th>\n",
       "      <td>F</td>\n",
       "      <td>15.0</td>\n",
       "      <td>T</td>\n",
       "      <td>2</td>\n",
       "      <td>4</td>\n",
       "      <td>mother</td>\n",
       "      <td>3</td>\n",
       "      <td>1.0</td>\n",
       "      <td>0</td>\n",
       "      <td>3</td>\n",
       "      <td>2.0</td>\n",
       "      <td>2</td>\n",
       "    </tr>\n",
       "    <tr>\n",
       "      <th>4</th>\n",
       "      <td>F</td>\n",
       "      <td>17.0</td>\n",
       "      <td>T</td>\n",
       "      <td>3</td>\n",
       "      <td>3</td>\n",
       "      <td>father</td>\n",
       "      <td>2</td>\n",
       "      <td>1.0</td>\n",
       "      <td>0</td>\n",
       "      <td>4</td>\n",
       "      <td>3.0</td>\n",
       "      <td>4</td>\n",
       "    </tr>\n",
       "    <tr>\n",
       "      <th>...</th>\n",
       "      <td>...</td>\n",
       "      <td>...</td>\n",
       "      <td>...</td>\n",
       "      <td>...</td>\n",
       "      <td>...</td>\n",
       "      <td>...</td>\n",
       "      <td>...</td>\n",
       "      <td>...</td>\n",
       "      <td>...</td>\n",
       "      <td>...</td>\n",
       "      <td>...</td>\n",
       "      <td>...</td>\n",
       "    </tr>\n",
       "    <tr>\n",
       "      <th>390</th>\n",
       "      <td>M</td>\n",
       "      <td>20.0</td>\n",
       "      <td>A</td>\n",
       "      <td>2</td>\n",
       "      <td>2</td>\n",
       "      <td>other</td>\n",
       "      <td>2</td>\n",
       "      <td>1.0</td>\n",
       "      <td>2</td>\n",
       "      <td>5</td>\n",
       "      <td>5.0</td>\n",
       "      <td>11</td>\n",
       "    </tr>\n",
       "    <tr>\n",
       "      <th>391</th>\n",
       "      <td>M</td>\n",
       "      <td>17.0</td>\n",
       "      <td>T</td>\n",
       "      <td>1</td>\n",
       "      <td>3</td>\n",
       "      <td>mother</td>\n",
       "      <td>1</td>\n",
       "      <td>2.0</td>\n",
       "      <td>0</td>\n",
       "      <td>2</td>\n",
       "      <td>4.0</td>\n",
       "      <td>3</td>\n",
       "    </tr>\n",
       "    <tr>\n",
       "      <th>392</th>\n",
       "      <td>M</td>\n",
       "      <td>21.0</td>\n",
       "      <td>T</td>\n",
       "      <td>1</td>\n",
       "      <td>1</td>\n",
       "      <td>other</td>\n",
       "      <td>1</td>\n",
       "      <td>1.0</td>\n",
       "      <td>3</td>\n",
       "      <td>5</td>\n",
       "      <td>5.0</td>\n",
       "      <td>3</td>\n",
       "    </tr>\n",
       "    <tr>\n",
       "      <th>393</th>\n",
       "      <td>M</td>\n",
       "      <td>18.0</td>\n",
       "      <td>T</td>\n",
       "      <td>2</td>\n",
       "      <td>3</td>\n",
       "      <td>mother</td>\n",
       "      <td>1</td>\n",
       "      <td>3.0</td>\n",
       "      <td>0</td>\n",
       "      <td>4</td>\n",
       "      <td>4.0</td>\n",
       "      <td>0</td>\n",
       "    </tr>\n",
       "    <tr>\n",
       "      <th>394</th>\n",
       "      <td>M</td>\n",
       "      <td>19.0</td>\n",
       "      <td>T</td>\n",
       "      <td>1</td>\n",
       "      <td>1</td>\n",
       "      <td>father</td>\n",
       "      <td>1</td>\n",
       "      <td>1.0</td>\n",
       "      <td>0</td>\n",
       "      <td>3</td>\n",
       "      <td>2.0</td>\n",
       "      <td>5</td>\n",
       "    </tr>\n",
       "  </tbody>\n",
       "</table>\n",
       "<p>395 rows × 12 columns</p>\n",
       "</div>"
      ],
      "text/plain": [
       "    sex   age Pstatus  Fedu  Medu guardian  studytime  traveltime  failures  \\\n",
       "0     F  18.0       A     4     4   mother          2         2.0         0   \n",
       "1     F  17.0       T     1     1   father          2         1.0         0   \n",
       "2     F  15.0       T     1     1   mother          2         1.0         3   \n",
       "3     F  15.0       T     2     4   mother          3         1.0         0   \n",
       "4     F  17.0       T     3     3   father          2         1.0         0   \n",
       "..   ..   ...     ...   ...   ...      ...        ...         ...       ...   \n",
       "390   M  20.0       A     2     2    other          2         1.0         2   \n",
       "391   M  17.0       T     1     3   mother          1         2.0         0   \n",
       "392   M  21.0       T     1     1    other          1         1.0         3   \n",
       "393   M  18.0       T     2     3   mother          1         3.0         0   \n",
       "394   M  19.0       T     1     1   father          1         1.0         0   \n",
       "\n",
       "     famrel  freetime  absences  \n",
       "0         4       3.0         6  \n",
       "1         5       3.0         4  \n",
       "2         4       3.0        10  \n",
       "3         3       2.0         2  \n",
       "4         4       3.0         4  \n",
       "..      ...       ...       ...  \n",
       "390       5       5.0        11  \n",
       "391       2       4.0         3  \n",
       "392       5       5.0         3  \n",
       "393       4       4.0         0  \n",
       "394       3       2.0         5  \n",
       "\n",
       "[395 rows x 12 columns]"
      ]
     },
     "execution_count": 22,
     "metadata": {},
     "output_type": "execute_result"
    }
   ],
   "source": [
    "df"
   ]
  },
  {
   "cell_type": "markdown",
   "id": "13a8230f",
   "metadata": {},
   "source": [
    "## 1.2 결측치 처리 및 변화 시각화, 추가 전처리가 필요하다면 이유와 기대효과를 설명하라\n",
    "\n",
    "- 결측치 처리 후 데이터의 분포를 다시 확인해본 결과 큰 변화는 없다. 기존 데이터에서 결측치의 갯수가 적었기 때문이라고 생각된다\n",
    "- 데이터의 명목형 변수를 pd.get_dummies함수로 전처리 하겠다. 데이터 셋에서 명목형 변수는 sex와 guardian, Pstatus변수가 있다. \n",
    "- 나머지 변수는 순위형 변수로 변수 별로 구간을 정했고 숫자가 높을수록 높은 값을 갖는 의미가 같으므로 모델링을 진행하기 전 순위형 변수에 대해서는 더미변수 생성을 하지 않겠다."
   ]
  },
  {
   "cell_type": "code",
   "execution_count": 23,
   "id": "1c714b59",
   "metadata": {},
   "outputs": [
    {
     "data": {
      "text/html": [
       "<div>\n",
       "<style scoped>\n",
       "    .dataframe tbody tr th:only-of-type {\n",
       "        vertical-align: middle;\n",
       "    }\n",
       "\n",
       "    .dataframe tbody tr th {\n",
       "        vertical-align: top;\n",
       "    }\n",
       "\n",
       "    .dataframe thead th {\n",
       "        text-align: right;\n",
       "    }\n",
       "</style>\n",
       "<table border=\"1\" class=\"dataframe\">\n",
       "  <thead>\n",
       "    <tr style=\"text-align: right;\">\n",
       "      <th></th>\n",
       "      <th>age</th>\n",
       "      <th>Fedu</th>\n",
       "      <th>Medu</th>\n",
       "      <th>studytime</th>\n",
       "      <th>traveltime</th>\n",
       "      <th>failures</th>\n",
       "      <th>famrel</th>\n",
       "      <th>freetime</th>\n",
       "      <th>absences</th>\n",
       "      <th>sex_F</th>\n",
       "      <th>sex_M</th>\n",
       "      <th>Pstatus_A</th>\n",
       "      <th>Pstatus_T</th>\n",
       "      <th>guardian_father</th>\n",
       "      <th>guardian_mother</th>\n",
       "      <th>guardian_other</th>\n",
       "    </tr>\n",
       "  </thead>\n",
       "  <tbody>\n",
       "    <tr>\n",
       "      <th>0</th>\n",
       "      <td>18.0</td>\n",
       "      <td>4</td>\n",
       "      <td>4</td>\n",
       "      <td>2</td>\n",
       "      <td>2.0</td>\n",
       "      <td>0</td>\n",
       "      <td>4</td>\n",
       "      <td>3.0</td>\n",
       "      <td>6</td>\n",
       "      <td>1</td>\n",
       "      <td>0</td>\n",
       "      <td>1</td>\n",
       "      <td>0</td>\n",
       "      <td>0</td>\n",
       "      <td>1</td>\n",
       "      <td>0</td>\n",
       "    </tr>\n",
       "    <tr>\n",
       "      <th>1</th>\n",
       "      <td>17.0</td>\n",
       "      <td>1</td>\n",
       "      <td>1</td>\n",
       "      <td>2</td>\n",
       "      <td>1.0</td>\n",
       "      <td>0</td>\n",
       "      <td>5</td>\n",
       "      <td>3.0</td>\n",
       "      <td>4</td>\n",
       "      <td>1</td>\n",
       "      <td>0</td>\n",
       "      <td>0</td>\n",
       "      <td>1</td>\n",
       "      <td>1</td>\n",
       "      <td>0</td>\n",
       "      <td>0</td>\n",
       "    </tr>\n",
       "    <tr>\n",
       "      <th>2</th>\n",
       "      <td>15.0</td>\n",
       "      <td>1</td>\n",
       "      <td>1</td>\n",
       "      <td>2</td>\n",
       "      <td>1.0</td>\n",
       "      <td>3</td>\n",
       "      <td>4</td>\n",
       "      <td>3.0</td>\n",
       "      <td>10</td>\n",
       "      <td>1</td>\n",
       "      <td>0</td>\n",
       "      <td>0</td>\n",
       "      <td>1</td>\n",
       "      <td>0</td>\n",
       "      <td>1</td>\n",
       "      <td>0</td>\n",
       "    </tr>\n",
       "    <tr>\n",
       "      <th>3</th>\n",
       "      <td>15.0</td>\n",
       "      <td>2</td>\n",
       "      <td>4</td>\n",
       "      <td>3</td>\n",
       "      <td>1.0</td>\n",
       "      <td>0</td>\n",
       "      <td>3</td>\n",
       "      <td>2.0</td>\n",
       "      <td>2</td>\n",
       "      <td>1</td>\n",
       "      <td>0</td>\n",
       "      <td>0</td>\n",
       "      <td>1</td>\n",
       "      <td>0</td>\n",
       "      <td>1</td>\n",
       "      <td>0</td>\n",
       "    </tr>\n",
       "    <tr>\n",
       "      <th>4</th>\n",
       "      <td>17.0</td>\n",
       "      <td>3</td>\n",
       "      <td>3</td>\n",
       "      <td>2</td>\n",
       "      <td>1.0</td>\n",
       "      <td>0</td>\n",
       "      <td>4</td>\n",
       "      <td>3.0</td>\n",
       "      <td>4</td>\n",
       "      <td>1</td>\n",
       "      <td>0</td>\n",
       "      <td>0</td>\n",
       "      <td>1</td>\n",
       "      <td>1</td>\n",
       "      <td>0</td>\n",
       "      <td>0</td>\n",
       "    </tr>\n",
       "    <tr>\n",
       "      <th>...</th>\n",
       "      <td>...</td>\n",
       "      <td>...</td>\n",
       "      <td>...</td>\n",
       "      <td>...</td>\n",
       "      <td>...</td>\n",
       "      <td>...</td>\n",
       "      <td>...</td>\n",
       "      <td>...</td>\n",
       "      <td>...</td>\n",
       "      <td>...</td>\n",
       "      <td>...</td>\n",
       "      <td>...</td>\n",
       "      <td>...</td>\n",
       "      <td>...</td>\n",
       "      <td>...</td>\n",
       "      <td>...</td>\n",
       "    </tr>\n",
       "    <tr>\n",
       "      <th>390</th>\n",
       "      <td>20.0</td>\n",
       "      <td>2</td>\n",
       "      <td>2</td>\n",
       "      <td>2</td>\n",
       "      <td>1.0</td>\n",
       "      <td>2</td>\n",
       "      <td>5</td>\n",
       "      <td>5.0</td>\n",
       "      <td>11</td>\n",
       "      <td>0</td>\n",
       "      <td>1</td>\n",
       "      <td>1</td>\n",
       "      <td>0</td>\n",
       "      <td>0</td>\n",
       "      <td>0</td>\n",
       "      <td>1</td>\n",
       "    </tr>\n",
       "    <tr>\n",
       "      <th>391</th>\n",
       "      <td>17.0</td>\n",
       "      <td>1</td>\n",
       "      <td>3</td>\n",
       "      <td>1</td>\n",
       "      <td>2.0</td>\n",
       "      <td>0</td>\n",
       "      <td>2</td>\n",
       "      <td>4.0</td>\n",
       "      <td>3</td>\n",
       "      <td>0</td>\n",
       "      <td>1</td>\n",
       "      <td>0</td>\n",
       "      <td>1</td>\n",
       "      <td>0</td>\n",
       "      <td>1</td>\n",
       "      <td>0</td>\n",
       "    </tr>\n",
       "    <tr>\n",
       "      <th>392</th>\n",
       "      <td>21.0</td>\n",
       "      <td>1</td>\n",
       "      <td>1</td>\n",
       "      <td>1</td>\n",
       "      <td>1.0</td>\n",
       "      <td>3</td>\n",
       "      <td>5</td>\n",
       "      <td>5.0</td>\n",
       "      <td>3</td>\n",
       "      <td>0</td>\n",
       "      <td>1</td>\n",
       "      <td>0</td>\n",
       "      <td>1</td>\n",
       "      <td>0</td>\n",
       "      <td>0</td>\n",
       "      <td>1</td>\n",
       "    </tr>\n",
       "    <tr>\n",
       "      <th>393</th>\n",
       "      <td>18.0</td>\n",
       "      <td>2</td>\n",
       "      <td>3</td>\n",
       "      <td>1</td>\n",
       "      <td>3.0</td>\n",
       "      <td>0</td>\n",
       "      <td>4</td>\n",
       "      <td>4.0</td>\n",
       "      <td>0</td>\n",
       "      <td>0</td>\n",
       "      <td>1</td>\n",
       "      <td>0</td>\n",
       "      <td>1</td>\n",
       "      <td>0</td>\n",
       "      <td>1</td>\n",
       "      <td>0</td>\n",
       "    </tr>\n",
       "    <tr>\n",
       "      <th>394</th>\n",
       "      <td>19.0</td>\n",
       "      <td>1</td>\n",
       "      <td>1</td>\n",
       "      <td>1</td>\n",
       "      <td>1.0</td>\n",
       "      <td>0</td>\n",
       "      <td>3</td>\n",
       "      <td>2.0</td>\n",
       "      <td>5</td>\n",
       "      <td>0</td>\n",
       "      <td>1</td>\n",
       "      <td>0</td>\n",
       "      <td>1</td>\n",
       "      <td>1</td>\n",
       "      <td>0</td>\n",
       "      <td>0</td>\n",
       "    </tr>\n",
       "  </tbody>\n",
       "</table>\n",
       "<p>395 rows × 16 columns</p>\n",
       "</div>"
      ],
      "text/plain": [
       "      age  Fedu  Medu  studytime  traveltime  failures  famrel  freetime  \\\n",
       "0    18.0     4     4          2         2.0         0       4       3.0   \n",
       "1    17.0     1     1          2         1.0         0       5       3.0   \n",
       "2    15.0     1     1          2         1.0         3       4       3.0   \n",
       "3    15.0     2     4          3         1.0         0       3       2.0   \n",
       "4    17.0     3     3          2         1.0         0       4       3.0   \n",
       "..    ...   ...   ...        ...         ...       ...     ...       ...   \n",
       "390  20.0     2     2          2         1.0         2       5       5.0   \n",
       "391  17.0     1     3          1         2.0         0       2       4.0   \n",
       "392  21.0     1     1          1         1.0         3       5       5.0   \n",
       "393  18.0     2     3          1         3.0         0       4       4.0   \n",
       "394  19.0     1     1          1         1.0         0       3       2.0   \n",
       "\n",
       "     absences  sex_F  sex_M  Pstatus_A  Pstatus_T  guardian_father  \\\n",
       "0           6      1      0          1          0                0   \n",
       "1           4      1      0          0          1                1   \n",
       "2          10      1      0          0          1                0   \n",
       "3           2      1      0          0          1                0   \n",
       "4           4      1      0          0          1                1   \n",
       "..        ...    ...    ...        ...        ...              ...   \n",
       "390        11      0      1          1          0                0   \n",
       "391         3      0      1          0          1                0   \n",
       "392         3      0      1          0          1                0   \n",
       "393         0      0      1          0          1                0   \n",
       "394         5      0      1          0          1                1   \n",
       "\n",
       "     guardian_mother  guardian_other  \n",
       "0                  1               0  \n",
       "1                  0               0  \n",
       "2                  1               0  \n",
       "3                  1               0  \n",
       "4                  0               0  \n",
       "..               ...             ...  \n",
       "390                0               1  \n",
       "391                1               0  \n",
       "392                0               1  \n",
       "393                1               0  \n",
       "394                0               0  \n",
       "\n",
       "[395 rows x 16 columns]"
      ]
     },
     "execution_count": 23,
     "metadata": {},
     "output_type": "execute_result"
    }
   ],
   "source": [
    "# 추가 전처리\n",
    "# 데이터의 명목형 변수를 pd.get_dummies함수로 전처리 하겠다. 이유는 명목형 변수의 경우 수학적 연산으로 모델을 생성하는 대부분의 분석도구에서 사용이 불가능하기 때문이다.\n",
    "df = pd.get_dummies(df, columns=['sex','Pstatus','guardian'])\n",
    "df"
   ]
  },
  {
   "cell_type": "markdown",
   "id": "1381b2da",
   "metadata": {},
   "source": [
    "## 1.3 결석일수 예측모델을 2개 제시하고 선택한 근거 설명\n",
    "\n",
    "- 선정모델: SVM, xgboost\n",
    "- 선정이유: 해당 데이터의 종속변수는 연속형이므로 회귀분석이 적합하다. 회귀분석에서 다중공선성의 문제를 해결하는 것이 중요한데 svm은 커널트릭을 통해, xgboost는 트리모델을 통해 다중공선성을 해결할 수 있다."
   ]
  },
  {
   "cell_type": "markdown",
   "id": "6797c869",
   "metadata": {},
   "source": [
    "## 1.4 선정한 모델 2가지 생성 및 모델의 평가 기준을 선정하고 선정 이유 설명\n"
   ]
  },
  {
   "cell_type": "code",
   "execution_count": 24,
   "id": "2227d49e",
   "metadata": {},
   "outputs": [],
   "source": [
    "from sklearn.model_selection import train_test_split\n",
    "from sklearn.svm import SVR\n",
    "from xgboost import XGBRegressor\n",
    "from sklearn.metrics import mean_squared_error\n",
    "\n",
    "X = df.drop('absences',axis=1)\n",
    "y = df[['absences']]\n",
    "\n",
    "X_train,X_test, y_train, y_test = train_test_split(X,y, test_size= 0.3, random_state=1)"
   ]
  },
  {
   "cell_type": "code",
   "execution_count": 30,
   "id": "5911e601",
   "metadata": {},
   "outputs": [
    {
     "name": "stdout",
     "output_type": "stream",
     "text": [
      "RMSE: 6.8200741549767345\n",
      "R2:  -0.13472165843693795\n"
     ]
    }
   ],
   "source": [
    "# SVR\n",
    "\n",
    "clf = SVR()\n",
    "clf.fit(X_train, y_train)\n",
    "pred = clf.predict(X_test)\n",
    "\n",
    "print('RMSE:', np.sqrt(mean_squared_error(y_test,pred)))\n",
    "print(\"R2: \", clf.score(X_test, y_test))"
   ]
  },
  {
   "cell_type": "code",
   "execution_count": 31,
   "id": "74b31d8c",
   "metadata": {},
   "outputs": [
    {
     "name": "stdout",
     "output_type": "stream",
     "text": [
      "RMSE:  13.546779566900023\n",
      "R2:  -3.4769606665873463\n"
     ]
    }
   ],
   "source": [
    "clf = XGBRegressor()\n",
    "clf.fit(X_train, y_train)\n",
    "pred = clf.predict(X_test)\n",
    "\n",
    "print('RMSE: ', np.sqrt(mean_squared_error(y_test, pred)))\n",
    "print('R2: ', clf.score(X_test, y_test))"
   ]
  },
  {
   "cell_type": "markdown",
   "id": "aed28e44",
   "metadata": {},
   "source": [
    "## 1.5 모델 최적화 방안에 대해 구체적으로 설명하라\n",
    "- gridSearch를 활용해 다양한 파라미터를 수정해가면서 최고의 성능을 내는 모델을 만들 수 있다. \n",
    "- SVR 모델의 경우 C, gamma등 XGB모델의 경우 max_depth, min_samples_split 등의 주요 파라미터가 있고 gridSearch를 활용해 이런 주요 파라미터들을 수정해가며 모델 최적화를 할 수 있다."
   ]
  },
  {
   "cell_type": "markdown",
   "id": "da559fd6",
   "metadata": {},
   "source": [
    "# 통계분석"
   ]
  },
  {
   "cell_type": "markdown",
   "id": "15f86bdf",
   "metadata": {},
   "source": [
    "## 2번\n",
    "\n",
    "광고횟수와 광고비에 따른 매출액의 데이터이다\n",
    "\n",
    "2.1 광고비 변수를 가변수 처리후 다중회귀를 수행하여 회귀계수가 유의한지 검정\n",
    "\n",
    "2.2 회귀식이 유의한지 판단"
   ]
  },
  {
   "cell_type": "code",
   "execution_count": 32,
   "id": "26626119",
   "metadata": {},
   "outputs": [
    {
     "data": {
      "text/html": [
       "<div>\n",
       "<style scoped>\n",
       "    .dataframe tbody tr th:only-of-type {\n",
       "        vertical-align: middle;\n",
       "    }\n",
       "\n",
       "    .dataframe tbody tr th {\n",
       "        vertical-align: top;\n",
       "    }\n",
       "\n",
       "    .dataframe thead th {\n",
       "        text-align: right;\n",
       "    }\n",
       "</style>\n",
       "<table border=\"1\" class=\"dataframe\">\n",
       "  <thead>\n",
       "    <tr style=\"text-align: right;\">\n",
       "      <th></th>\n",
       "      <th>광고횟수</th>\n",
       "      <th>광고비</th>\n",
       "      <th>매출액</th>\n",
       "    </tr>\n",
       "  </thead>\n",
       "  <tbody>\n",
       "    <tr>\n",
       "      <th>0</th>\n",
       "      <td>2</td>\n",
       "      <td>낮음</td>\n",
       "      <td>15</td>\n",
       "    </tr>\n",
       "    <tr>\n",
       "      <th>1</th>\n",
       "      <td>3</td>\n",
       "      <td>낮음</td>\n",
       "      <td>16</td>\n",
       "    </tr>\n",
       "    <tr>\n",
       "      <th>2</th>\n",
       "      <td>4</td>\n",
       "      <td>낮음</td>\n",
       "      <td>17</td>\n",
       "    </tr>\n",
       "    <tr>\n",
       "      <th>3</th>\n",
       "      <td>4</td>\n",
       "      <td>높음</td>\n",
       "      <td>18</td>\n",
       "    </tr>\n",
       "    <tr>\n",
       "      <th>4</th>\n",
       "      <td>5</td>\n",
       "      <td>높음</td>\n",
       "      <td>20</td>\n",
       "    </tr>\n",
       "  </tbody>\n",
       "</table>\n",
       "</div>"
      ],
      "text/plain": [
       "   광고횟수 광고비  매출액\n",
       "0     2  낮음   15\n",
       "1     3  낮음   16\n",
       "2     4  낮음   17\n",
       "3     4  높음   18\n",
       "4     5  높음   20"
      ]
     },
     "execution_count": 32,
     "metadata": {},
     "output_type": "execute_result"
    }
   ],
   "source": [
    "import pandas as pd\n",
    "\n",
    "df= pd.read_csv('https://raw.githubusercontent.com/Datamanim/datarepo/main/adp/24/problem2.csv',encoding='cp949')\n",
    "df.head()"
   ]
  },
  {
   "cell_type": "code",
   "execution_count": 34,
   "id": "79a7593a",
   "metadata": {},
   "outputs": [
    {
     "data": {
      "text/html": [
       "<div>\n",
       "<style scoped>\n",
       "    .dataframe tbody tr th:only-of-type {\n",
       "        vertical-align: middle;\n",
       "    }\n",
       "\n",
       "    .dataframe tbody tr th {\n",
       "        vertical-align: top;\n",
       "    }\n",
       "\n",
       "    .dataframe thead th {\n",
       "        text-align: right;\n",
       "    }\n",
       "</style>\n",
       "<table border=\"1\" class=\"dataframe\">\n",
       "  <thead>\n",
       "    <tr style=\"text-align: right;\">\n",
       "      <th></th>\n",
       "      <th>광고횟수</th>\n",
       "      <th>매출액</th>\n",
       "      <th>광고비_낮음</th>\n",
       "      <th>광고비_높음</th>\n",
       "    </tr>\n",
       "  </thead>\n",
       "  <tbody>\n",
       "    <tr>\n",
       "      <th>0</th>\n",
       "      <td>2</td>\n",
       "      <td>15</td>\n",
       "      <td>1</td>\n",
       "      <td>0</td>\n",
       "    </tr>\n",
       "    <tr>\n",
       "      <th>1</th>\n",
       "      <td>3</td>\n",
       "      <td>16</td>\n",
       "      <td>1</td>\n",
       "      <td>0</td>\n",
       "    </tr>\n",
       "    <tr>\n",
       "      <th>2</th>\n",
       "      <td>4</td>\n",
       "      <td>17</td>\n",
       "      <td>1</td>\n",
       "      <td>0</td>\n",
       "    </tr>\n",
       "    <tr>\n",
       "      <th>3</th>\n",
       "      <td>4</td>\n",
       "      <td>18</td>\n",
       "      <td>0</td>\n",
       "      <td>1</td>\n",
       "    </tr>\n",
       "    <tr>\n",
       "      <th>4</th>\n",
       "      <td>5</td>\n",
       "      <td>20</td>\n",
       "      <td>0</td>\n",
       "      <td>1</td>\n",
       "    </tr>\n",
       "    <tr>\n",
       "      <th>5</th>\n",
       "      <td>6</td>\n",
       "      <td>22</td>\n",
       "      <td>0</td>\n",
       "      <td>1</td>\n",
       "    </tr>\n",
       "    <tr>\n",
       "      <th>6</th>\n",
       "      <td>7</td>\n",
       "      <td>24</td>\n",
       "      <td>1</td>\n",
       "      <td>0</td>\n",
       "    </tr>\n",
       "    <tr>\n",
       "      <th>7</th>\n",
       "      <td>9</td>\n",
       "      <td>26</td>\n",
       "      <td>0</td>\n",
       "      <td>1</td>\n",
       "    </tr>\n",
       "    <tr>\n",
       "      <th>8</th>\n",
       "      <td>11</td>\n",
       "      <td>28</td>\n",
       "      <td>0</td>\n",
       "      <td>1</td>\n",
       "    </tr>\n",
       "    <tr>\n",
       "      <th>9</th>\n",
       "      <td>12</td>\n",
       "      <td>29</td>\n",
       "      <td>1</td>\n",
       "      <td>0</td>\n",
       "    </tr>\n",
       "    <tr>\n",
       "      <th>10</th>\n",
       "      <td>13</td>\n",
       "      <td>31</td>\n",
       "      <td>0</td>\n",
       "      <td>1</td>\n",
       "    </tr>\n",
       "  </tbody>\n",
       "</table>\n",
       "</div>"
      ],
      "text/plain": [
       "    광고횟수  매출액  광고비_낮음  광고비_높음\n",
       "0      2   15       1       0\n",
       "1      3   16       1       0\n",
       "2      4   17       1       0\n",
       "3      4   18       0       1\n",
       "4      5   20       0       1\n",
       "5      6   22       0       1\n",
       "6      7   24       1       0\n",
       "7      9   26       0       1\n",
       "8     11   28       0       1\n",
       "9     12   29       1       0\n",
       "10    13   31       0       1"
      ]
     },
     "execution_count": 34,
     "metadata": {},
     "output_type": "execute_result"
    }
   ],
   "source": [
    "# 2.1 광고빈 변수를 가변수 처리후 다중회귀를 수행하여 회귀계수가 유의한지 검정\n",
    "df= pd.get_dummies(df, columns=['광고비'])\n",
    "df"
   ]
  },
  {
   "cell_type": "code",
   "execution_count": 37,
   "id": "85cc5ad0",
   "metadata": {},
   "outputs": [
    {
     "data": {
      "text/html": [
       "<table class=\"simpletable\">\n",
       "<caption>OLS Regression Results</caption>\n",
       "<tr>\n",
       "  <th>Dep. Variable:</th>           <td>매출액</td>       <th>  R-squared:         </th> <td>   0.982</td>\n",
       "</tr>\n",
       "<tr>\n",
       "  <th>Model:</th>                   <td>OLS</td>       <th>  Adj. R-squared:    </th> <td>   0.978</td>\n",
       "</tr>\n",
       "<tr>\n",
       "  <th>Method:</th>             <td>Least Squares</td>  <th>  F-statistic:       </th> <td>   221.2</td>\n",
       "</tr>\n",
       "<tr>\n",
       "  <th>Date:</th>             <td>Mon, 06 Mar 2023</td> <th>  Prob (F-statistic):</th> <td>9.96e-08</td>\n",
       "</tr>\n",
       "<tr>\n",
       "  <th>Time:</th>                 <td>00:00:37</td>     <th>  Log-Likelihood:    </th> <td> -11.883</td>\n",
       "</tr>\n",
       "<tr>\n",
       "  <th>No. Observations:</th>      <td>    11</td>      <th>  AIC:               </th> <td>   29.77</td>\n",
       "</tr>\n",
       "<tr>\n",
       "  <th>Df Residuals:</th>          <td>     8</td>      <th>  BIC:               </th> <td>   30.96</td>\n",
       "</tr>\n",
       "<tr>\n",
       "  <th>Df Model:</th>              <td>     2</td>      <th>                     </th>     <td> </td>   \n",
       "</tr>\n",
       "<tr>\n",
       "  <th>Covariance Type:</th>      <td>nonrobust</td>    <th>                     </th>     <td> </td>   \n",
       "</tr>\n",
       "</table>\n",
       "<table class=\"simpletable\">\n",
       "<tr>\n",
       "      <td></td>         <th>coef</th>     <th>std err</th>      <th>t</th>      <th>P>|t|</th>  <th>[0.025</th>    <th>0.975]</th>  \n",
       "</tr>\n",
       "<tr>\n",
       "  <th>Intercept</th> <td>    8.2836</td> <td>    0.374</td> <td>   22.175</td> <td> 0.000</td> <td>    7.422</td> <td>    9.145</td>\n",
       "</tr>\n",
       "<tr>\n",
       "  <th>광고횟수</th>      <td>    1.4350</td> <td>    0.074</td> <td>   19.518</td> <td> 0.000</td> <td>    1.265</td> <td>    1.605</td>\n",
       "</tr>\n",
       "<tr>\n",
       "  <th>광고비_낮음</th>    <td>    3.8805</td> <td>    0.285</td> <td>   13.621</td> <td> 0.000</td> <td>    3.223</td> <td>    4.537</td>\n",
       "</tr>\n",
       "<tr>\n",
       "  <th>광고비_높음</th>    <td>    4.4032</td> <td>    0.364</td> <td>   12.109</td> <td> 0.000</td> <td>    3.565</td> <td>    5.242</td>\n",
       "</tr>\n",
       "</table>\n",
       "<table class=\"simpletable\">\n",
       "<tr>\n",
       "  <th>Omnibus:</th>       <td> 7.665</td> <th>  Durbin-Watson:     </th> <td>   0.919</td>\n",
       "</tr>\n",
       "<tr>\n",
       "  <th>Prob(Omnibus):</th> <td> 0.022</td> <th>  Jarque-Bera (JB):  </th> <td>   3.407</td>\n",
       "</tr>\n",
       "<tr>\n",
       "  <th>Skew:</th>          <td> 1.265</td> <th>  Prob(JB):          </th> <td>   0.182</td>\n",
       "</tr>\n",
       "<tr>\n",
       "  <th>Kurtosis:</th>      <td> 4.015</td> <th>  Cond. No.          </th> <td>9.91e+16</td>\n",
       "</tr>\n",
       "</table><br/><br/>Notes:<br/>[1] Standard Errors assume that the covariance matrix of the errors is correctly specified.<br/>[2] The smallest eigenvalue is 6.96e-32. This might indicate that there are<br/>strong multicollinearity problems or that the design matrix is singular."
      ],
      "text/plain": [
       "<class 'statsmodels.iolib.summary.Summary'>\n",
       "\"\"\"\n",
       "                            OLS Regression Results                            \n",
       "==============================================================================\n",
       "Dep. Variable:                    매출액   R-squared:                       0.982\n",
       "Model:                            OLS   Adj. R-squared:                  0.978\n",
       "Method:                 Least Squares   F-statistic:                     221.2\n",
       "Date:                Mon, 06 Mar 2023   Prob (F-statistic):           9.96e-08\n",
       "Time:                        00:00:37   Log-Likelihood:                -11.883\n",
       "No. Observations:                  11   AIC:                             29.77\n",
       "Df Residuals:                       8   BIC:                             30.96\n",
       "Df Model:                           2                                         \n",
       "Covariance Type:            nonrobust                                         \n",
       "==============================================================================\n",
       "                 coef    std err          t      P>|t|      [0.025      0.975]\n",
       "------------------------------------------------------------------------------\n",
       "Intercept      8.2836      0.374     22.175      0.000       7.422       9.145\n",
       "광고횟수           1.4350      0.074     19.518      0.000       1.265       1.605\n",
       "광고비_낮음         3.8805      0.285     13.621      0.000       3.223       4.537\n",
       "광고비_높음         4.4032      0.364     12.109      0.000       3.565       5.242\n",
       "==============================================================================\n",
       "Omnibus:                        7.665   Durbin-Watson:                   0.919\n",
       "Prob(Omnibus):                  0.022   Jarque-Bera (JB):                3.407\n",
       "Skew:                           1.265   Prob(JB):                        0.182\n",
       "Kurtosis:                       4.015   Cond. No.                     9.91e+16\n",
       "==============================================================================\n",
       "\n",
       "Notes:\n",
       "[1] Standard Errors assume that the covariance matrix of the errors is correctly specified.\n",
       "[2] The smallest eigenvalue is 6.96e-32. This might indicate that there are\n",
       "strong multicollinearity problems or that the design matrix is singular.\n",
       "\"\"\""
      ]
     },
     "execution_count": 37,
     "metadata": {},
     "output_type": "execute_result"
    }
   ],
   "source": [
    "import statsmodels.formula.api as smf\n",
    "\n",
    "lr = smf.ols(formula='매출액~광고횟수+광고비_낮음+광고비_높음',data=df)\n",
    "result= lr.fit()\n",
    "result.summary()\n",
    "\n",
    "# 2.2 회귀식이 유의한지 판단\n",
    "# 검정결과 p-value가 0.05보다 작으므로 회귀식이 유의하다고 할 수 있다.\n",
    "# 또한 각 변수의 p-value도 모두 0.05보다 작으므로 각 변수의 회귀계수 또한 유의하다."
   ]
  },
  {
   "cell_type": "markdown",
   "id": "e9558940",
   "metadata": {},
   "source": [
    "## 3번\n",
    "\n",
    "각 공장별로 12개의 제품을 추출하여 구한 정보가 A생산라인의 제품 평균은 5.7mm이고 표준편차는 0.03, B생산라인의 제품 평균은 5.6mm이고 표준편차는 0.04라면 5%유의수준으로 두 제품의 평균이 차이가 있는지 여부를 검정하기 Z(0.05) = 1.65\n",
    "\n",
    "3.1 귀무가설과 대립가설을 세워라\n",
    "\n",
    "3.2 두 평균이 차이가 있는지 검정하라"
   ]
  },
  {
   "cell_type": "markdown",
   "id": "61b285f1",
   "metadata": {},
   "source": [
    "3.1\n",
    "- 귀무가설: 두 생산라인의 제품의 평균은 차이가 없다.\n",
    "- 대립가설: 두 생산라인의 제품의 평균은 차이가 있다.\n",
    "3.2 \n",
    "- p-value가 0.05보다 작으므로 귀무가설을 기각한다. 즉, 두 생산라인의 제품의 평균은 차이가 있다."
   ]
  },
  {
   "cell_type": "code",
   "execution_count": 38,
   "id": "a33baa8e",
   "metadata": {},
   "outputs": [
    {
     "data": {
      "text/plain": [
       "6.928203230275546"
      ]
     },
     "execution_count": 38,
     "metadata": {},
     "output_type": "execute_result"
    }
   ],
   "source": [
    "import scipy.stats as stats\n",
    "A_mu = 5.7\n",
    "B_mu = 5.6\n",
    "A_s = 0.03\n",
    "B_s = 0.04\n",
    "alpha = 0.05\n",
    "n=12\n",
    "\n",
    "Z = (A_mu-B_mu)/(((A_s**2/n)+(B_s**2/n))**(1/2))\n",
    "Z\n"
   ]
  },
  {
   "cell_type": "code",
   "execution_count": 42,
   "id": "4bec84c0",
   "metadata": {},
   "outputs": [
    {
     "data": {
      "text/plain": [
       "-1.6448536269514729"
      ]
     },
     "execution_count": 42,
     "metadata": {},
     "output_type": "execute_result"
    }
   ],
   "source": [
    "stats.norm.ppf(0.05)"
   ]
  },
  {
   "cell_type": "code",
   "execution_count": 44,
   "id": "a19e3953",
   "metadata": {},
   "outputs": [
    {
     "data": {
      "text/plain": [
       "2.131073095767988e-12"
      ]
     },
     "execution_count": 44,
     "metadata": {},
     "output_type": "execute_result"
    }
   ],
   "source": [
    "p_value= (1-stats.norm.cdf(Z))\n",
    "p_value"
   ]
  },
  {
   "cell_type": "markdown",
   "id": "54275b97",
   "metadata": {},
   "source": [
    "## 4번\n",
    "\n",
    "바이러스 감염 분류표를 보고 베이지안 분류 방법을 사용해 양성으로 예측된 사람이 실제로 양성일 확률을 구하라"
   ]
  },
  {
   "cell_type": "code",
   "execution_count": 46,
   "id": "438324b1",
   "metadata": {},
   "outputs": [
    {
     "data": {
      "text/html": [
       "<div>\n",
       "<style scoped>\n",
       "    .dataframe tbody tr th:only-of-type {\n",
       "        vertical-align: middle;\n",
       "    }\n",
       "\n",
       "    .dataframe tbody tr th {\n",
       "        vertical-align: top;\n",
       "    }\n",
       "\n",
       "    .dataframe thead th {\n",
       "        text-align: right;\n",
       "    }\n",
       "</style>\n",
       "<table border=\"1\" class=\"dataframe\">\n",
       "  <thead>\n",
       "    <tr style=\"text-align: right;\">\n",
       "      <th></th>\n",
       "      <th>양성(실제)</th>\n",
       "      <th>음성(실제)</th>\n",
       "    </tr>\n",
       "  </thead>\n",
       "  <tbody>\n",
       "    <tr>\n",
       "      <th>양성(예측)</th>\n",
       "      <td>370</td>\n",
       "      <td>10</td>\n",
       "    </tr>\n",
       "    <tr>\n",
       "      <th>음성(예측)</th>\n",
       "      <td>15</td>\n",
       "      <td>690</td>\n",
       "    </tr>\n",
       "  </tbody>\n",
       "</table>\n",
       "</div>"
      ],
      "text/plain": [
       "        양성(실제)  음성(실제)\n",
       "양성(예측)     370      10\n",
       "음성(예측)      15     690"
      ]
     },
     "execution_count": 46,
     "metadata": {},
     "output_type": "execute_result"
    }
   ],
   "source": [
    "df = pd.DataFrame({'양성(실제)':[370,15],'음성(실제)':[10,690]}, index=['양성(예측)','음성(예측)'])\n",
    "df"
   ]
  },
  {
   "cell_type": "code",
   "execution_count": 55,
   "id": "4893befa",
   "metadata": {},
   "outputs": [
    {
     "name": "stdout",
     "output_type": "stream",
     "text": [
      "양성으로 예측된 사람이 실제로 양성일 확률: 97.36842105263158%\n"
     ]
    }
   ],
   "source": [
    "print(\"양성으로 예측된 사람이 실제로 양성일 확률: {}%\".format((370/(370+10))*100))"
   ]
  },
  {
   "cell_type": "markdown",
   "id": "29506088",
   "metadata": {},
   "source": [
    "## 5번\n",
    "\n",
    "주어진 데이터에서 신뢰구간을 구하려한다\n",
    "정규분포에서 표폰을 추출함[Z(0.05) = -1.65 , Z(0.025) = -1.96, T(0.05, 8) = 1.860 , T0.025(0.025, 8) = 2.306]\n",
    "데이터(9개) : [3.1, 3.3, 3.5, 3.7, 3.9, 4.1, 4.3 4.4, 4.7]\n",
    "\n",
    "5.1 모분산을 모르는 경우 주어진 데이터의 95% 신뢰구간을 구하라\n",
    "\n",
    "5.2 sigma = 0.04인걸 알고 있을때의 95% 신뢰구간을 구하라"
   ]
  },
  {
   "cell_type": "code",
   "execution_count": 58,
   "id": "c206a178",
   "metadata": {},
   "outputs": [
    {
     "name": "stdout",
     "output_type": "stream",
     "text": [
      "3.5012483853999856 4.276529392377792\n"
     ]
    }
   ],
   "source": [
    "# 1번\n",
    "data = [3.1, 3.3, 3.5, 3.7, 3.9, 4.1, 4.3, 4.4, 4.7]\n",
    "se = np.std(data)\n",
    "xbar = np.mean(data)\n",
    "\n",
    "lower, upper = xbar - 2.306*se/np.sqrt(len(data)) , xbar + 2.306*se/np.sqrt(len(data))\n",
    "print(lower,upper)"
   ]
  },
  {
   "cell_type": "code",
   "execution_count": 60,
   "id": "6b13de83",
   "metadata": {},
   "outputs": [
    {
     "name": "stdout",
     "output_type": "stream",
     "text": [
      "3.8627555555555557 3.915022222222222\n"
     ]
    }
   ],
   "source": [
    "# 2번\n",
    "lower, upper = xbar - 1.96*0.04/np.sqrt(len(data)) , xbar + 1.96*0.04/np.sqrt(len(data))\n",
    "print(lower,upper)"
   ]
  },
  {
   "cell_type": "code",
   "execution_count": null,
   "id": "a48e5aca",
   "metadata": {},
   "outputs": [],
   "source": []
  }
 ],
 "metadata": {
  "kernelspec": {
   "display_name": "Python 3 (ipykernel)",
   "language": "python",
   "name": "python3"
  },
  "language_info": {
   "codemirror_mode": {
    "name": "ipython",
    "version": 3
   },
   "file_extension": ".py",
   "mimetype": "text/x-python",
   "name": "python",
   "nbconvert_exporter": "python",
   "pygments_lexer": "ipython3",
   "version": "3.9.12"
  }
 },
 "nbformat": 4,
 "nbformat_minor": 5
}
