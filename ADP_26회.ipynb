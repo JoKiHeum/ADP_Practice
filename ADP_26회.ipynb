{
 "cells": [
  {
   "cell_type": "markdown",
   "id": "6f60e5be",
   "metadata": {},
   "source": [
    "## 1번\n",
    "\n",
    "데이터 확인 및 전처리\n",
    "\n",
    "1.1 결측치를 확인하고, 결측치 제거할 것\n",
    "\n",
    "1.2 이상치 제거하는 방법을 설명하고, 이상치 제거하고 난 결과를 통계적으로 나타낼 것\n",
    "\n",
    "1.3 전처리한 데이터로 Kmeans, DBSCAN 등 방법으로 군집을 생성할 것\n",
    "\n",
    "데이터 설명\n",
    "\n",
    "InvoiceNo: Invoice number. Nominal, a 6-digit integral number uniquely assigned to each transaction. If this code starts with letter ‘c’, it indicates a cancellation.\n",
    "\n",
    "StockCode: Product (item) code. Nominal, a 5-digit integral number uniquely assigned to each distinct product.\n",
    "\n",
    "Description: Product (item) name. Nominal.\n",
    "\n",
    "Quantity: The quantities of each product (item) per transaction. Numeric.\n",
    "\n",
    "InvoiceDate: Invice Date and time. Numeric, the day and time when each transaction was generated.\n",
    "\n",
    "UnitPrice: Unit price. Numeric, Product price per unit in sterling.\n",
    "\n",
    "CustomerID: Customer number. Nominal, a 5-digit integral number uniquely assigned to each customer.\n",
    "\n",
    "Country: Country name. Nominal, the name of the country where each customer resides.\n",
    "\n",
    "출처\n",
    "\n",
    "https://archive.ics.uci.edu/ml/index.phpm"
   ]
  },
  {
   "cell_type": "code",
   "execution_count": 9,
   "id": "bcebe6a1",
   "metadata": {},
   "outputs": [],
   "source": [
    "import pandas as pd\n",
    "import numpy as np\n",
    "import matplotlib.pyplot as plt\n",
    "import seaborn as sns\n",
    "import warnings\n",
    "warnings.filterwarnings('ignore')"
   ]
  },
  {
   "cell_type": "code",
   "execution_count": 28,
   "id": "2ce8aafa",
   "metadata": {},
   "outputs": [
    {
     "data": {
      "text/html": [
       "<div>\n",
       "<style scoped>\n",
       "    .dataframe tbody tr th:only-of-type {\n",
       "        vertical-align: middle;\n",
       "    }\n",
       "\n",
       "    .dataframe tbody tr th {\n",
       "        vertical-align: top;\n",
       "    }\n",
       "\n",
       "    .dataframe thead th {\n",
       "        text-align: right;\n",
       "    }\n",
       "</style>\n",
       "<table border=\"1\" class=\"dataframe\">\n",
       "  <thead>\n",
       "    <tr style=\"text-align: right;\">\n",
       "      <th></th>\n",
       "      <th>InvoiceNo</th>\n",
       "      <th>StockCode</th>\n",
       "      <th>Description</th>\n",
       "      <th>Quantity</th>\n",
       "      <th>InvoiceDate</th>\n",
       "      <th>UnitPrice</th>\n",
       "      <th>CustomerID</th>\n",
       "      <th>Country</th>\n",
       "    </tr>\n",
       "  </thead>\n",
       "  <tbody>\n",
       "    <tr>\n",
       "      <th>0</th>\n",
       "      <td>563808</td>\n",
       "      <td>22432</td>\n",
       "      <td>WATERING CAN PINK BUNNY</td>\n",
       "      <td>6.0</td>\n",
       "      <td>8/19/2011 11:46</td>\n",
       "      <td>1.95</td>\n",
       "      <td>12626.0</td>\n",
       "      <td>Germany</td>\n",
       "    </tr>\n",
       "    <tr>\n",
       "      <th>1</th>\n",
       "      <td>561645</td>\n",
       "      <td>23166</td>\n",
       "      <td>MEDIUM CERAMIC TOP STORAGE JAR</td>\n",
       "      <td>12.0</td>\n",
       "      <td>7/28/2011 15:16</td>\n",
       "      <td>1.25</td>\n",
       "      <td>14911.0</td>\n",
       "      <td>EIRE</td>\n",
       "    </tr>\n",
       "    <tr>\n",
       "      <th>2</th>\n",
       "      <td>568651</td>\n",
       "      <td>20985</td>\n",
       "      <td>HEART CALCULATOR</td>\n",
       "      <td>12.0</td>\n",
       "      <td>9/28/2011 12:04</td>\n",
       "      <td>1.25</td>\n",
       "      <td>12362.0</td>\n",
       "      <td>Belgium</td>\n",
       "    </tr>\n",
       "    <tr>\n",
       "      <th>3</th>\n",
       "      <td>541711</td>\n",
       "      <td>22772</td>\n",
       "      <td>PINK DRAWER KNOB ACRYLIC EDWARDIAN</td>\n",
       "      <td>24.0</td>\n",
       "      <td>1/21/2011 11:18</td>\n",
       "      <td>1.25</td>\n",
       "      <td>14646.0</td>\n",
       "      <td>Netherlands</td>\n",
       "    </tr>\n",
       "    <tr>\n",
       "      <th>4</th>\n",
       "      <td>554134</td>\n",
       "      <td>21154</td>\n",
       "      <td>RED RETROSPOT OVEN GLOVE</td>\n",
       "      <td>10.0</td>\n",
       "      <td>5/23/2011 9:48</td>\n",
       "      <td>1.25</td>\n",
       "      <td>12583.0</td>\n",
       "      <td>France</td>\n",
       "    </tr>\n",
       "  </tbody>\n",
       "</table>\n",
       "</div>"
      ],
      "text/plain": [
       "  InvoiceNo StockCode                         Description  Quantity  \\\n",
       "0    563808     22432             WATERING CAN PINK BUNNY       6.0   \n",
       "1    561645     23166      MEDIUM CERAMIC TOP STORAGE JAR      12.0   \n",
       "2    568651     20985                    HEART CALCULATOR      12.0   \n",
       "3    541711     22772  PINK DRAWER KNOB ACRYLIC EDWARDIAN      24.0   \n",
       "4    554134     21154           RED RETROSPOT OVEN GLOVE       10.0   \n",
       "\n",
       "       InvoiceDate  UnitPrice  CustomerID      Country  \n",
       "0  8/19/2011 11:46       1.95     12626.0      Germany  \n",
       "1  7/28/2011 15:16       1.25     14911.0         EIRE  \n",
       "2  9/28/2011 12:04       1.25     12362.0      Belgium  \n",
       "3  1/21/2011 11:18       1.25     14646.0  Netherlands  \n",
       "4   5/23/2011 9:48       1.25     12583.0       France  "
      ]
     },
     "execution_count": 28,
     "metadata": {},
     "output_type": "execute_result"
    }
   ],
   "source": [
    "df= pd.read_csv('https://raw.githubusercontent.com/Datamanim/datarepo/main/adp/26/problem1.csv')\n",
    "df.head()"
   ]
  },
  {
   "cell_type": "code",
   "execution_count": 29,
   "id": "75bc4f20",
   "metadata": {},
   "outputs": [
    {
     "name": "stdout",
     "output_type": "stream",
     "text": [
      "<class 'pandas.core.frame.DataFrame'>\n",
      "RangeIndex: 35801 entries, 0 to 35800\n",
      "Data columns (total 8 columns):\n",
      " #   Column       Non-Null Count  Dtype  \n",
      "---  ------       --------------  -----  \n",
      " 0   InvoiceNo    35801 non-null  object \n",
      " 1   StockCode    35801 non-null  object \n",
      " 2   Description  35801 non-null  object \n",
      " 3   Quantity     35776 non-null  float64\n",
      " 4   InvoiceDate  35801 non-null  object \n",
      " 5   UnitPrice    35704 non-null  float64\n",
      " 6   CustomerID   35801 non-null  float64\n",
      " 7   Country      35801 non-null  object \n",
      "dtypes: float64(3), object(5)\n",
      "memory usage: 2.2+ MB\n"
     ]
    }
   ],
   "source": [
    "df.info()"
   ]
  },
  {
   "cell_type": "code",
   "execution_count": 30,
   "id": "05d6357a",
   "metadata": {},
   "outputs": [
    {
     "data": {
      "text/plain": [
       "InvoiceNo       0\n",
       "StockCode       0\n",
       "Description     0\n",
       "Quantity       25\n",
       "InvoiceDate     0\n",
       "UnitPrice      97\n",
       "CustomerID      0\n",
       "Country         0\n",
       "dtype: int64"
      ]
     },
     "execution_count": 30,
     "metadata": {},
     "output_type": "execute_result"
    }
   ],
   "source": [
    "df.isna().sum()\n",
    "# 결측치 확인 결과 Quantity, UnitPrice로 둘다 연속형 변수이다. \n",
    "# 이에 따라 "
   ]
  },
  {
   "cell_type": "code",
   "execution_count": 31,
   "id": "e891a24d",
   "metadata": {},
   "outputs": [
    {
     "data": {
      "text/html": [
       "<div>\n",
       "<style scoped>\n",
       "    .dataframe tbody tr th:only-of-type {\n",
       "        vertical-align: middle;\n",
       "    }\n",
       "\n",
       "    .dataframe tbody tr th {\n",
       "        vertical-align: top;\n",
       "    }\n",
       "\n",
       "    .dataframe thead th {\n",
       "        text-align: right;\n",
       "    }\n",
       "</style>\n",
       "<table border=\"1\" class=\"dataframe\">\n",
       "  <thead>\n",
       "    <tr style=\"text-align: right;\">\n",
       "      <th></th>\n",
       "      <th>Quantity</th>\n",
       "      <th>UnitPrice</th>\n",
       "      <th>CustomerID</th>\n",
       "    </tr>\n",
       "  </thead>\n",
       "  <tbody>\n",
       "    <tr>\n",
       "      <th>count</th>\n",
       "      <td>35776.000000</td>\n",
       "      <td>35704.000000</td>\n",
       "      <td>35801.000000</td>\n",
       "    </tr>\n",
       "    <tr>\n",
       "      <th>mean</th>\n",
       "      <td>18.426040</td>\n",
       "      <td>4.612001</td>\n",
       "      <td>13221.824390</td>\n",
       "    </tr>\n",
       "    <tr>\n",
       "      <th>std</th>\n",
       "      <td>42.162427</td>\n",
       "      <td>48.082538</td>\n",
       "      <td>1012.177727</td>\n",
       "    </tr>\n",
       "    <tr>\n",
       "      <th>min</th>\n",
       "      <td>-480.000000</td>\n",
       "      <td>0.000000</td>\n",
       "      <td>12354.000000</td>\n",
       "    </tr>\n",
       "    <tr>\n",
       "      <th>25%</th>\n",
       "      <td>4.000000</td>\n",
       "      <td>1.250000</td>\n",
       "      <td>12523.000000</td>\n",
       "    </tr>\n",
       "    <tr>\n",
       "      <th>50%</th>\n",
       "      <td>10.000000</td>\n",
       "      <td>1.950000</td>\n",
       "      <td>12681.000000</td>\n",
       "    </tr>\n",
       "    <tr>\n",
       "      <th>75%</th>\n",
       "      <td>16.000000</td>\n",
       "      <td>3.750000</td>\n",
       "      <td>14156.000000</td>\n",
       "    </tr>\n",
       "    <tr>\n",
       "      <th>max</th>\n",
       "      <td>2400.000000</td>\n",
       "      <td>4161.060000</td>\n",
       "      <td>17097.000000</td>\n",
       "    </tr>\n",
       "  </tbody>\n",
       "</table>\n",
       "</div>"
      ],
      "text/plain": [
       "           Quantity     UnitPrice    CustomerID\n",
       "count  35776.000000  35704.000000  35801.000000\n",
       "mean      18.426040      4.612001  13221.824390\n",
       "std       42.162427     48.082538   1012.177727\n",
       "min     -480.000000      0.000000  12354.000000\n",
       "25%        4.000000      1.250000  12523.000000\n",
       "50%       10.000000      1.950000  12681.000000\n",
       "75%       16.000000      3.750000  14156.000000\n",
       "max     2400.000000   4161.060000  17097.000000"
      ]
     },
     "execution_count": 31,
     "metadata": {},
     "output_type": "execute_result"
    }
   ],
   "source": [
    "df.describe()"
   ]
  },
  {
   "cell_type": "code",
   "execution_count": 37,
   "id": "86d6a46c",
   "metadata": {},
   "outputs": [],
   "source": [
    "fill_mean_fuc = lambda g:g.fillna(g.mean())\n",
    "df = df.groupby('StockCode').apply(fill_mean_fuc)"
   ]
  },
  {
   "cell_type": "code",
   "execution_count": 38,
   "id": "211b4109",
   "metadata": {},
   "outputs": [],
   "source": [
    "df[\"Quantity\"]= df.Quantity.apply(lambda x: round(x))"
   ]
  },
  {
   "cell_type": "code",
   "execution_count": 42,
   "id": "76385e4a",
   "metadata": {},
   "outputs": [
    {
     "data": {
      "text/plain": [
       "InvoiceNo      0\n",
       "StockCode      0\n",
       "Description    0\n",
       "Quantity       0\n",
       "InvoiceDate    0\n",
       "UnitPrice      1\n",
       "CustomerID     0\n",
       "Country        0\n",
       "dtype: int64"
      ]
     },
     "execution_count": 42,
     "metadata": {},
     "output_type": "execute_result"
    }
   ],
   "source": [
    "df.isna().sum()"
   ]
  },
  {
   "cell_type": "code",
   "execution_count": 47,
   "id": "71c3ed64",
   "metadata": {},
   "outputs": [
    {
     "data": {
      "text/plain": [
       "9433   NaN\n",
       "Name: UnitPrice, dtype: float64"
      ]
     },
     "execution_count": 47,
     "metadata": {},
     "output_type": "execute_result"
    }
   ],
   "source": [
    "df['UnitPrice'][df['UnitPrice'].isnull()]"
   ]
  },
  {
   "cell_type": "code",
   "execution_count": 48,
   "id": "71aa4b62",
   "metadata": {},
   "outputs": [
    {
     "data": {
      "text/plain": [
       "InvoiceNo               574059\n",
       "StockCode                23416\n",
       "Description       CHAMBRE HOOK\n",
       "Quantity                     1\n",
       "InvoiceDate    11/2/2011 14:13\n",
       "UnitPrice                  NaN\n",
       "CustomerID             14646.0\n",
       "Country            Netherlands\n",
       "Name: 9433, dtype: object"
      ]
     },
     "execution_count": 48,
     "metadata": {},
     "output_type": "execute_result"
    }
   ],
   "source": [
    "df.loc[9433]"
   ]
  },
  {
   "cell_type": "code",
   "execution_count": 56,
   "id": "6abb2286",
   "metadata": {},
   "outputs": [
    {
     "data": {
      "text/html": [
       "<div>\n",
       "<style scoped>\n",
       "    .dataframe tbody tr th:only-of-type {\n",
       "        vertical-align: middle;\n",
       "    }\n",
       "\n",
       "    .dataframe tbody tr th {\n",
       "        vertical-align: top;\n",
       "    }\n",
       "\n",
       "    .dataframe thead th {\n",
       "        text-align: right;\n",
       "    }\n",
       "</style>\n",
       "<table border=\"1\" class=\"dataframe\">\n",
       "  <thead>\n",
       "    <tr style=\"text-align: right;\">\n",
       "      <th></th>\n",
       "      <th>InvoiceNo</th>\n",
       "      <th>StockCode</th>\n",
       "      <th>Description</th>\n",
       "      <th>Quantity</th>\n",
       "      <th>InvoiceDate</th>\n",
       "      <th>UnitPrice</th>\n",
       "      <th>CustomerID</th>\n",
       "      <th>Country</th>\n",
       "    </tr>\n",
       "  </thead>\n",
       "  <tbody>\n",
       "    <tr>\n",
       "      <th>9433</th>\n",
       "      <td>574059</td>\n",
       "      <td>23416</td>\n",
       "      <td>CHAMBRE HOOK</td>\n",
       "      <td>1</td>\n",
       "      <td>11/2/2011 14:13</td>\n",
       "      <td>NaN</td>\n",
       "      <td>14646.0</td>\n",
       "      <td>Netherlands</td>\n",
       "    </tr>\n",
       "  </tbody>\n",
       "</table>\n",
       "</div>"
      ],
      "text/plain": [
       "     InvoiceNo StockCode   Description  Quantity      InvoiceDate  UnitPrice  \\\n",
       "9433    574059     23416  CHAMBRE HOOK         1  11/2/2011 14:13        NaN   \n",
       "\n",
       "      CustomerID      Country  \n",
       "9433     14646.0  Netherlands  "
      ]
     },
     "execution_count": 56,
     "metadata": {},
     "output_type": "execute_result"
    }
   ],
   "source": [
    "df.loc[df['StockCode']=='23416']\n",
    "#  StockCode가 23416인 상품은 하나로 그 값이 결측치여서 평균으로 대체되지 않았다.\n",
    "# 결측치가 하나로 삭제를 진행한다."
   ]
  },
  {
   "cell_type": "code",
   "execution_count": 57,
   "id": "542d19fd",
   "metadata": {},
   "outputs": [],
   "source": [
    "df.dropna(subset=['UnitPrice'],axis=0, inplace=True)"
   ]
  },
  {
   "cell_type": "code",
   "execution_count": 58,
   "id": "7c009881",
   "metadata": {},
   "outputs": [
    {
     "data": {
      "text/plain": [
       "InvoiceNo      0\n",
       "StockCode      0\n",
       "Description    0\n",
       "Quantity       0\n",
       "InvoiceDate    0\n",
       "UnitPrice      0\n",
       "CustomerID     0\n",
       "Country        0\n",
       "dtype: int64"
      ]
     },
     "execution_count": 58,
     "metadata": {},
     "output_type": "execute_result"
    }
   ],
   "source": [
    "df.isna().sum()"
   ]
  },
  {
   "cell_type": "code",
   "execution_count": 59,
   "id": "015aafe7",
   "metadata": {},
   "outputs": [],
   "source": [
    "# 1.2 이상치 제거하는 방법을 설명하고, 이상치 제거하고 난 결과를 통계적으로 나타낼 것\n",
    "# 이상치 제거 방법에는 데이터의 수가 매우 많고 이상치가 존재하는 행이 전체 데이터에 비해 많이 않을 경우 행 전체를 삭제하는 방법이 있고\n",
    "# 이상치를 다른 값으로 대체하는 방법을 사용할 수 있다."
   ]
  },
  {
   "cell_type": "code",
   "execution_count": 60,
   "id": "2ad02d23",
   "metadata": {},
   "outputs": [
    {
     "name": "stdout",
     "output_type": "stream",
     "text": [
      "<class 'pandas.core.frame.DataFrame'>\n",
      "Int64Index: 35800 entries, 0 to 35800\n",
      "Data columns (total 8 columns):\n",
      " #   Column       Non-Null Count  Dtype  \n",
      "---  ------       --------------  -----  \n",
      " 0   InvoiceNo    35800 non-null  object \n",
      " 1   StockCode    35800 non-null  object \n",
      " 2   Description  35800 non-null  object \n",
      " 3   Quantity     35800 non-null  int64  \n",
      " 4   InvoiceDate  35800 non-null  object \n",
      " 5   UnitPrice    35800 non-null  float64\n",
      " 6   CustomerID   35800 non-null  float64\n",
      " 7   Country      35800 non-null  object \n",
      "dtypes: float64(2), int64(1), object(5)\n",
      "memory usage: 2.5+ MB\n"
     ]
    }
   ],
   "source": [
    "df.info()"
   ]
  },
  {
   "cell_type": "code",
   "execution_count": 62,
   "id": "e8cac2df",
   "metadata": {},
   "outputs": [
    {
     "data": {
      "image/png": "[encoded data removed]",
      "text/plain": [
       "<Figure size 432x288 with 1 Axes>"
      ]
     },
     "metadata": {
      "needs_background": "light"
     },
     "output_type": "display_data"
    }
   ],
   "source": [
    "plt.title('Quantity')\n",
    "plt.boxplot(df['Quantity'],whis=1.5)\n",
    "plt.show()"
   ]
  },
  {
   "cell_type": "code",
   "execution_count": 64,
   "id": "83991a61",
   "metadata": {},
   "outputs": [
    {
     "data": {
      "image/png": "[encoded data removed]",
      "text/plain": [
       "<Figure size 432x288 with 1 Axes>"
      ]
     },
     "metadata": {
      "needs_background": "light"
     },
     "output_type": "display_data"
    }
   ],
   "source": [
    "plt.title('UnitPrice')\n",
    "plt.boxplot(df['UnitPrice'],whis=1.5)\n",
    "plt.show()"
   ]
  },
  {
   "cell_type": "markdown",
   "id": "3085cf43",
   "metadata": {},
   "source": [
    "- boxplot을 통한 이상치 확인 결과 Quantity의 경우 이상치들이 있지만 이상치들이 연속적으로 이어져 있어 실제로 이상치를 가졌을 수 있다고 판다해 이상치를 처리하지 않는다. UnitPrice의 경우 이상치들이 연속적으로 이어져 있다가 데이터 값이 4000이상인 멀리 떨어진 데이터가 확인됐다. 이 데이터를 확인 후 처리하겠다."
   ]
  },
  {
   "cell_type": "code",
   "execution_count": 69,
   "id": "63875b4f",
   "metadata": {},
   "outputs": [
    {
     "data": {
      "text/html": [
       "<div>\n",
       "<style scoped>\n",
       "    .dataframe tbody tr th:only-of-type {\n",
       "        vertical-align: middle;\n",
       "    }\n",
       "\n",
       "    .dataframe tbody tr th {\n",
       "        vertical-align: top;\n",
       "    }\n",
       "\n",
       "    .dataframe thead th {\n",
       "        text-align: right;\n",
       "    }\n",
       "</style>\n",
       "<table border=\"1\" class=\"dataframe\">\n",
       "  <thead>\n",
       "    <tr style=\"text-align: right;\">\n",
       "      <th></th>\n",
       "      <th>InvoiceNo</th>\n",
       "      <th>StockCode</th>\n",
       "      <th>Description</th>\n",
       "      <th>Quantity</th>\n",
       "      <th>InvoiceDate</th>\n",
       "      <th>UnitPrice</th>\n",
       "      <th>CustomerID</th>\n",
       "      <th>Country</th>\n",
       "    </tr>\n",
       "  </thead>\n",
       "  <tbody>\n",
       "    <tr>\n",
       "      <th>12353</th>\n",
       "      <td>573080</td>\n",
       "      <td>M</td>\n",
       "      <td>Manual</td>\n",
       "      <td>1</td>\n",
       "      <td>10/27/2011 14:20</td>\n",
       "      <td>4161.06</td>\n",
       "      <td>12536.0</td>\n",
       "      <td>France</td>\n",
       "    </tr>\n",
       "    <tr>\n",
       "      <th>24047</th>\n",
       "      <td>C573079</td>\n",
       "      <td>M</td>\n",
       "      <td>Manual</td>\n",
       "      <td>-2</td>\n",
       "      <td>10/27/2011 14:15</td>\n",
       "      <td>4161.06</td>\n",
       "      <td>12536.0</td>\n",
       "      <td>France</td>\n",
       "    </tr>\n",
       "    <tr>\n",
       "      <th>28503</th>\n",
       "      <td>573077</td>\n",
       "      <td>M</td>\n",
       "      <td>Manual</td>\n",
       "      <td>1</td>\n",
       "      <td>10/27/2011 14:13</td>\n",
       "      <td>4161.06</td>\n",
       "      <td>12536.0</td>\n",
       "      <td>France</td>\n",
       "    </tr>\n",
       "  </tbody>\n",
       "</table>\n",
       "</div>"
      ],
      "text/plain": [
       "      InvoiceNo StockCode Description  Quantity       InvoiceDate  UnitPrice  \\\n",
       "12353    573080         M      Manual         1  10/27/2011 14:20    4161.06   \n",
       "24047   C573079         M      Manual        -2  10/27/2011 14:15    4161.06   \n",
       "28503    573077         M      Manual         1  10/27/2011 14:13    4161.06   \n",
       "\n",
       "       CustomerID Country  \n",
       "12353     12536.0  France  \n",
       "24047     12536.0  France  \n",
       "28503     12536.0  France  "
      ]
     },
     "execution_count": 69,
     "metadata": {},
     "output_type": "execute_result"
    }
   ],
   "source": [
    "df[df['UnitPrice']>3500]"
   ]
  },
  {
   "cell_type": "code",
   "execution_count": 79,
   "id": "b164770e",
   "metadata": {},
   "outputs": [
    {
     "data": {
      "text/html": [
       "<div>\n",
       "<style scoped>\n",
       "    .dataframe tbody tr th:only-of-type {\n",
       "        vertical-align: middle;\n",
       "    }\n",
       "\n",
       "    .dataframe tbody tr th {\n",
       "        vertical-align: top;\n",
       "    }\n",
       "\n",
       "    .dataframe thead th {\n",
       "        text-align: right;\n",
       "    }\n",
       "</style>\n",
       "<table border=\"1\" class=\"dataframe\">\n",
       "  <thead>\n",
       "    <tr style=\"text-align: right;\">\n",
       "      <th></th>\n",
       "      <th>InvoiceNo</th>\n",
       "      <th>StockCode</th>\n",
       "      <th>Description</th>\n",
       "      <th>Quantity</th>\n",
       "      <th>InvoiceDate</th>\n",
       "      <th>UnitPrice</th>\n",
       "      <th>CustomerID</th>\n",
       "      <th>Country</th>\n",
       "    </tr>\n",
       "  </thead>\n",
       "  <tbody>\n",
       "    <tr>\n",
       "      <th>1841</th>\n",
       "      <td>C548914</td>\n",
       "      <td>M</td>\n",
       "      <td>Manual</td>\n",
       "      <td>-1</td>\n",
       "      <td>4/5/2011 9:46</td>\n",
       "      <td>1136.30</td>\n",
       "      <td>12669.0</td>\n",
       "      <td>France</td>\n",
       "    </tr>\n",
       "    <tr>\n",
       "      <th>2794</th>\n",
       "      <td>574252</td>\n",
       "      <td>M</td>\n",
       "      <td>Manual</td>\n",
       "      <td>1</td>\n",
       "      <td>11/3/2011 13:24</td>\n",
       "      <td>0.00</td>\n",
       "      <td>12437.0</td>\n",
       "      <td>France</td>\n",
       "    </tr>\n",
       "    <tr>\n",
       "      <th>10978</th>\n",
       "      <td>574506</td>\n",
       "      <td>M</td>\n",
       "      <td>Manual</td>\n",
       "      <td>1</td>\n",
       "      <td>11/4/2011 13:24</td>\n",
       "      <td>3.95</td>\n",
       "      <td>12577.0</td>\n",
       "      <td>France</td>\n",
       "    </tr>\n",
       "    <tr>\n",
       "      <th>11475</th>\n",
       "      <td>C580263</td>\n",
       "      <td>M</td>\n",
       "      <td>Manual</td>\n",
       "      <td>-4</td>\n",
       "      <td>12/2/2011 12:43</td>\n",
       "      <td>9.95</td>\n",
       "      <td>12536.0</td>\n",
       "      <td>France</td>\n",
       "    </tr>\n",
       "    <tr>\n",
       "      <th>12353</th>\n",
       "      <td>573080</td>\n",
       "      <td>M</td>\n",
       "      <td>Manual</td>\n",
       "      <td>1</td>\n",
       "      <td>10/27/2011 14:20</td>\n",
       "      <td>4161.06</td>\n",
       "      <td>12536.0</td>\n",
       "      <td>France</td>\n",
       "    </tr>\n",
       "    <tr>\n",
       "      <th>23638</th>\n",
       "      <td>548913</td>\n",
       "      <td>M</td>\n",
       "      <td>Manual</td>\n",
       "      <td>1</td>\n",
       "      <td>4/5/2011 9:45</td>\n",
       "      <td>1136.30</td>\n",
       "      <td>12669.0</td>\n",
       "      <td>France</td>\n",
       "    </tr>\n",
       "    <tr>\n",
       "      <th>24047</th>\n",
       "      <td>C573079</td>\n",
       "      <td>M</td>\n",
       "      <td>Manual</td>\n",
       "      <td>-2</td>\n",
       "      <td>10/27/2011 14:15</td>\n",
       "      <td>4161.06</td>\n",
       "      <td>12536.0</td>\n",
       "      <td>France</td>\n",
       "    </tr>\n",
       "    <tr>\n",
       "      <th>26715</th>\n",
       "      <td>553357</td>\n",
       "      <td>M</td>\n",
       "      <td>Manual</td>\n",
       "      <td>2</td>\n",
       "      <td>5/16/2011 14:17</td>\n",
       "      <td>15.00</td>\n",
       "      <td>12684.0</td>\n",
       "      <td>France</td>\n",
       "    </tr>\n",
       "    <tr>\n",
       "      <th>28503</th>\n",
       "      <td>573077</td>\n",
       "      <td>M</td>\n",
       "      <td>Manual</td>\n",
       "      <td>1</td>\n",
       "      <td>10/27/2011 14:13</td>\n",
       "      <td>4161.06</td>\n",
       "      <td>12536.0</td>\n",
       "      <td>France</td>\n",
       "    </tr>\n",
       "    <tr>\n",
       "      <th>32164</th>\n",
       "      <td>C580263</td>\n",
       "      <td>M</td>\n",
       "      <td>Manual</td>\n",
       "      <td>-16</td>\n",
       "      <td>12/2/2011 12:43</td>\n",
       "      <td>0.29</td>\n",
       "      <td>12536.0</td>\n",
       "      <td>France</td>\n",
       "    </tr>\n",
       "  </tbody>\n",
       "</table>\n",
       "</div>"
      ],
      "text/plain": [
       "      InvoiceNo StockCode Description  Quantity       InvoiceDate  UnitPrice  \\\n",
       "1841    C548914         M      Manual        -1     4/5/2011 9:46    1136.30   \n",
       "2794     574252         M      Manual         1   11/3/2011 13:24       0.00   \n",
       "10978    574506         M      Manual         1   11/4/2011 13:24       3.95   \n",
       "11475   C580263         M      Manual        -4   12/2/2011 12:43       9.95   \n",
       "12353    573080         M      Manual         1  10/27/2011 14:20    4161.06   \n",
       "23638    548913         M      Manual         1     4/5/2011 9:45    1136.30   \n",
       "24047   C573079         M      Manual        -2  10/27/2011 14:15    4161.06   \n",
       "26715    553357         M      Manual         2   5/16/2011 14:17      15.00   \n",
       "28503    573077         M      Manual         1  10/27/2011 14:13    4161.06   \n",
       "32164   C580263         M      Manual       -16   12/2/2011 12:43       0.29   \n",
       "\n",
       "       CustomerID Country  \n",
       "1841      12669.0  France  \n",
       "2794      12437.0  France  \n",
       "10978     12577.0  France  \n",
       "11475     12536.0  France  \n",
       "12353     12536.0  France  \n",
       "23638     12669.0  France  \n",
       "24047     12536.0  France  \n",
       "26715     12684.0  France  \n",
       "28503     12536.0  France  \n",
       "32164     12536.0  France  "
      ]
     },
     "execution_count": 79,
     "metadata": {},
     "output_type": "execute_result"
    }
   ],
   "source": [
    "df.query('StockCode==\"M\"').query('Country==\"France\"')"
   ]
  },
  {
   "cell_type": "markdown",
   "id": "ad66cbcf",
   "metadata": {},
   "source": [
    "- UnitPrice의 이상치를 확인해본 결과 같은 고객임을 확인할 수 있다 하지만 거래가 발생한 시간과 수량에 있어서 이해하기 힘든 부분이 보이고 그 데이터의 수가 많지 않으므로 삭제한다."
   ]
  },
  {
   "cell_type": "code",
   "execution_count": 83,
   "id": "d4c645c3",
   "metadata": {},
   "outputs": [],
   "source": [
    "outliers = df[df['UnitPrice']>3500].index\n",
    "df.drop(index=outliers, inplace=True)"
   ]
  },
  {
   "cell_type": "code",
   "execution_count": 85,
   "id": "6438e093",
   "metadata": {},
   "outputs": [
    {
     "data": {
      "text/html": [
       "<div>\n",
       "<style scoped>\n",
       "    .dataframe tbody tr th:only-of-type {\n",
       "        vertical-align: middle;\n",
       "    }\n",
       "\n",
       "    .dataframe tbody tr th {\n",
       "        vertical-align: top;\n",
       "    }\n",
       "\n",
       "    .dataframe thead th {\n",
       "        text-align: right;\n",
       "    }\n",
       "</style>\n",
       "<table border=\"1\" class=\"dataframe\">\n",
       "  <thead>\n",
       "    <tr style=\"text-align: right;\">\n",
       "      <th></th>\n",
       "      <th>Quantity</th>\n",
       "      <th>UnitPrice</th>\n",
       "      <th>CustomerID</th>\n",
       "    </tr>\n",
       "  </thead>\n",
       "  <tbody>\n",
       "    <tr>\n",
       "      <th>count</th>\n",
       "      <td>35797.000000</td>\n",
       "      <td>35797.000000</td>\n",
       "      <td>35797.000000</td>\n",
       "    </tr>\n",
       "    <tr>\n",
       "      <th>mean</th>\n",
       "      <td>18.425874</td>\n",
       "      <td>4.259563</td>\n",
       "      <td>13221.842082</td>\n",
       "    </tr>\n",
       "    <tr>\n",
       "      <th>std</th>\n",
       "      <td>42.150227</td>\n",
       "      <td>29.291048</td>\n",
       "      <td>1012.186816</td>\n",
       "    </tr>\n",
       "    <tr>\n",
       "      <th>min</th>\n",
       "      <td>-480.000000</td>\n",
       "      <td>0.000000</td>\n",
       "      <td>12354.000000</td>\n",
       "    </tr>\n",
       "    <tr>\n",
       "      <th>25%</th>\n",
       "      <td>4.000000</td>\n",
       "      <td>1.250000</td>\n",
       "      <td>12523.000000</td>\n",
       "    </tr>\n",
       "    <tr>\n",
       "      <th>50%</th>\n",
       "      <td>10.000000</td>\n",
       "      <td>1.950000</td>\n",
       "      <td>12681.000000</td>\n",
       "    </tr>\n",
       "    <tr>\n",
       "      <th>75%</th>\n",
       "      <td>16.000000</td>\n",
       "      <td>3.750000</td>\n",
       "      <td>14156.000000</td>\n",
       "    </tr>\n",
       "    <tr>\n",
       "      <th>max</th>\n",
       "      <td>2400.000000</td>\n",
       "      <td>1715.850000</td>\n",
       "      <td>17097.000000</td>\n",
       "    </tr>\n",
       "  </tbody>\n",
       "</table>\n",
       "</div>"
      ],
      "text/plain": [
       "           Quantity     UnitPrice    CustomerID\n",
       "count  35797.000000  35797.000000  35797.000000\n",
       "mean      18.425874      4.259563  13221.842082\n",
       "std       42.150227     29.291048   1012.186816\n",
       "min     -480.000000      0.000000  12354.000000\n",
       "25%        4.000000      1.250000  12523.000000\n",
       "50%       10.000000      1.950000  12681.000000\n",
       "75%       16.000000      3.750000  14156.000000\n",
       "max     2400.000000   1715.850000  17097.000000"
      ]
     },
     "execution_count": 85,
     "metadata": {},
     "output_type": "execute_result"
    }
   ],
   "source": [
    "df.describe()"
   ]
  },
  {
   "cell_type": "code",
   "execution_count": 86,
   "id": "f0f9bf9e",
   "metadata": {},
   "outputs": [],
   "source": [
    "# 1.3 전처리한 데이터로 Kmeans, DBSCAN 등 방법으로 군집을 생성할 것"
   ]
  },
  {
   "cell_type": "code",
   "execution_count": 87,
   "id": "17bb10be",
   "metadata": {},
   "outputs": [],
   "source": [
    "from sklearn.cluster import KMeans"
   ]
  },
  {
   "cell_type": "code",
   "execution_count": 91,
   "id": "681b25c2",
   "metadata": {},
   "outputs": [
    {
     "name": "stdout",
     "output_type": "stream",
     "text": [
      "<class 'pandas.core.frame.DataFrame'>\n",
      "Int64Index: 35797 entries, 0 to 35800\n",
      "Data columns (total 8 columns):\n",
      " #   Column       Non-Null Count  Dtype  \n",
      "---  ------       --------------  -----  \n",
      " 0   InvoiceNo    35797 non-null  object \n",
      " 1   StockCode    35797 non-null  object \n",
      " 2   Description  35797 non-null  object \n",
      " 3   Quantity     35797 non-null  int64  \n",
      " 4   InvoiceDate  35797 non-null  object \n",
      " 5   UnitPrice    35797 non-null  float64\n",
      " 6   CustomerID   35797 non-null  float64\n",
      " 7   Country      35797 non-null  object \n",
      "dtypes: float64(2), int64(1), object(5)\n",
      "memory usage: 2.5+ MB\n"
     ]
    }
   ],
   "source": [
    "df.info()"
   ]
  },
  {
   "cell_type": "code",
   "execution_count": 92,
   "id": "8ac7dfc8",
   "metadata": {},
   "outputs": [],
   "source": [
    "X = df[['Quantity','UnitPrice']]"
   ]
  },
  {
   "cell_type": "markdown",
   "id": "b37d8d56",
   "metadata": {},
   "source": [
    "## 2. 군집분석\n",
    "\n",
    "2.1 위에서 생성한 군집들의 특성을 분석할 것\n",
    "\n",
    "2.2 각 군집 별 대표 추천 상품을 도출할 것\n",
    "\n",
    "2.3 CustomerID가 12413인 고객을 대상으로 상품을 추천할 것"
   ]
  },
  {
   "cell_type": "markdown",
   "id": "7365f71b",
   "metadata": {},
   "source": [
    "## 3. 통계\n",
    "\n",
    "철강제품의 불량률을 조사하고자 한다. 이 때, 불량률의 90%, 추정오차한계가 5% 이내가 되기 위하여 적절한 표본의 크기 중 최소값은 얼마인가?"
   ]
  },
  {
   "cell_type": "code",
   "execution_count": 1,
   "id": "8447f97c",
   "metadata": {},
   "outputs": [],
   "source": [
    "import numpy as np\n",
    "import scipy.stats as stats"
   ]
  },
  {
   "cell_type": "code",
   "execution_count": 11,
   "id": "f8111987",
   "metadata": {},
   "outputs": [
    {
     "data": {
      "text/plain": [
       "270.5543454095412"
      ]
     },
     "execution_count": 11,
     "metadata": {},
     "output_type": "execute_result"
    }
   ],
   "source": [
    "#stats.norm.ppf(N) -> 정규분포의 확률이 N이 되는 Z값\n",
    "confidence = 0.1\n",
    "d= 0.05\n",
    "z = stats.norm.ppf(1-0.1/2)\n",
    "p=0.5\n",
    "n = ((z**2)*(0.5*0.5))/(d**2)\n",
    "n\n",
    "# 적절한 표본의 크기 중 최소값은 271이다\n"
   ]
  },
  {
   "cell_type": "markdown",
   "id": "bbe79de1",
   "metadata": {},
   "source": [
    "## 4. 통계\n",
    "\n",
    "아래 그래프는 1월부터 9월까지의 은의 가격이다\n",
    "\n",
    "4.1 은의 가격 및 이동평균값 3이 설정된 시계열 그래프를 그려라\n",
    "\n",
    "4.2 1월 대비 9월의 은의 가격은 몇 % 올랐는가? 소수점 두번째 자리에서 반올림"
   ]
  },
  {
   "cell_type": "code",
   "execution_count": 72,
   "id": "a0b3b9b0",
   "metadata": {},
   "outputs": [
    {
     "data": {
      "text/html": [
       "<div>\n",
       "<style scoped>\n",
       "    .dataframe tbody tr th:only-of-type {\n",
       "        vertical-align: middle;\n",
       "    }\n",
       "\n",
       "    .dataframe tbody tr th {\n",
       "        vertical-align: top;\n",
       "    }\n",
       "\n",
       "    .dataframe thead th {\n",
       "        text-align: right;\n",
       "    }\n",
       "</style>\n",
       "<table border=\"1\" class=\"dataframe\">\n",
       "  <thead>\n",
       "    <tr style=\"text-align: right;\">\n",
       "      <th></th>\n",
       "      <th>1월</th>\n",
       "      <th>2월</th>\n",
       "      <th>3월</th>\n",
       "      <th>4월</th>\n",
       "      <th>5월</th>\n",
       "      <th>6월</th>\n",
       "      <th>7월</th>\n",
       "      <th>8월</th>\n",
       "      <th>9월</th>\n",
       "    </tr>\n",
       "  </thead>\n",
       "  <tbody>\n",
       "    <tr>\n",
       "      <th>가격</th>\n",
       "      <td>12.14</td>\n",
       "      <td>42.6</td>\n",
       "      <td>34.4</td>\n",
       "      <td>35.29</td>\n",
       "      <td>30.96</td>\n",
       "      <td>57.12</td>\n",
       "      <td>37.84</td>\n",
       "      <td>42.49</td>\n",
       "      <td>31.38</td>\n",
       "    </tr>\n",
       "  </tbody>\n",
       "</table>\n",
       "</div>"
      ],
      "text/plain": [
       "       1월    2월    3월     4월     5월     6월     7월     8월     9월\n",
       "가격  12.14  42.6  34.4  35.29  30.96  57.12  37.84  42.49  31.38"
      ]
     },
     "execution_count": 72,
     "metadata": {},
     "output_type": "execute_result"
    }
   ],
   "source": [
    "import pandas as pd\n",
    "import matplotlib.pyplot as plt\n",
    "import seaborn as sns\n",
    "\n",
    "df = pd.DataFrame({'1월':[12.14],'2월':[42.6],'3월':[34.4],'4월':[35.29],'5월':[30.96],'6월':[57.12],'7월':[37.84],'8월':[42.49],'9월':[31.38]})\n",
    "df.index=['가격']\n",
    "df"
   ]
  },
  {
   "cell_type": "code",
   "execution_count": 77,
   "id": "6a2de668",
   "metadata": {},
   "outputs": [
    {
     "data": {
      "text/html": [
       "<div>\n",
       "<style scoped>\n",
       "    .dataframe tbody tr th:only-of-type {\n",
       "        vertical-align: middle;\n",
       "    }\n",
       "\n",
       "    .dataframe tbody tr th {\n",
       "        vertical-align: top;\n",
       "    }\n",
       "\n",
       "    .dataframe thead th {\n",
       "        text-align: right;\n",
       "    }\n",
       "</style>\n",
       "<table border=\"1\" class=\"dataframe\">\n",
       "  <thead>\n",
       "    <tr style=\"text-align: right;\">\n",
       "      <th></th>\n",
       "      <th>날짜</th>\n",
       "      <th>Price</th>\n",
       "    </tr>\n",
       "  </thead>\n",
       "  <tbody>\n",
       "    <tr>\n",
       "      <th>0</th>\n",
       "      <td>1월</td>\n",
       "      <td>12.14</td>\n",
       "    </tr>\n",
       "    <tr>\n",
       "      <th>1</th>\n",
       "      <td>2월</td>\n",
       "      <td>42.60</td>\n",
       "    </tr>\n",
       "    <tr>\n",
       "      <th>2</th>\n",
       "      <td>3월</td>\n",
       "      <td>34.40</td>\n",
       "    </tr>\n",
       "    <tr>\n",
       "      <th>3</th>\n",
       "      <td>4월</td>\n",
       "      <td>35.29</td>\n",
       "    </tr>\n",
       "    <tr>\n",
       "      <th>4</th>\n",
       "      <td>5월</td>\n",
       "      <td>30.29</td>\n",
       "    </tr>\n",
       "    <tr>\n",
       "      <th>5</th>\n",
       "      <td>6월</td>\n",
       "      <td>57.12</td>\n",
       "    </tr>\n",
       "    <tr>\n",
       "      <th>6</th>\n",
       "      <td>7월</td>\n",
       "      <td>37.84</td>\n",
       "    </tr>\n",
       "    <tr>\n",
       "      <th>7</th>\n",
       "      <td>8월</td>\n",
       "      <td>42.49</td>\n",
       "    </tr>\n",
       "    <tr>\n",
       "      <th>8</th>\n",
       "      <td>9월</td>\n",
       "      <td>31.38</td>\n",
       "    </tr>\n",
       "  </tbody>\n",
       "</table>\n",
       "</div>"
      ],
      "text/plain": [
       "   날짜  Price\n",
       "0  1월  12.14\n",
       "1  2월  42.60\n",
       "2  3월  34.40\n",
       "3  4월  35.29\n",
       "4  5월  30.29\n",
       "5  6월  57.12\n",
       "6  7월  37.84\n",
       "7  8월  42.49\n",
       "8  9월  31.38"
      ]
     },
     "execution_count": 77,
     "metadata": {},
     "output_type": "execute_result"
    }
   ],
   "source": [
    "df1 = pd.DataFrame({'날짜':['1월','2월','3월','4월','5월','6월','7월','8월','9월'],\n",
    "                   'Price':[12.14, 42.60, 34.40, 35.29, 30.29, 57.12, 37.84, 42.49, 31.38]})\n",
    "df1"
   ]
  },
  {
   "cell_type": "code",
   "execution_count": 91,
   "id": "dd2371e4",
   "metadata": {},
   "outputs": [],
   "source": [
    "ma3 = df1['Price'].rolling(window=3).mean() \n",
    "ma3 = ma3.reset_index()"
   ]
  },
  {
   "cell_type": "code",
   "execution_count": 92,
   "id": "3341df08",
   "metadata": {},
   "outputs": [
    {
     "data": {
      "text/html": [
       "<div>\n",
       "<style scoped>\n",
       "    .dataframe tbody tr th:only-of-type {\n",
       "        vertical-align: middle;\n",
       "    }\n",
       "\n",
       "    .dataframe tbody tr th {\n",
       "        vertical-align: top;\n",
       "    }\n",
       "\n",
       "    .dataframe thead th {\n",
       "        text-align: right;\n",
       "    }\n",
       "</style>\n",
       "<table border=\"1\" class=\"dataframe\">\n",
       "  <thead>\n",
       "    <tr style=\"text-align: right;\">\n",
       "      <th></th>\n",
       "      <th>index</th>\n",
       "      <th>Price</th>\n",
       "    </tr>\n",
       "  </thead>\n",
       "  <tbody>\n",
       "    <tr>\n",
       "      <th>0</th>\n",
       "      <td>0</td>\n",
       "      <td>NaN</td>\n",
       "    </tr>\n",
       "    <tr>\n",
       "      <th>1</th>\n",
       "      <td>1</td>\n",
       "      <td>NaN</td>\n",
       "    </tr>\n",
       "    <tr>\n",
       "      <th>2</th>\n",
       "      <td>2</td>\n",
       "      <td>29.713333</td>\n",
       "    </tr>\n",
       "    <tr>\n",
       "      <th>3</th>\n",
       "      <td>3</td>\n",
       "      <td>37.430000</td>\n",
       "    </tr>\n",
       "    <tr>\n",
       "      <th>4</th>\n",
       "      <td>4</td>\n",
       "      <td>33.326667</td>\n",
       "    </tr>\n",
       "    <tr>\n",
       "      <th>5</th>\n",
       "      <td>5</td>\n",
       "      <td>40.900000</td>\n",
       "    </tr>\n",
       "    <tr>\n",
       "      <th>6</th>\n",
       "      <td>6</td>\n",
       "      <td>41.750000</td>\n",
       "    </tr>\n",
       "    <tr>\n",
       "      <th>7</th>\n",
       "      <td>7</td>\n",
       "      <td>45.816667</td>\n",
       "    </tr>\n",
       "    <tr>\n",
       "      <th>8</th>\n",
       "      <td>8</td>\n",
       "      <td>37.236667</td>\n",
       "    </tr>\n",
       "  </tbody>\n",
       "</table>\n",
       "</div>"
      ],
      "text/plain": [
       "   index      Price\n",
       "0      0        NaN\n",
       "1      1        NaN\n",
       "2      2  29.713333\n",
       "3      3  37.430000\n",
       "4      4  33.326667\n",
       "5      5  40.900000\n",
       "6      6  41.750000\n",
       "7      7  45.816667\n",
       "8      8  37.236667"
      ]
     },
     "execution_count": 92,
     "metadata": {},
     "output_type": "execute_result"
    }
   ],
   "source": [
    "ma3"
   ]
  },
  {
   "cell_type": "code",
   "execution_count": 94,
   "id": "623f7f8b",
   "metadata": {},
   "outputs": [
    {
     "name": "stderr",
     "output_type": "stream",
     "text": [
      "C:\\Users\\82107\\anaconda3\\lib\\site-packages\\IPython\\core\\pylabtools.py:151: UserWarning: Glyph 50900 (\\N{HANGUL SYLLABLE WEOL}) missing from current font.\n",
      "  fig.canvas.print_figure(bytes_io, **kw)\n"
     ]
    },
    {
     "data": {
      "image/png": "[encoded data removed]",
      "text/plain": [
       "<Figure size 432x288 with 1 Axes>"
      ]
     },
     "metadata": {
      "needs_background": "light"
     },
     "output_type": "display_data"
    }
   ],
   "source": [
    "# 4.1\n",
    "plt.plot(df1['날짜'],df1['Price'])\n",
    "plt.plot(ma3.index, ma3.Price)\n",
    "plt.show()"
   ]
  },
  {
   "cell_type": "code",
   "execution_count": 103,
   "id": "7ccde462",
   "metadata": {},
   "outputs": [
    {
     "name": "stdout",
     "output_type": "stream",
     "text": [
      "가격 증가율은 : 158.0 %\n"
     ]
    }
   ],
   "source": [
    "# 4.2 1월 대비 9월의 은의 가격은 몇 % 올랐는가? 소수점 두번째 자리에서 반올림 -\n",
    "up = round(((31.38-12.14)/12.14),2)*100\n",
    "print('가격 증가율은 :',up,'%')"
   ]
  },
  {
   "cell_type": "markdown",
   "id": "c9590cbd",
   "metadata": {},
   "source": [
    "## 5번\n",
    "\n",
    "아래 그래프는 A,B,C 자치구별 W 의원에 대한 찬성, 반대 지지를 나타낸다. 자치구별 지지율이 같은지에 대해서 검정하라\n",
    "\n",
    "5.1 연구가설과 귀무가설을 설정하라\n",
    "\n",
    "5.2 검정통계량 구하고 결론을 내라"
   ]
  },
  {
   "cell_type": "code",
   "execution_count": 2,
   "id": "8233736a",
   "metadata": {},
   "outputs": [],
   "source": [
    "import pandas as pd"
   ]
  },
  {
   "cell_type": "code",
   "execution_count": 25,
   "id": "e072fcd3",
   "metadata": {},
   "outputs": [
    {
     "data": {
      "text/html": [
       "<div>\n",
       "<style scoped>\n",
       "    .dataframe tbody tr th:only-of-type {\n",
       "        vertical-align: middle;\n",
       "    }\n",
       "\n",
       "    .dataframe tbody tr th {\n",
       "        vertical-align: top;\n",
       "    }\n",
       "\n",
       "    .dataframe thead th {\n",
       "        text-align: right;\n",
       "    }\n",
       "</style>\n",
       "<table border=\"1\" class=\"dataframe\">\n",
       "  <thead>\n",
       "    <tr style=\"text-align: right;\">\n",
       "      <th></th>\n",
       "      <th>A</th>\n",
       "      <th>B</th>\n",
       "      <th>C</th>\n",
       "    </tr>\n",
       "  </thead>\n",
       "  <tbody>\n",
       "    <tr>\n",
       "      <th>찬성</th>\n",
       "      <td>176</td>\n",
       "      <td>193</td>\n",
       "      <td>159</td>\n",
       "    </tr>\n",
       "    <tr>\n",
       "      <th>반대</th>\n",
       "      <td>124</td>\n",
       "      <td>107</td>\n",
       "      <td>141</td>\n",
       "    </tr>\n",
       "  </tbody>\n",
       "</table>\n",
       "</div>"
      ],
      "text/plain": [
       "      A    B    C\n",
       "찬성  176  193  159\n",
       "반대  124  107  141"
      ]
     },
     "execution_count": 25,
     "metadata": {},
     "output_type": "execute_result"
    }
   ],
   "source": [
    "df = pd.DataFrame({'A':[176,124],'B':[193,107],'C':[159,141]},\n",
    "                 index=['찬성','반대'])\n",
    "df"
   ]
  },
  {
   "cell_type": "code",
   "execution_count": 26,
   "id": "c8c89408",
   "metadata": {},
   "outputs": [],
   "source": [
    "# 5.1 \n",
    "# 귀무가설: 자치구별 지지율에는 차이가 없다.\n",
    "# 대립가설: 자치구별 지지율에는 차이가 있다."
   ]
  },
  {
   "cell_type": "code",
   "execution_count": 39,
   "id": "dd49979e",
   "metadata": {},
   "outputs": [
    {
     "data": {
      "text/plain": [
       "(7.945381231671554,\n",
       " 0.01882272023214683,\n",
       " 2,\n",
       " array([[176., 176., 176.],\n",
       "        [124., 124., 124.]]))"
      ]
     },
     "execution_count": 39,
     "metadata": {},
     "output_type": "execute_result"
    }
   ],
   "source": [
    "import scipy.stats as stats\n",
    "stats.chi2_contingency(df)\n",
    "# 검통계량 값은 3.284090909090909이고 p-value는 0.018로 유의수준 0.05보다 크므로 귀무가설을 기각하지 못한다.\n",
    "# 즉 자구별 지지율에는 차이가 없다."
   ]
  },
  {
   "cell_type": "markdown",
   "id": "05d095e4",
   "metadata": {},
   "source": [
    "## 6번\n",
    "\n",
    "A초등학교 남학생 16명과 여학생 9명의 혈압을 측정한 pressure.csv파일을 가지고 남녀학생의 평균 혈압에 차이가 없는지 분석하라. 단, 남학생과 여학생의 혈압 데이터는 정규분포를 따르며 등분산임을 가정한다.\n",
    "\n",
    "6.1 연구가설과 귀무가설을 설정하라\n",
    "\n",
    "6.2 통계량을 구하고, 연구가설 채택여부를 기술하라.\n",
    "\n",
    "6.3 6.2 에서 구한 검정 통계량 값을 바탕으로 신뢰구간을 구하라"
   ]
  },
  {
   "cell_type": "code",
   "execution_count": 40,
   "id": "eabc8ca3",
   "metadata": {},
   "outputs": [
    {
     "data": {
      "text/html": [
       "<div>\n",
       "<style scoped>\n",
       "    .dataframe tbody tr th:only-of-type {\n",
       "        vertical-align: middle;\n",
       "    }\n",
       "\n",
       "    .dataframe tbody tr th {\n",
       "        vertical-align: top;\n",
       "    }\n",
       "\n",
       "    .dataframe thead th {\n",
       "        text-align: right;\n",
       "    }\n",
       "</style>\n",
       "<table border=\"1\" class=\"dataframe\">\n",
       "  <thead>\n",
       "    <tr style=\"text-align: right;\">\n",
       "      <th></th>\n",
       "      <th>gender</th>\n",
       "      <th>pressure</th>\n",
       "    </tr>\n",
       "  </thead>\n",
       "  <tbody>\n",
       "    <tr>\n",
       "      <th>0</th>\n",
       "      <td>male</td>\n",
       "      <td>106.8</td>\n",
       "    </tr>\n",
       "    <tr>\n",
       "      <th>1</th>\n",
       "      <td>male</td>\n",
       "      <td>100.8</td>\n",
       "    </tr>\n",
       "    <tr>\n",
       "      <th>2</th>\n",
       "      <td>male</td>\n",
       "      <td>84.5</td>\n",
       "    </tr>\n",
       "    <tr>\n",
       "      <th>3</th>\n",
       "      <td>male</td>\n",
       "      <td>104.2</td>\n",
       "    </tr>\n",
       "    <tr>\n",
       "      <th>4</th>\n",
       "      <td>male</td>\n",
       "      <td>107.0</td>\n",
       "    </tr>\n",
       "  </tbody>\n",
       "</table>\n",
       "</div>"
      ],
      "text/plain": [
       "  gender  pressure\n",
       "0   male     106.8\n",
       "1   male     100.8\n",
       "2   male      84.5\n",
       "3   male     104.2\n",
       "4   male     107.0"
      ]
     },
     "execution_count": 40,
     "metadata": {},
     "output_type": "execute_result"
    }
   ],
   "source": [
    "import pandas as pd\n",
    "\n",
    "df= pd.read_csv('https://raw.githubusercontent.com/Datamanim/datarepo/main/adp/26/pressure.csv')\n",
    "df.head()"
   ]
  },
  {
   "cell_type": "code",
   "execution_count": 47,
   "id": "1eb3062e",
   "metadata": {},
   "outputs": [],
   "source": [
    "male= df.loc[df.gender=='male','pressure']\n",
    "female = df.loc[df.gender=='female','pressure']"
   ]
  },
  {
   "cell_type": "code",
   "execution_count": 43,
   "id": "18be6506",
   "metadata": {},
   "outputs": [],
   "source": [
    "# 6.1 연구가설과 귀무가설을 설정하라\n",
    "# 귀무가설: 성별에 따른 평균 혈압에는 차이가 없다\n",
    "# 대립가설: 성별에 따른 평균 혈압에는 차이가 있다."
   ]
  },
  {
   "cell_type": "code",
   "execution_count": 50,
   "id": "185b39d1",
   "metadata": {},
   "outputs": [
    {
     "data": {
      "text/plain": [
       "Ttest_indResult(statistic=1.598335024574904, pvalue=0.12361716364314851)"
      ]
     },
     "execution_count": 50,
     "metadata": {},
     "output_type": "execute_result"
    }
   ],
   "source": [
    "# 6.2 통계량을 구하고, 연구가설 채택여부를 기술하라\n",
    "stats.ttest_ind(male,female, equal_var=True)\n",
    "# 검정결과 p-value가 0.05보다 크므로 귀무가설을 기각하지 못한다.\n",
    "# 즉 성별에 따른 평균 혈압에는 차이가 없다."
   ]
  },
  {
   "cell_type": "code",
   "execution_count": null,
   "id": "9a5ff58f",
   "metadata": {},
   "outputs": [],
   "source": [
    "# 6.2에서 구한 검정 통계량 값을 바탕으로 신뢰구간을 구하라"
   ]
  },
  {
   "cell_type": "code",
   "execution_count": 54,
   "id": "e520a084",
   "metadata": {},
   "outputs": [],
   "source": [
    "import numpy as np"
   ]
  },
  {
   "cell_type": "code",
   "execution_count": 78,
   "id": "d8603ae7",
   "metadata": {},
   "outputs": [],
   "source": [
    "male_bar = np.mean(male)\n",
    "female_bar = np.mean(female)\n",
    "male_var = np.var(male)\n",
    "female_var= np.var(female)\n",
    "n1 = len(male)\n",
    "n2 = len(female)\n",
    "diff = male_bar= female_bar"
   ]
  },
  {
   "cell_type": "code",
   "execution_count": 81,
   "id": "59226fce",
   "metadata": {},
   "outputs": [
    {
     "data": {
      "text/plain": [
       "[83.31946139009864, 96.50276083212356]"
      ]
     },
     "execution_count": 81,
     "metadata": {},
     "output_type": "execute_result"
    }
   ],
   "source": [
    "c = [diff-1.598335024574904*se, diff+1.598335024574904*se]\n",
    "c"
   ]
  },
  {
   "cell_type": "markdown",
   "id": "de6fa1e5",
   "metadata": {},
   "source": [
    "## 7번\n",
    "\n",
    "height(키), weight(몸무게), waist(허리둘레) 컬럼을 가진 problem7.csv파일을 가지고 다음을 분석하라\n",
    "A시의 20대 남성 411명을 임의로 추출하여 키, 몸무게, 허리둘레를 조사하여 기록한 데이터이다.\n",
    "이 데이터를 이용하여 20대 남성의 키와 허리둘레가 체중에 영향을 미치는지 알아보고자 한다.\n",
    "\n",
    "7.1 아래 조건을 참고하여 회귀계수(반올림하여 소수점 두자리)를 구하시오.\n",
    "\n",
    "베이지안 회귀\n",
    "\n",
    "시드넘버 1234로 지정\n",
    "\n",
    "1000번의 burn-in 이후 10,000의 MCMC를 수행\n",
    "\n",
    "회귀계수의 사전분포는 부적절한 균일분포(inproper uniform prior distribution), 오차항의 분산의 사전분포는 역감마 분포로 지정. 이때, 형상(Shape)모수와 척도(Scale)모수는 각각 0.005로 지정.\n",
    "\n",
    "7.2 위에서 만든 모델을 바탕으로 키 180cm, 허리둘레 85cm인 남성의 몸무게를 추정하라"
   ]
  },
  {
   "cell_type": "code",
   "execution_count": 82,
   "id": "50c6975a",
   "metadata": {},
   "outputs": [
    {
     "data": {
      "text/html": [
       "<div>\n",
       "<style scoped>\n",
       "    .dataframe tbody tr th:only-of-type {\n",
       "        vertical-align: middle;\n",
       "    }\n",
       "\n",
       "    .dataframe tbody tr th {\n",
       "        vertical-align: top;\n",
       "    }\n",
       "\n",
       "    .dataframe thead th {\n",
       "        text-align: right;\n",
       "    }\n",
       "</style>\n",
       "<table border=\"1\" class=\"dataframe\">\n",
       "  <thead>\n",
       "    <tr style=\"text-align: right;\">\n",
       "      <th></th>\n",
       "      <th>height</th>\n",
       "      <th>weight</th>\n",
       "      <th>waistline</th>\n",
       "    </tr>\n",
       "  </thead>\n",
       "  <tbody>\n",
       "    <tr>\n",
       "      <th>0</th>\n",
       "      <td>174.396</td>\n",
       "      <td>72.102</td>\n",
       "      <td>79.3787</td>\n",
       "    </tr>\n",
       "    <tr>\n",
       "      <th>1</th>\n",
       "      <td>179.656</td>\n",
       "      <td>81.255</td>\n",
       "      <td>80.6649</td>\n",
       "    </tr>\n",
       "    <tr>\n",
       "      <th>2</th>\n",
       "      <td>175.079</td>\n",
       "      <td>76.207</td>\n",
       "      <td>80.3166</td>\n",
       "    </tr>\n",
       "    <tr>\n",
       "      <th>3</th>\n",
       "      <td>180.804</td>\n",
       "      <td>81.354</td>\n",
       "      <td>80.8794</td>\n",
       "    </tr>\n",
       "    <tr>\n",
       "      <th>4</th>\n",
       "      <td>177.448</td>\n",
       "      <td>78.768</td>\n",
       "      <td>80.3499</td>\n",
       "    </tr>\n",
       "  </tbody>\n",
       "</table>\n",
       "</div>"
      ],
      "text/plain": [
       "    height  weight  waistline\n",
       "0  174.396  72.102    79.3787\n",
       "1  179.656  81.255    80.6649\n",
       "2  175.079  76.207    80.3166\n",
       "3  180.804  81.354    80.8794\n",
       "4  177.448  78.768    80.3499"
      ]
     },
     "execution_count": 82,
     "metadata": {},
     "output_type": "execute_result"
    }
   ],
   "source": [
    "import pandas as pd\n",
    "\n",
    "df= pd.read_csv('https://raw.githubusercontent.com/Datamanim/datarepo/main/adp/26/problem7.csv')\n",
    "df.head()"
   ]
  },
  {
   "cell_type": "code",
   "execution_count": null,
   "id": "3fa082a3",
   "metadata": {},
   "outputs": [],
   "source": []
  }
 ],
 "metadata": {
  "kernelspec": {
   "display_name": "Python 3 (ipykernel)",
   "language": "python",
   "name": "python3"
  },
  "language_info": {
   "codemirror_mode": {
    "name": "ipython",
    "version": 3
   },
   "file_extension": ".py",
   "mimetype": "text/x-python",
   "name": "python",
   "nbconvert_exporter": "python",
   "pygments_lexer": "ipython3",
   "version": "3.9.12"
  }
 },
 "nbformat": 4,
 "nbformat_minor": 5
}
