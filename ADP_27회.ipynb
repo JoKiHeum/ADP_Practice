{
 "cells": [
  {
   "cell_type": "markdown",
   "id": "6ca36ccc",
   "metadata": {},
   "source": [
    "# 27회 실기 문제 \n",
    "## 1번\n",
    "데이터 확인 및 전처리\n",
    "\n",
    "1.1 EDA 데이터 탐색\n",
    "\n",
    "1.2 변수간 상관관계를 시각화하고 전처리가 필요함을 설명하라\n",
    "\n",
    "출처\n",
    "\n",
    "https://www.kaggle.com/datasets/mlg-ulb/creditcardfraud (후처리)"
   ]
  },
  {
   "cell_type": "code",
   "execution_count": 60,
   "id": "6f34a250",
   "metadata": {},
   "outputs": [
    {
     "data": {
      "text/html": [
       "<div>\n",
       "<style scoped>\n",
       "    .dataframe tbody tr th:only-of-type {\n",
       "        vertical-align: middle;\n",
       "    }\n",
       "\n",
       "    .dataframe tbody tr th {\n",
       "        vertical-align: top;\n",
       "    }\n",
       "\n",
       "    .dataframe thead th {\n",
       "        text-align: right;\n",
       "    }\n",
       "</style>\n",
       "<table border=\"1\" class=\"dataframe\">\n",
       "  <thead>\n",
       "    <tr style=\"text-align: right;\">\n",
       "      <th></th>\n",
       "      <th>Time</th>\n",
       "      <th>V1</th>\n",
       "      <th>V2</th>\n",
       "      <th>V3</th>\n",
       "      <th>V4</th>\n",
       "      <th>V5</th>\n",
       "      <th>V6</th>\n",
       "      <th>V7</th>\n",
       "      <th>V8</th>\n",
       "      <th>V9</th>\n",
       "      <th>V10</th>\n",
       "      <th>V11</th>\n",
       "      <th>V12</th>\n",
       "      <th>V13</th>\n",
       "      <th>V14</th>\n",
       "      <th>V15</th>\n",
       "      <th>V16</th>\n",
       "      <th>V17</th>\n",
       "      <th>Amount</th>\n",
       "      <th>Class</th>\n",
       "    </tr>\n",
       "  </thead>\n",
       "  <tbody>\n",
       "    <tr>\n",
       "      <th>0</th>\n",
       "      <td>60.0</td>\n",
       "      <td>1.069141</td>\n",
       "      <td>0.043786</td>\n",
       "      <td>0.309867</td>\n",
       "      <td>1.316694</td>\n",
       "      <td>-0.462394</td>\n",
       "      <td>-0.857888</td>\n",
       "      <td>0.207904</td>\n",
       "      <td>-0.191270</td>\n",
       "      <td>0.056398</td>\n",
       "      <td>0.041567</td>\n",
       "      <td>-0.507358</td>\n",
       "      <td>-0.108666</td>\n",
       "      <td>-0.473257</td>\n",
       "      <td>0.452046</td>\n",
       "      <td>1.005675</td>\n",
       "      <td>0.185441</td>\n",
       "      <td>-0.439976</td>\n",
       "      <td>89.40</td>\n",
       "      <td>0</td>\n",
       "    </tr>\n",
       "    <tr>\n",
       "      <th>1</th>\n",
       "      <td>406.0</td>\n",
       "      <td>-2.312227</td>\n",
       "      <td>1.951992</td>\n",
       "      <td>-1.609851</td>\n",
       "      <td>3.997906</td>\n",
       "      <td>-0.522188</td>\n",
       "      <td>-1.426545</td>\n",
       "      <td>-2.537387</td>\n",
       "      <td>1.391657</td>\n",
       "      <td>-2.770089</td>\n",
       "      <td>-2.772272</td>\n",
       "      <td>3.202033</td>\n",
       "      <td>-2.899907</td>\n",
       "      <td>-0.595222</td>\n",
       "      <td>-4.289254</td>\n",
       "      <td>0.389724</td>\n",
       "      <td>-1.140747</td>\n",
       "      <td>-2.830056</td>\n",
       "      <td>0.00</td>\n",
       "      <td>1</td>\n",
       "    </tr>\n",
       "    <tr>\n",
       "      <th>2</th>\n",
       "      <td>426.0</td>\n",
       "      <td>-1.932055</td>\n",
       "      <td>1.724618</td>\n",
       "      <td>1.288229</td>\n",
       "      <td>-0.396998</td>\n",
       "      <td>-0.140202</td>\n",
       "      <td>2.470521</td>\n",
       "      <td>-1.865298</td>\n",
       "      <td>-5.186855</td>\n",
       "      <td>0.794764</td>\n",
       "      <td>0.155379</td>\n",
       "      <td>0.034517</td>\n",
       "      <td>0.906738</td>\n",
       "      <td>-0.027172</td>\n",
       "      <td>-0.404303</td>\n",
       "      <td>-0.473949</td>\n",
       "      <td>0.274034</td>\n",
       "      <td>-0.222340</td>\n",
       "      <td>16.19</td>\n",
       "      <td>0</td>\n",
       "    </tr>\n",
       "    <tr>\n",
       "      <th>3</th>\n",
       "      <td>472.0</td>\n",
       "      <td>-3.043541</td>\n",
       "      <td>-3.157307</td>\n",
       "      <td>1.088463</td>\n",
       "      <td>2.288644</td>\n",
       "      <td>1.359805</td>\n",
       "      <td>-1.064823</td>\n",
       "      <td>0.325574</td>\n",
       "      <td>-0.067794</td>\n",
       "      <td>-0.270953</td>\n",
       "      <td>-0.838587</td>\n",
       "      <td>-0.414575</td>\n",
       "      <td>-0.503141</td>\n",
       "      <td>0.676502</td>\n",
       "      <td>-1.692029</td>\n",
       "      <td>2.000635</td>\n",
       "      <td>0.666780</td>\n",
       "      <td>0.599717</td>\n",
       "      <td>529.00</td>\n",
       "      <td>1</td>\n",
       "    </tr>\n",
       "    <tr>\n",
       "      <th>4</th>\n",
       "      <td>674.0</td>\n",
       "      <td>-0.719065</td>\n",
       "      <td>0.638954</td>\n",
       "      <td>0.686335</td>\n",
       "      <td>-0.023240</td>\n",
       "      <td>2.317890</td>\n",
       "      <td>3.871978</td>\n",
       "      <td>-0.312797</td>\n",
       "      <td>1.089780</td>\n",
       "      <td>-0.596925</td>\n",
       "      <td>-0.006142</td>\n",
       "      <td>-0.242883</td>\n",
       "      <td>-0.384491</td>\n",
       "      <td>0.109079</td>\n",
       "      <td>0.187565</td>\n",
       "      <td>1.823472</td>\n",
       "      <td>0.274346</td>\n",
       "      <td>-0.697730</td>\n",
       "      <td>22.00</td>\n",
       "      <td>0</td>\n",
       "    </tr>\n",
       "  </tbody>\n",
       "</table>\n",
       "</div>"
      ],
      "text/plain": [
       "    Time        V1        V2        V3        V4        V5        V6  \\\n",
       "0   60.0  1.069141  0.043786  0.309867  1.316694 -0.462394 -0.857888   \n",
       "1  406.0 -2.312227  1.951992 -1.609851  3.997906 -0.522188 -1.426545   \n",
       "2  426.0 -1.932055  1.724618  1.288229 -0.396998 -0.140202  2.470521   \n",
       "3  472.0 -3.043541 -3.157307  1.088463  2.288644  1.359805 -1.064823   \n",
       "4  674.0 -0.719065  0.638954  0.686335 -0.023240  2.317890  3.871978   \n",
       "\n",
       "         V7        V8        V9       V10       V11       V12       V13  \\\n",
       "0  0.207904 -0.191270  0.056398  0.041567 -0.507358 -0.108666 -0.473257   \n",
       "1 -2.537387  1.391657 -2.770089 -2.772272  3.202033 -2.899907 -0.595222   \n",
       "2 -1.865298 -5.186855  0.794764  0.155379  0.034517  0.906738 -0.027172   \n",
       "3  0.325574 -0.067794 -0.270953 -0.838587 -0.414575 -0.503141  0.676502   \n",
       "4 -0.312797  1.089780 -0.596925 -0.006142 -0.242883 -0.384491  0.109079   \n",
       "\n",
       "        V14       V15       V16       V17  Amount  Class  \n",
       "0  0.452046  1.005675  0.185441 -0.439976   89.40      0  \n",
       "1 -4.289254  0.389724 -1.140747 -2.830056    0.00      1  \n",
       "2 -0.404303 -0.473949  0.274034 -0.222340   16.19      0  \n",
       "3 -1.692029  2.000635  0.666780  0.599717  529.00      1  \n",
       "4  0.187565  1.823472  0.274346 -0.697730   22.00      0  "
      ]
     },
     "execution_count": 60,
     "metadata": {},
     "output_type": "execute_result"
    }
   ],
   "source": [
    "import pandas as pd\n",
    "\n",
    "df= pd.read_csv('https://raw.githubusercontent.com/Datamanim/datarepo/main/adp/27/problem1.csv')\n",
    "df.head()"
   ]
  },
  {
   "cell_type": "code",
   "execution_count": 61,
   "id": "fc185b4c",
   "metadata": {},
   "outputs": [],
   "source": [
    "import matplotlib.pyplot as plt\n",
    "import seaborn as sns\n",
    "import numpy as np\n",
    "import warnings\n",
    "warnings.filterwarnings('ignore')"
   ]
  },
  {
   "cell_type": "code",
   "execution_count": 62,
   "id": "babba229",
   "metadata": {},
   "outputs": [
    {
     "name": "stdout",
     "output_type": "stream",
     "text": [
      "<class 'pandas.core.frame.DataFrame'>\n",
      "RangeIndex: 1193 entries, 0 to 1192\n",
      "Data columns (total 20 columns):\n",
      " #   Column  Non-Null Count  Dtype  \n",
      "---  ------  --------------  -----  \n",
      " 0   Time    1193 non-null   float64\n",
      " 1   V1      1193 non-null   float64\n",
      " 2   V2      1193 non-null   float64\n",
      " 3   V3      1193 non-null   float64\n",
      " 4   V4      1193 non-null   float64\n",
      " 5   V5      1193 non-null   float64\n",
      " 6   V6      1193 non-null   float64\n",
      " 7   V7      1193 non-null   float64\n",
      " 8   V8      1193 non-null   float64\n",
      " 9   V9      1193 non-null   float64\n",
      " 10  V10     1193 non-null   float64\n",
      " 11  V11     1193 non-null   float64\n",
      " 12  V12     1193 non-null   float64\n",
      " 13  V13     1193 non-null   float64\n",
      " 14  V14     1193 non-null   float64\n",
      " 15  V15     1193 non-null   float64\n",
      " 16  V16     1193 non-null   float64\n",
      " 17  V17     1193 non-null   float64\n",
      " 18  Amount  1193 non-null   float64\n",
      " 19  Class   1193 non-null   int64  \n",
      "dtypes: float64(19), int64(1)\n",
      "memory usage: 186.5 KB\n"
     ]
    }
   ],
   "source": [
    "df.info()"
   ]
  },
  {
   "cell_type": "code",
   "execution_count": 63,
   "id": "4d5bfc34",
   "metadata": {},
   "outputs": [
    {
     "data": {
      "text/plain": [
       "0    993\n",
       "1    200\n",
       "Name: Class, dtype: int64"
      ]
     },
     "execution_count": 63,
     "metadata": {},
     "output_type": "execute_result"
    }
   ],
   "source": [
    "df.Class.value_counts()"
   ]
  },
  {
   "cell_type": "code",
   "execution_count": 64,
   "id": "ea3ed7f8",
   "metadata": {},
   "outputs": [
    {
     "data": {
      "image/png": "[encoded data removed]",
      "text/plain": [
       "<Figure size 432x288 with 1 Axes>"
      ]
     },
     "metadata": {
      "needs_background": "light"
     },
     "output_type": "display_data"
    }
   ],
   "source": [
    "sns.barplot(df.Class.value_counts().index, df.Class.value_counts().values)\n",
    "plt.show()\n",
    "# Class 값의 데이터 불균형이 발견된다. 추후 모델링 전에 클래스 불균형을 해소해야 될 필요가 있다."
   ]
  },
  {
   "cell_type": "code",
   "execution_count": 65,
   "id": "684b8562",
   "metadata": {},
   "outputs": [
    {
     "data": {
      "image/png": "[encoded data removed]",
      "text/plain": [
       "<Figure size 1440x720 with 2 Axes>"
      ]
     },
     "metadata": {
      "needs_background": "light"
     },
     "output_type": "display_data"
    }
   ],
   "source": [
    "df_cor = df.corr(method='pearson')\n",
    "plt.figure(figsize=(20,10))\n",
    "sns.heatmap(df_cor,\n",
    "           xticklabels=df_cor.columns,\n",
    "           yticklabels=df_cor.columns,\n",
    "           cmap = 'RdBu_r',\n",
    "           annot=True,\n",
    "           linewidth=5)\n",
    "plt.show()"
   ]
  },
  {
   "cell_type": "code",
   "execution_count": 66,
   "id": "573d4505",
   "metadata": {},
   "outputs": [
    {
     "data": {
      "text/html": [
       "<div>\n",
       "<style scoped>\n",
       "    .dataframe tbody tr th:only-of-type {\n",
       "        vertical-align: middle;\n",
       "    }\n",
       "\n",
       "    .dataframe tbody tr th {\n",
       "        vertical-align: top;\n",
       "    }\n",
       "\n",
       "    .dataframe thead th {\n",
       "        text-align: right;\n",
       "    }\n",
       "</style>\n",
       "<table border=\"1\" class=\"dataframe\">\n",
       "  <thead>\n",
       "    <tr style=\"text-align: right;\">\n",
       "      <th></th>\n",
       "      <th>col</th>\n",
       "      <th>value</th>\n",
       "    </tr>\n",
       "  </thead>\n",
       "  <tbody>\n",
       "    <tr>\n",
       "      <th>0</th>\n",
       "      <td>Time</td>\n",
       "      <td>60.00</td>\n",
       "    </tr>\n",
       "    <tr>\n",
       "      <th>1</th>\n",
       "      <td>Time</td>\n",
       "      <td>406.00</td>\n",
       "    </tr>\n",
       "    <tr>\n",
       "      <th>2</th>\n",
       "      <td>Time</td>\n",
       "      <td>426.00</td>\n",
       "    </tr>\n",
       "    <tr>\n",
       "      <th>3</th>\n",
       "      <td>Time</td>\n",
       "      <td>472.00</td>\n",
       "    </tr>\n",
       "    <tr>\n",
       "      <th>4</th>\n",
       "      <td>Time</td>\n",
       "      <td>674.00</td>\n",
       "    </tr>\n",
       "    <tr>\n",
       "      <th>...</th>\n",
       "      <td>...</td>\n",
       "      <td>...</td>\n",
       "    </tr>\n",
       "    <tr>\n",
       "      <th>22662</th>\n",
       "      <td>Amount</td>\n",
       "      <td>35.00</td>\n",
       "    </tr>\n",
       "    <tr>\n",
       "      <th>22663</th>\n",
       "      <td>Amount</td>\n",
       "      <td>4.49</td>\n",
       "    </tr>\n",
       "    <tr>\n",
       "      <th>22664</th>\n",
       "      <td>Amount</td>\n",
       "      <td>47.22</td>\n",
       "    </tr>\n",
       "    <tr>\n",
       "      <th>22665</th>\n",
       "      <td>Amount</td>\n",
       "      <td>150.00</td>\n",
       "    </tr>\n",
       "    <tr>\n",
       "      <th>22666</th>\n",
       "      <td>Amount</td>\n",
       "      <td>5.90</td>\n",
       "    </tr>\n",
       "  </tbody>\n",
       "</table>\n",
       "<p>22667 rows × 2 columns</p>\n",
       "</div>"
      ],
      "text/plain": [
       "          col   value\n",
       "0        Time   60.00\n",
       "1        Time  406.00\n",
       "2        Time  426.00\n",
       "3        Time  472.00\n",
       "4        Time  674.00\n",
       "...       ...     ...\n",
       "22662  Amount   35.00\n",
       "22663  Amount    4.49\n",
       "22664  Amount   47.22\n",
       "22665  Amount  150.00\n",
       "22666  Amount    5.90\n",
       "\n",
       "[22667 rows x 2 columns]"
      ]
     },
     "execution_count": 66,
     "metadata": {},
     "output_type": "execute_result"
    }
   ],
   "source": [
    "X = df.drop(columns=['Class'])\n",
    "df_v1 = pd.melt(X, var_name='col', value_name='value')\n",
    "df_v1"
   ]
  },
  {
   "cell_type": "code",
   "execution_count": 69,
   "id": "a1028ac0",
   "metadata": {},
   "outputs": [
    {
     "data": {
      "text/plain": [
       "Index(['Time', 'V1', 'V2', 'V3', 'V4', 'V5', 'V6', 'V7', 'V8', 'V9', 'V10',\n",
       "       'V11', 'V12', 'V13', 'V14', 'V15', 'V16', 'V17', 'Amount'],\n",
       "      dtype='object')"
      ]
     },
     "execution_count": 69,
     "metadata": {},
     "output_type": "execute_result"
    }
   ],
   "source": [
    "X.columns"
   ]
  },
  {
   "cell_type": "code",
   "execution_count": 74,
   "id": "54d1a4c8",
   "metadata": {},
   "outputs": [
    {
     "data": {
      "image/png": "[encoded data removed]",
      "text/plain": [
       "<Figure size 1080x504 with 1 Axes>"
      ]
     },
     "metadata": {
      "needs_background": "light"
     },
     "output_type": "display_data"
    }
   ],
   "source": [
    "plt.figure(figsize=(15,7))\n",
    "sns.boxplot(x='col',y='value', data=df_v1)\n",
    "plt.show()"
   ]
  },
  {
   "cell_type": "code",
   "execution_count": 75,
   "id": "a7020615",
   "metadata": {},
   "outputs": [],
   "source": [
    "# 전체 데이터에서 결측치는 존재하지 않는다.\n",
    "# 종속변수는 int형 독립변수는 float형태로 구성되어 있다.\n",
    "# 종속변수에는 클래스 불균형이 보인다.\n",
    "# 종속변수 Class와의 상관계수를 확인해 봤을 떼 , 독립변수에서는 큰 상관성이 없었다. 파생변수를 활용할 필요가 있어 보인다."
   ]
  },
  {
   "cell_type": "markdown",
   "id": "13e8dda0",
   "metadata": {},
   "source": [
    "## 2번\n",
    "\n",
    "차원축소 (1번이어서)\n",
    "\n",
    "2.1 차원축소 방법 2가지 이상 비교하고 한가지 선택\n",
    "\n",
    "2.2 추천한 한 가지를 실제로 수행하고 선택한 이유 설명"
   ]
  },
  {
   "cell_type": "markdown",
   "id": "6c11c889",
   "metadata": {},
   "source": [
    "### 1. PCA \n",
    "- PCA는 차원 축소에서 가장 많이 사용되는 차원 추출 방법이다. 여러 변수 간에 존재하는 상관관계를 이용하는 차원 축소 방법으로 데이터를 축에 사영했을 때 분산이 가장 높은 축을 찾아 그 축을 새로운 주성분으로 결정하는 방법이다.\n",
    "\n",
    "### 2. LDA\n",
    "- LDA는 지도학습 분류에서 사용하기 쉽도록 개별 클래스를 분별할 수 있는 기준을 최대한 유지하면서 차원을 축소하는 방식이다.\n",
    "\n",
    "### 두 차원축소 비교\n",
    "- PCA는 입력데이터의 변동성이 가장 큰 축을 찾고 LDA는 입력데이터의 결정값 클래스를 최대한으로 분리할 수 있는 축을 찾는다.\n",
    "\n",
    "### PCA 선택\n",
    "- LDA는 이진 분류 문제에서 독립변수를 1개로 축소시키게 된다. 해당 데이터의 독립변수는 19개로 이를 1개로 축소시키게 되면 데이터 손실 문제가 발생하기 때문에 PCA 방법을 선택한다. "
   ]
  },
  {
   "cell_type": "code",
   "execution_count": 76,
   "id": "dcdfd2b2",
   "metadata": {},
   "outputs": [
    {
     "name": "stdout",
     "output_type": "stream",
     "text": [
      "고유 값:  [105.234544    39.48442197  39.08794063  37.08943079  36.56223415]\n",
      "분산 설명력:  [0.48856528 0.06877926 0.06740491 0.06068848 0.05897547]\n"
     ]
    }
   ],
   "source": [
    "from sklearn.decomposition import PCA\n",
    "from sklearn.preprocessing import StandardScaler\n",
    "X = df.drop(columns=['Class'])\n",
    "y = df[['Class']]\n",
    "df_scaled = StandardScaler().fit_transform(X)\n",
    "pca = PCA(n_components=5)\n",
    "pca.fit(df_scaled)\n",
    "\n",
    "print('고유 값: ', pca.singular_values_)\n",
    "print('분산 설명력: ', pca.explained_variance_ratio_)"
   ]
  },
  {
   "cell_type": "code",
   "execution_count": 77,
   "id": "cc13f83f",
   "metadata": {},
   "outputs": [
    {
     "data": {
      "image/png": "[encoded data removed]",
      "text/plain": [
       "<Figure size 432x288 with 1 Axes>"
      ]
     },
     "metadata": {
      "needs_background": "light"
     },
     "output_type": "display_data"
    }
   ],
   "source": [
    "plt.xlabel('Number of Components')\n",
    "plt.ylabel('Cumulative Explained Varinace')\n",
    "plt.plot(pca.explained_variance_ratio_, 'o-')\n",
    "plt.show()"
   ]
  },
  {
   "cell_type": "code",
   "execution_count": 78,
   "id": "8c92355d",
   "metadata": {},
   "outputs": [
    {
     "data": {
      "text/html": [
       "<div>\n",
       "<style scoped>\n",
       "    .dataframe tbody tr th:only-of-type {\n",
       "        vertical-align: middle;\n",
       "    }\n",
       "\n",
       "    .dataframe tbody tr th {\n",
       "        vertical-align: top;\n",
       "    }\n",
       "\n",
       "    .dataframe thead th {\n",
       "        text-align: right;\n",
       "    }\n",
       "</style>\n",
       "<table border=\"1\" class=\"dataframe\">\n",
       "  <thead>\n",
       "    <tr style=\"text-align: right;\">\n",
       "      <th></th>\n",
       "      <th>pc1</th>\n",
       "      <th>pc2</th>\n",
       "      <th>pc3</th>\n",
       "    </tr>\n",
       "  </thead>\n",
       "  <tbody>\n",
       "    <tr>\n",
       "      <th>0</th>\n",
       "      <td>91454.484633</td>\n",
       "      <td>9.996932</td>\n",
       "      <td>-6.044694</td>\n",
       "    </tr>\n",
       "    <tr>\n",
       "      <th>1</th>\n",
       "      <td>91108.494217</td>\n",
       "      <td>-79.436951</td>\n",
       "      <td>3.046617</td>\n",
       "    </tr>\n",
       "    <tr>\n",
       "      <th>2</th>\n",
       "      <td>91088.492243</td>\n",
       "      <td>-63.254726</td>\n",
       "      <td>-5.623375</td>\n",
       "    </tr>\n",
       "    <tr>\n",
       "      <th>3</th>\n",
       "      <td>91042.439065</td>\n",
       "      <td>449.564314</td>\n",
       "      <td>-5.627339</td>\n",
       "    </tr>\n",
       "    <tr>\n",
       "      <th>4</th>\n",
       "      <td>90840.491643</td>\n",
       "      <td>-57.467487</td>\n",
       "      <td>-6.021255</td>\n",
       "    </tr>\n",
       "    <tr>\n",
       "      <th>...</th>\n",
       "      <td>...</td>\n",
       "      <td>...</td>\n",
       "      <td>...</td>\n",
       "    </tr>\n",
       "    <tr>\n",
       "      <th>1188</th>\n",
       "      <td>-80751.508697</td>\n",
       "      <td>-62.261865</td>\n",
       "      <td>-0.761710</td>\n",
       "    </tr>\n",
       "    <tr>\n",
       "      <th>1189</th>\n",
       "      <td>-80773.505562</td>\n",
       "      <td>-92.776344</td>\n",
       "      <td>-0.660695</td>\n",
       "    </tr>\n",
       "    <tr>\n",
       "      <th>1190</th>\n",
       "      <td>-80814.509980</td>\n",
       "      <td>-50.048225</td>\n",
       "      <td>-0.981695</td>\n",
       "    </tr>\n",
       "    <tr>\n",
       "      <th>1191</th>\n",
       "      <td>-81024.520489</td>\n",
       "      <td>52.727274</td>\n",
       "      <td>2.389842</td>\n",
       "    </tr>\n",
       "    <tr>\n",
       "      <th>1192</th>\n",
       "      <td>-81161.505678</td>\n",
       "      <td>-91.404438</td>\n",
       "      <td>-0.589556</td>\n",
       "    </tr>\n",
       "  </tbody>\n",
       "</table>\n",
       "<p>1193 rows × 3 columns</p>\n",
       "</div>"
      ],
      "text/plain": [
       "               pc1         pc2       pc3\n",
       "0     91454.484633    9.996932 -6.044694\n",
       "1     91108.494217  -79.436951  3.046617\n",
       "2     91088.492243  -63.254726 -5.623375\n",
       "3     91042.439065  449.564314 -5.627339\n",
       "4     90840.491643  -57.467487 -6.021255\n",
       "...            ...         ...       ...\n",
       "1188 -80751.508697  -62.261865 -0.761710\n",
       "1189 -80773.505562  -92.776344 -0.660695\n",
       "1190 -80814.509980  -50.048225 -0.981695\n",
       "1191 -81024.520489   52.727274  2.389842\n",
       "1192 -81161.505678  -91.404438 -0.589556\n",
       "\n",
       "[1193 rows x 3 columns]"
      ]
     },
     "execution_count": 78,
     "metadata": {},
     "output_type": "execute_result"
    }
   ],
   "source": [
    "pca = PCA(n_components=3)\n",
    "principalComponents = pca.fit_transform(X)\n",
    "df_pca = pd.DataFrame(data= principalComponents, columns=['pc1','pc2','pc3'])\n",
    "df_pca"
   ]
  },
  {
   "cell_type": "markdown",
   "id": "6ca220fb",
   "metadata": {},
   "source": [
    "## 3번\n",
    "\n",
    "오버샘플링/언더샘플링 (1번이어서)\n",
    "\n",
    "3.1 장/단점 기술하고, 한 가지 추천\n",
    "\n",
    "3.2 추천한 한 가지를 실제로 수행하고 선택한 이유 설명\n",
    "\n",
    "3.3 현재까지 전처리한 데이터를 통해 모델 수행 후 결과 분석"
   ]
  },
  {
   "cell_type": "markdown",
   "id": "e4dff5e4",
   "metadata": {},
   "source": [
    "- 3.1 장/단점을 기술하고, 한 가지 추천\n",
    "답: 오버 샘플링 기법은 비중이 작은 데이터를 추가로 생성해 수를 늘려 데이터 불균형을 극복하는 방식이고 언더샘플링은 비중이 큰 데이터를 삭제해 데이터 불균형을 극복하는 방식이다. 언더 샘플링의 경우 데이터 손실 문제로 인해 예측 성능이 저하되는 단점이 있으므로 오버샘플링 기법을 선택한다."
   ]
  },
  {
   "cell_type": "code",
   "execution_count": 79,
   "id": "d189819a",
   "metadata": {},
   "outputs": [
    {
     "data": {
      "text/plain": [
       "0    993\n",
       "1    200\n",
       "Name: Class, dtype: int64"
      ]
     },
     "execution_count": 79,
     "metadata": {},
     "output_type": "execute_result"
    }
   ],
   "source": [
    "df.Class.value_counts()"
   ]
  },
  {
   "cell_type": "code",
   "execution_count": 80,
   "id": "f3f4e455",
   "metadata": {},
   "outputs": [
    {
     "name": "stdout",
     "output_type": "stream",
     "text": [
      "time:  0.004500150680541992\n"
     ]
    }
   ],
   "source": [
    "from imblearn.over_sampling import RandomOverSampler, SMOTE\n",
    "import time\n",
    "\n",
    "X = df.drop(['Class'],axis=1)\n",
    "y = df[['Class']]\n",
    "\n",
    "start= time.time()\n",
    "ros = RandomOverSampler(random_state=42)\n",
    "X_ros, y_ros = ros.fit_resample(X,y)\n",
    "print('time: ', time.time()-start)"
   ]
  },
  {
   "cell_type": "code",
   "execution_count": 81,
   "id": "8d3f23d1",
   "metadata": {},
   "outputs": [
    {
     "name": "stdout",
     "output_type": "stream",
     "text": [
      "time:  0.07699918746948242\n"
     ]
    }
   ],
   "source": [
    "start = time.time()\n",
    "sm = SMOTE(random_state= 42)\n",
    "X_sm, y_sm = sm.fit_resample(X,y)\n",
    "print('time: ', time.time()-start)"
   ]
  },
  {
   "cell_type": "code",
   "execution_count": 89,
   "id": "6b6d5d36",
   "metadata": {},
   "outputs": [],
   "source": [
    "from sklearn.model_selection import train_test_split\n",
    "from sklearn.ensemble import RandomForestClassifier\n",
    "from sklearn.linear_model import LogisticRegression\n",
    "from sklearn.metrics import classification_report\n",
    "from sklearn.metrics import confusion_matrix"
   ]
  },
  {
   "cell_type": "code",
   "execution_count": 90,
   "id": "8786047e",
   "metadata": {},
   "outputs": [
    {
     "name": "stdout",
     "output_type": "stream",
     "text": [
      "lr 모델 train 정확도:  0.9691435768261965\n",
      "              precision    recall  f1-score   support\n",
      "\n",
      "           0       0.95      0.99      0.97       199\n",
      "           1       0.99      0.95      0.97       199\n",
      "\n",
      "    accuracy                           0.97       398\n",
      "   macro avg       0.97      0.97      0.97       398\n",
      "weighted avg       0.97      0.97      0.97       398\n",
      "\n"
     ]
    }
   ],
   "source": [
    "X_train, X_test, y_train, y_test= train_test_split(X_sm,y_sm, test_size=0.2, stratify=y_sm, random_state=100)\n",
    "\n",
    "lr = LogisticRegression()\n",
    "lr.fit(X_train,y_train)\n",
    "print('lr 모델 train 정확도: ', lr.score(X_train,y_train))\n",
    "pred=lr.predict(X_test)\n",
    "print(classification_report(y_test, pred))\n"
   ]
  },
  {
   "cell_type": "code",
   "execution_count": 91,
   "id": "75660dc8",
   "metadata": {},
   "outputs": [
    {
     "name": "stdout",
     "output_type": "stream",
     "text": [
      "[[197   2]\n",
      " [ 10 189]]\n"
     ]
    }
   ],
   "source": [
    "print(confusion_matrix(y_test, pred))"
   ]
  },
  {
   "cell_type": "code",
   "execution_count": 92,
   "id": "41da3ca7",
   "metadata": {},
   "outputs": [
    {
     "name": "stdout",
     "output_type": "stream",
     "text": [
      "rf 모델 train 정확도:  0.993073047858942\n",
      "              precision    recall  f1-score   support\n",
      "\n",
      "           0       0.97      0.99      0.98       199\n",
      "           1       0.99      0.96      0.98       199\n",
      "\n",
      "    accuracy                           0.98       398\n",
      "   macro avg       0.98      0.98      0.98       398\n",
      "weighted avg       0.98      0.98      0.98       398\n",
      "\n"
     ]
    }
   ],
   "source": [
    "rf = RandomForestClassifier(n_estimators=100, min_samples_split=10)\n",
    "rf.fit(X_train, y_train)\n",
    "print('rf 모델 train 정확도: ', rf.score(X_train, y_train))\n",
    "pred=rf.predict(X_test)\n",
    "print(classification_report(y_test, pred))"
   ]
  },
  {
   "cell_type": "code",
   "execution_count": 93,
   "id": "8ca415cd",
   "metadata": {},
   "outputs": [
    {
     "name": "stdout",
     "output_type": "stream",
     "text": [
      "[[197   2]\n",
      " [  7 192]]\n"
     ]
    }
   ],
   "source": [
    "print(confusion_matrix(y_test, pred))"
   ]
  },
  {
   "cell_type": "markdown",
   "id": "ef50d418",
   "metadata": {},
   "source": [
    "## 4번\n",
    "\n",
    "이상탐지 (1번이어서)\n",
    "\n",
    "4.1 이상탐지 모델 2가지 이상 기술, 장/단점 설명\n",
    "\n",
    "4.2 2번에서 만든 데이터로 한 가지 이상탐지 모델을 구현하고, 3번에서 만든 모델과 비교\n",
    "\n",
    "4.3 데이터분석과 관점에서 3번에서 만든 모델과 4번에서 만든 모델 설명\n",
    "\n",
    "- 참조 :https://amaruak00.github.io/2022/12/17/adp27th.html"
   ]
  },
  {
   "cell_type": "code",
   "execution_count": 98,
   "id": "6c3b5a74",
   "metadata": {},
   "outputs": [
    {
     "data": {
      "text/html": [
       "<div>\n",
       "<style scoped>\n",
       "    .dataframe tbody tr th:only-of-type {\n",
       "        vertical-align: middle;\n",
       "    }\n",
       "\n",
       "    .dataframe tbody tr th {\n",
       "        vertical-align: top;\n",
       "    }\n",
       "\n",
       "    .dataframe thead th {\n",
       "        text-align: right;\n",
       "    }\n",
       "</style>\n",
       "<table border=\"1\" class=\"dataframe\">\n",
       "  <thead>\n",
       "    <tr style=\"text-align: right;\">\n",
       "      <th></th>\n",
       "      <th>pc1</th>\n",
       "      <th>pc2</th>\n",
       "      <th>pc3</th>\n",
       "    </tr>\n",
       "  </thead>\n",
       "  <tbody>\n",
       "    <tr>\n",
       "      <th>0</th>\n",
       "      <td>91454.484633</td>\n",
       "      <td>9.996932</td>\n",
       "      <td>-6.044694</td>\n",
       "    </tr>\n",
       "    <tr>\n",
       "      <th>1</th>\n",
       "      <td>91108.494217</td>\n",
       "      <td>-79.436951</td>\n",
       "      <td>3.046617</td>\n",
       "    </tr>\n",
       "    <tr>\n",
       "      <th>2</th>\n",
       "      <td>91088.492243</td>\n",
       "      <td>-63.254726</td>\n",
       "      <td>-5.623375</td>\n",
       "    </tr>\n",
       "    <tr>\n",
       "      <th>3</th>\n",
       "      <td>91042.439065</td>\n",
       "      <td>449.564314</td>\n",
       "      <td>-5.627339</td>\n",
       "    </tr>\n",
       "    <tr>\n",
       "      <th>4</th>\n",
       "      <td>90840.491643</td>\n",
       "      <td>-57.467487</td>\n",
       "      <td>-6.021255</td>\n",
       "    </tr>\n",
       "    <tr>\n",
       "      <th>...</th>\n",
       "      <td>...</td>\n",
       "      <td>...</td>\n",
       "      <td>...</td>\n",
       "    </tr>\n",
       "    <tr>\n",
       "      <th>1188</th>\n",
       "      <td>-80751.508697</td>\n",
       "      <td>-62.261865</td>\n",
       "      <td>-0.761710</td>\n",
       "    </tr>\n",
       "    <tr>\n",
       "      <th>1189</th>\n",
       "      <td>-80773.505562</td>\n",
       "      <td>-92.776344</td>\n",
       "      <td>-0.660695</td>\n",
       "    </tr>\n",
       "    <tr>\n",
       "      <th>1190</th>\n",
       "      <td>-80814.509980</td>\n",
       "      <td>-50.048225</td>\n",
       "      <td>-0.981695</td>\n",
       "    </tr>\n",
       "    <tr>\n",
       "      <th>1191</th>\n",
       "      <td>-81024.520489</td>\n",
       "      <td>52.727274</td>\n",
       "      <td>2.389842</td>\n",
       "    </tr>\n",
       "    <tr>\n",
       "      <th>1192</th>\n",
       "      <td>-81161.505678</td>\n",
       "      <td>-91.404438</td>\n",
       "      <td>-0.589556</td>\n",
       "    </tr>\n",
       "  </tbody>\n",
       "</table>\n",
       "<p>1193 rows × 3 columns</p>\n",
       "</div>"
      ],
      "text/plain": [
       "               pc1         pc2       pc3\n",
       "0     91454.484633    9.996932 -6.044694\n",
       "1     91108.494217  -79.436951  3.046617\n",
       "2     91088.492243  -63.254726 -5.623375\n",
       "3     91042.439065  449.564314 -5.627339\n",
       "4     90840.491643  -57.467487 -6.021255\n",
       "...            ...         ...       ...\n",
       "1188 -80751.508697  -62.261865 -0.761710\n",
       "1189 -80773.505562  -92.776344 -0.660695\n",
       "1190 -80814.509980  -50.048225 -0.981695\n",
       "1191 -81024.520489   52.727274  2.389842\n",
       "1192 -81161.505678  -91.404438 -0.589556\n",
       "\n",
       "[1193 rows x 3 columns]"
      ]
     },
     "execution_count": 98,
     "metadata": {},
     "output_type": "execute_result"
    }
   ],
   "source": [
    "df_pca"
   ]
  },
  {
   "cell_type": "code",
   "execution_count": 101,
   "id": "6192b88b",
   "metadata": {},
   "outputs": [
    {
     "name": "stdout",
     "output_type": "stream",
     "text": [
      "lr 모델 train 정확도:  0.9612159329140462\n",
      "              precision    recall  f1-score   support\n",
      "\n",
      "           0       0.99      0.97      0.98       199\n",
      "           1       0.88      0.95      0.92        40\n",
      "\n",
      "    accuracy                           0.97       239\n",
      "   macro avg       0.94      0.96      0.95       239\n",
      "weighted avg       0.97      0.97      0.97       239\n",
      "\n"
     ]
    }
   ],
   "source": [
    "X_train, X_test, y_train, y_test= train_test_split(df_pca,y, test_size=0.2, stratify=y, random_state=100)\n",
    "lr = LogisticRegression()\n",
    "lr.fit(X_train,y_train)\n",
    "print('lr 모델 train 정확도: ', lr.score(X_train,y_train))\n",
    "pred=lr.predict(X_test)\n",
    "print(classification_report(y_test, pred))"
   ]
  },
  {
   "cell_type": "code",
   "execution_count": 102,
   "id": "ed0d3d23",
   "metadata": {},
   "outputs": [
    {
     "name": "stdout",
     "output_type": "stream",
     "text": [
      "[[194   5]\n",
      " [  2  38]]\n"
     ]
    }
   ],
   "source": [
    "print(confusion_matrix(y_test, pred))"
   ]
  },
  {
   "cell_type": "code",
   "execution_count": 103,
   "id": "beca667c",
   "metadata": {},
   "outputs": [
    {
     "name": "stdout",
     "output_type": "stream",
     "text": [
      "rf 모델 train 정확도:  0.9706498951781971\n",
      "              precision    recall  f1-score   support\n",
      "\n",
      "           0       0.99      0.98      0.99       199\n",
      "           1       0.93      0.95      0.94        40\n",
      "\n",
      "    accuracy                           0.98       239\n",
      "   macro avg       0.96      0.97      0.96       239\n",
      "weighted avg       0.98      0.98      0.98       239\n",
      "\n"
     ]
    }
   ],
   "source": [
    "rf = RandomForestClassifier(n_estimators=100, min_samples_split=10)\n",
    "rf.fit(X_train, y_train)\n",
    "print('rf 모델 train 정확도: ', rf.score(X_train, y_train))\n",
    "pred=rf.predict(X_test)\n",
    "print(classification_report(y_test, pred))"
   ]
  },
  {
   "cell_type": "code",
   "execution_count": 104,
   "id": "c1b293d2",
   "metadata": {},
   "outputs": [
    {
     "name": "stdout",
     "output_type": "stream",
     "text": [
      "[[196   3]\n",
      " [  2  38]]\n"
     ]
    }
   ],
   "source": [
    "print(confusion_matrix(y_test, pred))"
   ]
  },
  {
   "cell_type": "markdown",
   "id": "b71538f2",
   "metadata": {},
   "source": [
    "## 5번\n",
    "\n",
    "2년 전 제품 생산량이 100,000개, 1년 전 제품 생산량이 150,000개, 그 후 팩토리 기술의 상승으로 제품 생산량이 250,000개 되었을 때, 연평균 상승률의 대푯값을 구하시오. (반올림하여 소수점 아래 둘째자리까지 표기하시오.)"
   ]
  },
  {
   "cell_type": "code",
   "execution_count": 109,
   "id": "d6d382b6",
   "metadata": {},
   "outputs": [
    {
     "data": {
      "text/plain": [
       "58.11"
      ]
     },
     "execution_count": 109,
     "metadata": {},
     "output_type": "execute_result"
    }
   ],
   "source": [
    "# 기하평균\n",
    "round((((15/10)*(25/15))**(1/2)-1)*100,2)"
   ]
  },
  {
   "cell_type": "markdown",
   "id": "2de9866f",
   "metadata": {},
   "source": [
    "## 6번\n",
    "12건의 광고 시간 측정. 평균 15.5초, 분산 3.2초 일때 90% 신뢰구간은?"
   ]
  },
  {
   "cell_type": "code",
   "execution_count": 113,
   "id": "3e471387",
   "metadata": {},
   "outputs": [
    {
     "data": {
      "text/plain": [
       "(14.572609067393861, 16.427390932606137)"
      ]
     },
     "execution_count": 113,
     "metadata": {},
     "output_type": "execute_result"
    }
   ],
   "source": [
    "from scipy import stats \n",
    "stats.t.interval(alpha=0.9, loc=15.5, scale=np.sqrt(3.2/12), df=12-1)"
   ]
  },
  {
   "cell_type": "markdown",
   "id": "8114b391",
   "metadata": {},
   "source": [
    "## 7번\n",
    "\n",
    "강의 상류와 하류의 생물 다양성 점수에 차이가 있는지 검정하시오. (단, 같은 강에서 상류와 하류는 서로 독립적이지 않으며, 종속적인 관계에 있다.)\n",
    "\n",
    "7.1 귀무가설과 대립가설을 세우시오\n",
    "\n",
    "7.2 검정 통계량과 유의 확률을 구하고, 연구가설 채택여부를 검정하시오."
   ]
  },
  {
   "cell_type": "code",
   "execution_count": 1,
   "id": "cf3b5c0c",
   "metadata": {},
   "outputs": [
    {
     "data": {
      "text/html": [
       "<div>\n",
       "<style scoped>\n",
       "    .dataframe tbody tr th:only-of-type {\n",
       "        vertical-align: middle;\n",
       "    }\n",
       "\n",
       "    .dataframe tbody tr th {\n",
       "        vertical-align: top;\n",
       "    }\n",
       "\n",
       "    .dataframe thead th {\n",
       "        text-align: right;\n",
       "    }\n",
       "</style>\n",
       "<table border=\"1\" class=\"dataframe\">\n",
       "  <thead>\n",
       "    <tr style=\"text-align: right;\">\n",
       "      <th></th>\n",
       "      <th>River</th>\n",
       "      <th>up</th>\n",
       "      <th>down</th>\n",
       "    </tr>\n",
       "  </thead>\n",
       "  <tbody>\n",
       "    <tr>\n",
       "      <th>0</th>\n",
       "      <td>A</td>\n",
       "      <td>57.1</td>\n",
       "      <td>45.7</td>\n",
       "    </tr>\n",
       "    <tr>\n",
       "      <th>1</th>\n",
       "      <td>B</td>\n",
       "      <td>51.6</td>\n",
       "      <td>37.2</td>\n",
       "    </tr>\n",
       "    <tr>\n",
       "      <th>2</th>\n",
       "      <td>C</td>\n",
       "      <td>53.9</td>\n",
       "      <td>53.3</td>\n",
       "    </tr>\n",
       "    <tr>\n",
       "      <th>3</th>\n",
       "      <td>D</td>\n",
       "      <td>59.0</td>\n",
       "      <td>54.3</td>\n",
       "    </tr>\n",
       "    <tr>\n",
       "      <th>4</th>\n",
       "      <td>E</td>\n",
       "      <td>57.5</td>\n",
       "      <td>46.3</td>\n",
       "    </tr>\n",
       "  </tbody>\n",
       "</table>\n",
       "</div>"
      ],
      "text/plain": [
       "  River    up  down\n",
       "0     A  57.1  45.7\n",
       "1     B  51.6  37.2\n",
       "2     C  53.9  53.3\n",
       "3     D  59.0  54.3\n",
       "4     E  57.5  46.3"
      ]
     },
     "execution_count": 1,
     "metadata": {},
     "output_type": "execute_result"
    }
   ],
   "source": [
    "import pandas as pd\n",
    "\n",
    "df= pd.read_csv('https://raw.githubusercontent.com/Datamanim/datarepo/main/adp/27/river.csv')\n",
    "df.head()"
   ]
  },
  {
   "cell_type": "code",
   "execution_count": 3,
   "id": "7269aae7",
   "metadata": {},
   "outputs": [],
   "source": [
    "# 7.1 귀무가설과 대립가설을 세우시오\n",
    "# 귀무가설: 강의 상류와 하류의 생물 다양성 점수에는 차이가 없다.\n",
    "# 대립가설: 강의 상류와 하류의 생물 다양성 점수에는 차이가 있다."
   ]
  },
  {
   "cell_type": "code",
   "execution_count": 6,
   "id": "9f1f715f",
   "metadata": {},
   "outputs": [
    {
     "name": "stdout",
     "output_type": "stream",
     "text": [
      "ShapiroResult(statistic=0.9635884165763855, pvalue=0.6447697877883911)\n",
      "ShapiroResult(statistic=0.9821230173110962, pvalue=0.9640804529190063)\n"
     ]
    }
   ],
   "source": [
    "# 7.2 검정 통계량과 유의확률을 구하고, 연구가설 채택여부를 검정하시오.\n",
    "from scipy import stats\n",
    "print(stats.shapiro(df['up']))\n",
    "print(stats.shapiro(df['down']))\n",
    "# 정규성 검정 결과 up, down 변수 모두 정규성을 만족한다."
   ]
  },
  {
   "cell_type": "code",
   "execution_count": 8,
   "id": "55e9aadd",
   "metadata": {},
   "outputs": [
    {
     "data": {
      "text/plain": [
       "Ttest_relResult(statistic=1.2922226959983891, pvalue=0.21262429174344777)"
      ]
     },
     "execution_count": 8,
     "metadata": {},
     "output_type": "execute_result"
    }
   ],
   "source": [
    "stats.ttest_rel(df['up'],df['down'],alternative='two-sided')\n",
    "# 검정통계량:1.2922226959983891, p-value: 0.21262429174344777\n",
    "# 검정결과 p-value가 0.05보다 크므로 귀무가설을 기각하지 못한다.\n",
    "# 즉 강의 상류와 하류의 생물 다양성 점수에는 차이가 없다."
   ]
  },
  {
   "cell_type": "markdown",
   "id": "79c34653",
   "metadata": {},
   "source": [
    "## 8번\n",
    "\n",
    "user_counts를 종속변수로 하는 데이터이다\n",
    "\n",
    "8.1 분위수 회귀분석 (Quantile Regression) 을 사용하여 회귀 계수를 구하시오. (반올림하여 소수점 아래 둘째자리까지 표기하시오.)\n",
    "\n",
    "8.2 8.1의 모델의 회귀계수를 활용하여 temperature : 10.5 , wind : 8.2 , precipitation : 3.5 일때 user_counts를 예측하시오"
   ]
  },
  {
   "cell_type": "code",
   "execution_count": 9,
   "id": "81e615c2",
   "metadata": {},
   "outputs": [
    {
     "data": {
      "text/html": [
       "<div>\n",
       "<style scoped>\n",
       "    .dataframe tbody tr th:only-of-type {\n",
       "        vertical-align: middle;\n",
       "    }\n",
       "\n",
       "    .dataframe tbody tr th {\n",
       "        vertical-align: top;\n",
       "    }\n",
       "\n",
       "    .dataframe thead th {\n",
       "        text-align: right;\n",
       "    }\n",
       "</style>\n",
       "<table border=\"1\" class=\"dataframe\">\n",
       "  <thead>\n",
       "    <tr style=\"text-align: right;\">\n",
       "      <th></th>\n",
       "      <th>temperature</th>\n",
       "      <th>wind</th>\n",
       "      <th>precipitation</th>\n",
       "      <th>user_counts</th>\n",
       "    </tr>\n",
       "  </thead>\n",
       "  <tbody>\n",
       "    <tr>\n",
       "      <th>0</th>\n",
       "      <td>10.400000</td>\n",
       "      <td>4.600</td>\n",
       "      <td>0.844944</td>\n",
       "      <td>6368</td>\n",
       "    </tr>\n",
       "    <tr>\n",
       "      <th>1</th>\n",
       "      <td>5.666667</td>\n",
       "      <td>4.625</td>\n",
       "      <td>0.040860</td>\n",
       "      <td>5902</td>\n",
       "    </tr>\n",
       "    <tr>\n",
       "      <th>2</th>\n",
       "      <td>4.933333</td>\n",
       "      <td>4.725</td>\n",
       "      <td>0.008696</td>\n",
       "      <td>6226</td>\n",
       "    </tr>\n",
       "    <tr>\n",
       "      <th>3</th>\n",
       "      <td>3.400000</td>\n",
       "      <td>2.675</td>\n",
       "      <td>0.156989</td>\n",
       "      <td>5829</td>\n",
       "    </tr>\n",
       "    <tr>\n",
       "      <th>4</th>\n",
       "      <td>8.900000</td>\n",
       "      <td>3.950</td>\n",
       "      <td>7.988462</td>\n",
       "      <td>7589</td>\n",
       "    </tr>\n",
       "  </tbody>\n",
       "</table>\n",
       "</div>"
      ],
      "text/plain": [
       "   temperature   wind  precipitation  user_counts\n",
       "0    10.400000  4.600       0.844944         6368\n",
       "1     5.666667  4.625       0.040860         5902\n",
       "2     4.933333  4.725       0.008696         6226\n",
       "3     3.400000  2.675       0.156989         5829\n",
       "4     8.900000  3.950       7.988462         7589"
      ]
     },
     "execution_count": 9,
     "metadata": {},
     "output_type": "execute_result"
    }
   ],
   "source": [
    "import pandas as pd\n",
    "\n",
    "df= pd.read_csv('https://raw.githubusercontent.com/Datamanim/datarepo/main/adp/27/problem8.csv')\n",
    "df.head()"
   ]
  },
  {
   "cell_type": "code",
   "execution_count": 42,
   "id": "51ce2464",
   "metadata": {},
   "outputs": [
    {
     "data": {
      "text/html": [
       "<table class=\"simpletable\">\n",
       "<caption>QuantReg Regression Results</caption>\n",
       "<tr>\n",
       "  <th>Dep. Variable:</th>    <td>user_counts</td>   <th>  Pseudo R-squared:  </th> <td>  0.3723</td>\n",
       "</tr>\n",
       "<tr>\n",
       "  <th>Model:</th>             <td>QuantReg</td>     <th>  Bandwidth:         </th> <td>   840.9</td>\n",
       "</tr>\n",
       "<tr>\n",
       "  <th>Method:</th>          <td>Least Squares</td>  <th>  Sparsity:          </th> <td>   5590.</td>\n",
       "</tr>\n",
       "<tr>\n",
       "  <th>Date:</th>          <td>Tue, 28 Feb 2023</td> <th>  No. Observations:  </th>  <td>  2097</td> \n",
       "</tr>\n",
       "<tr>\n",
       "  <th>Time:</th>              <td>14:42:56</td>     <th>  Df Residuals:      </th>  <td>  2093</td> \n",
       "</tr>\n",
       "<tr>\n",
       "  <th> </th>                      <td> </td>        <th>  Df Model:          </th>  <td>     3</td> \n",
       "</tr>\n",
       "</table>\n",
       "<table class=\"simpletable\">\n",
       "<tr>\n",
       "        <td></td>           <th>coef</th>     <th>std err</th>      <th>t</th>      <th>P>|t|</th>  <th>[0.025</th>    <th>0.975]</th>  \n",
       "</tr>\n",
       "<tr>\n",
       "  <th>Intercept</th>     <td> 5941.8395</td> <td>  198.127</td> <td>   29.990</td> <td> 0.000</td> <td> 5553.293</td> <td> 6330.386</td>\n",
       "</tr>\n",
       "<tr>\n",
       "  <th>temperature</th>   <td>  268.8920</td> <td>    6.571</td> <td>   40.918</td> <td> 0.000</td> <td>  256.005</td> <td>  281.779</td>\n",
       "</tr>\n",
       "<tr>\n",
       "  <th>wind</th>          <td> -129.4050</td> <td>   46.259</td> <td>   -2.797</td> <td> 0.005</td> <td> -220.124</td> <td>  -38.686</td>\n",
       "</tr>\n",
       "<tr>\n",
       "  <th>precipitation</th> <td>  -83.3843</td> <td>    7.891</td> <td>  -10.567</td> <td> 0.000</td> <td>  -98.859</td> <td>  -67.910</td>\n",
       "</tr>\n",
       "</table>"
      ],
      "text/plain": [
       "<class 'statsmodels.iolib.summary.Summary'>\n",
       "\"\"\"\n",
       "                         QuantReg Regression Results                          \n",
       "==============================================================================\n",
       "Dep. Variable:            user_counts   Pseudo R-squared:               0.3723\n",
       "Model:                       QuantReg   Bandwidth:                       840.9\n",
       "Method:                 Least Squares   Sparsity:                        5590.\n",
       "Date:                Tue, 28 Feb 2023   No. Observations:                 2097\n",
       "Time:                        14:42:56   Df Residuals:                     2093\n",
       "                                        Df Model:                            3\n",
       "=================================================================================\n",
       "                    coef    std err          t      P>|t|      [0.025      0.975]\n",
       "---------------------------------------------------------------------------------\n",
       "Intercept      5941.8395    198.127     29.990      0.000    5553.293    6330.386\n",
       "temperature     268.8920      6.571     40.918      0.000     256.005     281.779\n",
       "wind           -129.4050     46.259     -2.797      0.005    -220.124     -38.686\n",
       "precipitation   -83.3843      7.891    -10.567      0.000     -98.859     -67.910\n",
       "=================================================================================\n",
       "\"\"\""
      ]
     },
     "execution_count": 42,
     "metadata": {},
     "output_type": "execute_result"
    }
   ],
   "source": [
    "import statsmodels.formula.api as smf\n",
    "import statsmodels.api as sm\n",
    "formula = 'user_counts~temperature+wind+precipitation'\n",
    "model=smf.quantreg(formula= formula, data = df).fit(q=0.5)\n",
    "\n",
    "model.summary()\n",
    "# y = 5941.84+ 268.89*temperature -129.40 * wind -83.38*precipitation"
   ]
  },
  {
   "cell_type": "code",
   "execution_count": 43,
   "id": "07de286f",
   "metadata": {},
   "outputs": [
    {
     "data": {
      "text/plain": [
       "7412.275"
      ]
     },
     "execution_count": 43,
     "metadata": {},
     "output_type": "execute_result"
    }
   ],
   "source": [
    "# 8.2\n",
    "y = 5941.84+ 268.89*10.5 -129.40 * 8.2 -83.38*3.5\n",
    "y"
   ]
  },
  {
   "cell_type": "code",
   "execution_count": 47,
   "id": "a95d24be",
   "metadata": {},
   "outputs": [
    {
     "data": {
      "text/plain": [
       "array([10.5,  8.2,  3.5])"
      ]
     },
     "execution_count": 47,
     "metadata": {},
     "output_type": "execute_result"
    }
   ],
   "source": [
    "data"
   ]
  },
  {
   "cell_type": "code",
   "execution_count": 49,
   "id": "2cf9abd0",
   "metadata": {},
   "outputs": [
    {
     "data": {
      "text/html": [
       "<table class=\"simpletable\">\n",
       "<caption>QuantReg Regression Results</caption>\n",
       "<tr>\n",
       "  <th>Dep. Variable:</th>    <td>user_counts</td>   <th>  Pseudo R-squared:  </th> <td>  0.3723</td>\n",
       "</tr>\n",
       "<tr>\n",
       "  <th>Model:</th>             <td>QuantReg</td>     <th>  Bandwidth:         </th> <td>   840.9</td>\n",
       "</tr>\n",
       "<tr>\n",
       "  <th>Method:</th>          <td>Least Squares</td>  <th>  Sparsity:          </th> <td>   5590.</td>\n",
       "</tr>\n",
       "<tr>\n",
       "  <th>Date:</th>          <td>Tue, 28 Feb 2023</td> <th>  No. Observations:  </th>  <td>  2097</td> \n",
       "</tr>\n",
       "<tr>\n",
       "  <th>Time:</th>              <td>14:45:50</td>     <th>  Df Residuals:      </th>  <td>  2093</td> \n",
       "</tr>\n",
       "<tr>\n",
       "  <th> </th>                      <td> </td>        <th>  Df Model:          </th>  <td>     3</td> \n",
       "</tr>\n",
       "</table>\n",
       "<table class=\"simpletable\">\n",
       "<tr>\n",
       "        <td></td>           <th>coef</th>     <th>std err</th>      <th>t</th>      <th>P>|t|</th>  <th>[0.025</th>    <th>0.975]</th>  \n",
       "</tr>\n",
       "<tr>\n",
       "  <th>Intercept</th>     <td> 5941.8395</td> <td>  198.127</td> <td>   29.990</td> <td> 0.000</td> <td> 5553.293</td> <td> 6330.386</td>\n",
       "</tr>\n",
       "<tr>\n",
       "  <th>temperature</th>   <td>  268.8920</td> <td>    6.571</td> <td>   40.918</td> <td> 0.000</td> <td>  256.005</td> <td>  281.779</td>\n",
       "</tr>\n",
       "<tr>\n",
       "  <th>wind</th>          <td> -129.4050</td> <td>   46.259</td> <td>   -2.797</td> <td> 0.005</td> <td> -220.124</td> <td>  -38.686</td>\n",
       "</tr>\n",
       "<tr>\n",
       "  <th>precipitation</th> <td>  -83.3843</td> <td>    7.891</td> <td>  -10.567</td> <td> 0.000</td> <td>  -98.859</td> <td>  -67.910</td>\n",
       "</tr>\n",
       "</table>"
      ],
      "text/plain": [
       "<class 'statsmodels.iolib.summary.Summary'>\n",
       "\"\"\"\n",
       "                         QuantReg Regression Results                          \n",
       "==============================================================================\n",
       "Dep. Variable:            user_counts   Pseudo R-squared:               0.3723\n",
       "Model:                       QuantReg   Bandwidth:                       840.9\n",
       "Method:                 Least Squares   Sparsity:                        5590.\n",
       "Date:                Tue, 28 Feb 2023   No. Observations:                 2097\n",
       "Time:                        14:45:50   Df Residuals:                     2093\n",
       "                                        Df Model:                            3\n",
       "=================================================================================\n",
       "                    coef    std err          t      P>|t|      [0.025      0.975]\n",
       "---------------------------------------------------------------------------------\n",
       "Intercept      5941.8395    198.127     29.990      0.000    5553.293    6330.386\n",
       "temperature     268.8920      6.571     40.918      0.000     256.005     281.779\n",
       "wind           -129.4050     46.259     -2.797      0.005    -220.124     -38.686\n",
       "precipitation   -83.3843      7.891    -10.567      0.000     -98.859     -67.910\n",
       "=================================================================================\n",
       "\"\"\""
      ]
     },
     "execution_count": 49,
     "metadata": {},
     "output_type": "execute_result"
    }
   ],
   "source": [
    "model.summary()"
   ]
  },
  {
   "cell_type": "code",
   "execution_count": 50,
   "id": "4e639136",
   "metadata": {},
   "outputs": [
    {
     "data": {
      "text/html": [
       "<div>\n",
       "<style scoped>\n",
       "    .dataframe tbody tr th:only-of-type {\n",
       "        vertical-align: middle;\n",
       "    }\n",
       "\n",
       "    .dataframe tbody tr th {\n",
       "        vertical-align: top;\n",
       "    }\n",
       "\n",
       "    .dataframe thead th {\n",
       "        text-align: right;\n",
       "    }\n",
       "</style>\n",
       "<table border=\"1\" class=\"dataframe\">\n",
       "  <thead>\n",
       "    <tr style=\"text-align: right;\">\n",
       "      <th></th>\n",
       "      <th>temperature</th>\n",
       "      <th>wind</th>\n",
       "      <th>precipitation</th>\n",
       "      <th>user_counts</th>\n",
       "    </tr>\n",
       "  </thead>\n",
       "  <tbody>\n",
       "    <tr>\n",
       "      <th>0</th>\n",
       "      <td>10.400000</td>\n",
       "      <td>4.600000</td>\n",
       "      <td>0.844944</td>\n",
       "      <td>6368</td>\n",
       "    </tr>\n",
       "    <tr>\n",
       "      <th>1</th>\n",
       "      <td>5.666667</td>\n",
       "      <td>4.625000</td>\n",
       "      <td>0.040860</td>\n",
       "      <td>5902</td>\n",
       "    </tr>\n",
       "    <tr>\n",
       "      <th>2</th>\n",
       "      <td>4.933333</td>\n",
       "      <td>4.725000</td>\n",
       "      <td>0.008696</td>\n",
       "      <td>6226</td>\n",
       "    </tr>\n",
       "    <tr>\n",
       "      <th>3</th>\n",
       "      <td>3.400000</td>\n",
       "      <td>2.675000</td>\n",
       "      <td>0.156989</td>\n",
       "      <td>5829</td>\n",
       "    </tr>\n",
       "    <tr>\n",
       "      <th>4</th>\n",
       "      <td>8.900000</td>\n",
       "      <td>3.950000</td>\n",
       "      <td>7.988462</td>\n",
       "      <td>7589</td>\n",
       "    </tr>\n",
       "    <tr>\n",
       "      <th>...</th>\n",
       "      <td>...</td>\n",
       "      <td>...</td>\n",
       "      <td>...</td>\n",
       "      <td>...</td>\n",
       "    </tr>\n",
       "    <tr>\n",
       "      <th>2092</th>\n",
       "      <td>3.500000</td>\n",
       "      <td>2.100000</td>\n",
       "      <td>0.024096</td>\n",
       "      <td>5430</td>\n",
       "    </tr>\n",
       "    <tr>\n",
       "      <th>2093</th>\n",
       "      <td>8.233333</td>\n",
       "      <td>2.000000</td>\n",
       "      <td>16.843820</td>\n",
       "      <td>2125</td>\n",
       "    </tr>\n",
       "    <tr>\n",
       "      <th>2094</th>\n",
       "      <td>9.500000</td>\n",
       "      <td>3.666667</td>\n",
       "      <td>11.550575</td>\n",
       "      <td>6008</td>\n",
       "    </tr>\n",
       "    <tr>\n",
       "      <th>2095</th>\n",
       "      <td>4.800000</td>\n",
       "      <td>1.200000</td>\n",
       "      <td>0.104651</td>\n",
       "      <td>4929</td>\n",
       "    </tr>\n",
       "    <tr>\n",
       "      <th>2096</th>\n",
       "      <td>4.166667</td>\n",
       "      <td>1.466667</td>\n",
       "      <td>2.088235</td>\n",
       "      <td>2401</td>\n",
       "    </tr>\n",
       "  </tbody>\n",
       "</table>\n",
       "<p>2097 rows × 4 columns</p>\n",
       "</div>"
      ],
      "text/plain": [
       "      temperature      wind  precipitation  user_counts\n",
       "0       10.400000  4.600000       0.844944         6368\n",
       "1        5.666667  4.625000       0.040860         5902\n",
       "2        4.933333  4.725000       0.008696         6226\n",
       "3        3.400000  2.675000       0.156989         5829\n",
       "4        8.900000  3.950000       7.988462         7589\n",
       "...           ...       ...            ...          ...\n",
       "2092     3.500000  2.100000       0.024096         5430\n",
       "2093     8.233333  2.000000      16.843820         2125\n",
       "2094     9.500000  3.666667      11.550575         6008\n",
       "2095     4.800000  1.200000       0.104651         4929\n",
       "2096     4.166667  1.466667       2.088235         2401\n",
       "\n",
       "[2097 rows x 4 columns]"
      ]
     },
     "execution_count": 50,
     "metadata": {},
     "output_type": "execute_result"
    }
   ],
   "source": [
    "df"
   ]
  },
  {
   "cell_type": "code",
   "execution_count": 55,
   "id": "72fffd58",
   "metadata": {},
   "outputs": [
    {
     "data": {
      "text/html": [
       "<div>\n",
       "<style scoped>\n",
       "    .dataframe tbody tr th:only-of-type {\n",
       "        vertical-align: middle;\n",
       "    }\n",
       "\n",
       "    .dataframe tbody tr th {\n",
       "        vertical-align: top;\n",
       "    }\n",
       "\n",
       "    .dataframe thead th {\n",
       "        text-align: right;\n",
       "    }\n",
       "</style>\n",
       "<table border=\"1\" class=\"dataframe\">\n",
       "  <thead>\n",
       "    <tr style=\"text-align: right;\">\n",
       "      <th></th>\n",
       "      <th>temperature</th>\n",
       "      <th>wind</th>\n",
       "      <th>precipitation</th>\n",
       "    </tr>\n",
       "  </thead>\n",
       "  <tbody>\n",
       "    <tr>\n",
       "      <th>0</th>\n",
       "      <td>10.5</td>\n",
       "      <td>8.2</td>\n",
       "      <td>3.8</td>\n",
       "    </tr>\n",
       "  </tbody>\n",
       "</table>\n",
       "</div>"
      ],
      "text/plain": [
       "   temperature  wind  precipitation\n",
       "0         10.5   8.2            3.8"
      ]
     },
     "execution_count": 55,
     "metadata": {},
     "output_type": "execute_result"
    }
   ],
   "source": [
    "df1 = pd.DataFrame({'temperature':[10.5], 'wind':[8.2], 'precipitation':[3.8]})\n",
    "df1"
   ]
  },
  {
   "cell_type": "code",
   "execution_count": 56,
   "id": "2dc3dfe2",
   "metadata": {},
   "outputs": [
    {
     "data": {
      "text/plain": [
       "0    7387.224253\n",
       "dtype: float64"
      ]
     },
     "execution_count": 56,
     "metadata": {},
     "output_type": "execute_result"
    }
   ],
   "source": [
    "model.predict(df1)"
   ]
  },
  {
   "cell_type": "markdown",
   "id": "6705d66d",
   "metadata": {},
   "source": [
    "## 9번\n",
    "\n",
    "지하철 호선과 월별, 승객 수 간 상관관계가 있는지 확인(Type III Anova 사용) - Type ||| Anova는 불균형 자료일 때 사용\n",
    "\n",
    "9.1 귀무가설과 대립가설 설정하라\n",
    "\n",
    "9.2 통계량을 구하고, 대립가설 채택여부를 기술하라"
   ]
  },
  {
   "cell_type": "code",
   "execution_count": 57,
   "id": "82d01ac9",
   "metadata": {},
   "outputs": [],
   "source": [
    "# 귀무가설: 지하철 호선과 월 변수의 상호작용 효과가 없다.\n",
    "# 귀무가설2: 지하철 호선에 따른 승객 수의 값에는 차이가 없다.\n",
    "# 귀무가설3: 월에 따른 승객 수의 값에는 차이가 없다.\n",
    "# 연구가설: 지하철 호선과 월 변수의 상호작용 효과가 있다.\n",
    "# 연구가설2: 지하철 호선에 다른 승객 수 값에는 차이가 있다.\n",
    "# 연구가설3: 월에 따른 승객 수의 값에는 차이가 있다."
   ]
  },
  {
   "cell_type": "code",
   "execution_count": null,
   "id": "fc03edbb",
   "metadata": {},
   "outputs": [],
   "source": [
    "# 9.2 데이터가 없어서 이만...\n"
   ]
  }
 ],
 "metadata": {
  "kernelspec": {
   "display_name": "Python 3 (ipykernel)",
   "language": "python",
   "name": "python3"
  },
  "language_info": {
   "codemirror_mode": {
    "name": "ipython",
    "version": 3
   },
   "file_extension": ".py",
   "mimetype": "text/x-python",
   "name": "python",
   "nbconvert_exporter": "python",
   "pygments_lexer": "ipython3",
   "version": "3.9.12"
  }
 },
 "nbformat": 4,
 "nbformat_minor": 5
}
